{
 "cells": [
  {
   "cell_type": "markdown",
   "metadata": {
    "colab_type": "text",
    "id": "-lTF-NZxR3p8"
   },
   "source": [
    "# Assignment 6\n",
    "### Multiple Regression"
   ]
  },
  {
   "cell_type": "markdown",
   "metadata": {
    "colab_type": "text",
    "id": "dHAIIUstR3p_"
   },
   "source": [
    "### Dataset"
   ]
  },
  {
   "cell_type": "markdown",
   "metadata": {
    "colab_type": "text",
    "id": "6tcatmpfR3qA"
   },
   "source": [
    "Course evaluations are used to obtain anonymous feedback about a course in order to improve it. However, the use of course evaluations as an indicator of course quality and teaching effectiveness is often criticized because these measures may reflect the influence of non-teaching related characteristics, such as the physical appearance of the instructor. [A paper from 2005](http://www.sciencedirect.com/science/article/pii/S0272775704001165) found that instructors who are viewed to be better looking receive higher instructional ratings.\n",
    "\n",
    "In this practical we will have a look at this data, and perform multiple regression to see if there is any indication that this is true."
   ]
  },
  {
   "cell_type": "code",
   "execution_count": 12,
   "metadata": {
    "colab": {},
    "colab_type": "code",
    "id": "iUh4vyblR3qA"
   },
   "outputs": [],
   "source": [
    "import pandas as pd\n",
    "import numpy as np\n",
    "import matplotlib.pyplot as plt\n",
    "import seaborn as sns\n",
    "import statsmodels.api as sm\n",
    "from scipy.stats import probplot\n",
    "\n",
    "sns.set_style(\"whitegrid\")"
   ]
  },
  {
   "cell_type": "code",
   "execution_count": null,
   "metadata": {
    "colab": {
     "base_uri": "https://localhost:8080/",
     "height": 309
    },
    "colab_type": "code",
    "id": "Qtv593cbR3qE",
    "outputId": "5b33dc01-29bb-43b2-c6a5-99968a67ce4b"
   },
   "outputs": [],
   "source": [
    "courseEval = pd.read_csv('CourseEvaluations.csv')\n",
    "courseEval.head()"
   ]
  },
  {
   "cell_type": "markdown",
   "metadata": {
    "colab_type": "text",
    "id": "uIFxsmp1x-PZ"
   },
   "source": [
    "### Beauty influencing score\n",
    "\n",
    "The conclusion of the paper was that the perceived beauty of the lecturer has an influence on the score given in the course evaluations. First, we will create a simple model (linear regression) between `bty_avg` and `score`"
   ]
  },
  {
   "cell_type": "markdown",
   "metadata": {
    "colab_type": "text",
    "id": "iL6-50AdgA1s"
   },
   "source": [
    "## Exercise 1\n",
    "\n",
    "1. Create a linear regression model of `bty_avg` predicting `score`. \n",
    "2. Plot the data with regression line.\n",
    "3. Write down the obtained regression equation and the adjusted $R^{2}$ value.<div style=\"text-align: right\"> **3 points** </div>"
   ]
  },
  {
   "cell_type": "code",
   "execution_count": null,
   "metadata": {
    "colab": {},
    "colab_type": "code",
    "id": "w7XrjGlPzMyt"
   },
   "outputs": [],
   "source": [
    "# your code/answer here\n",
    "# score is the dependent variable (response) and bty_avg is the independent (predictor)\n",
    "def print_question(question_number, sep_line_width = 78):\n",
    "    print(f\"Question {question_number}\")\n",
    "    print(sep_line_width * \"=\")\n",
    "    \n",
    "print_question(1)\n",
    "print(\"\")\n",
    "formula_string = \"score ~ bty_avg\"\n",
    "\n",
    "model = sm.formula.ols(formula=formula_string, data=courseEval)\n",
    "model_fitted = model.fit()\n",
    "\n",
    "print(model_fitted.summary())\n",
    "\n",
    "plt.figure(figsize=(10, 6))\n",
    "sns.regplot(data=courseEval, x='bty_avg', y='score')\n",
    "plt.title('score vs bty_avg')\n",
    "plt.show()\n",
    "\n",
    "print(f\"The regression equation is: score = {model_fitted.params['Intercept']:.4f} + {model_fitted.params['bty_avg']:.4f} x bty_avg\")\n",
    "print(f\"The adjusted R^2 value is {model_fitted.rsquared_adj:.4f}\")"
   ]
  },
  {
   "cell_type": "markdown",
   "metadata": {
    "colab_type": "text",
    "id": "r4xrZgP0gII9"
   },
   "source": [
    "### **Adding more variables and dummy coding**\n",
    "\n",
    "More variables, other than `bty_avg`, can have an impact on the `score`. But instead of looking at these variables separately, we can create a multiple regression model with more than one explanatory variable. The next variable that we will add is `gender`.\n",
    "\n",
    "The problem with the `gender` variable is that it is a nominal variable (male/female). In order to use this for regression we need to convert these levels into a numerical variable with the values 0 and 1, called an **indicator variable** (also refered to as a dummy variable)."
   ]
  },
  {
   "cell_type": "code",
   "execution_count": null,
   "metadata": {
    "colab": {},
    "colab_type": "code",
    "id": "29_lblG9gxqY"
   },
   "outputs": [],
   "source": [
    "dummy_coding = {'male': 0, 'female': 1}\n",
    "gender_dummy = courseEval['gender'].copy()\n",
    "gender_dummy = gender_dummy.replace(dummy_coding)\n",
    "courseEval['gender_dummy']=gender_dummy\n",
    "courseEval.tail"
   ]
  },
  {
   "cell_type": "markdown",
   "metadata": {
    "colab_type": "text",
    "id": "cDPlAHc7Ipnu"
   },
   "source": [
    "## Exercise 2\n",
    "\n",
    "Now, the dummy coding has been applied. \n",
    "\n",
    "1. Create and fit a model with `bty_avg` and `gender_dummy` predicting the `score` variable. (Hint: you can use the + sign in the formula string to add multiple explanatory variables to your model). \n",
    "2. Again, write down the formula and the adjusted $R^{2}$. \n",
    "3. Do you think the model with gender and perceived beauty is a better model than the model with beauty alone? Justify your answer.<div style=\"text-align: right\"> **3 points** </div>"
   ]
  },
  {
   "cell_type": "code",
   "execution_count": 16,
   "metadata": {
    "colab": {},
    "colab_type": "code",
    "id": "Z9L3RDEAIpnu"
   },
   "outputs": [],
   "source": [
    "# your code/answer here"
   ]
  },
  {
   "cell_type": "markdown",
   "metadata": {
    "colab_type": "text",
    "id": "vH35v2uKIpn0"
   },
   "source": [
    "## Exercise 3\n",
    "\n",
    "1. Plot (in a scatterplot) `bty_avg` vs `score`, and draw 2 lines in them, one for `male` and one for the `female`. (Hint: first create two separate equations for males and females). Make sure the 2 groups and lines have different colors and add a legend so you know which color represents which group. \n",
    "2. If two professors had the same beauty score, did the `male` or `female` tend to have a higher score?<div style=\"text-align: right\"> **5 points** </div>"
   ]
  },
  {
   "cell_type": "code",
   "execution_count": 17,
   "metadata": {
    "colab": {},
    "colab_type": "code",
    "id": "29ioxLNpIpn0"
   },
   "outputs": [],
   "source": [
    "# your code/answer here"
   ]
  },
  {
   "cell_type": "markdown",
   "metadata": {
    "colab_type": "text",
    "id": "JKPAK-Jrje9U"
   },
   "source": [
    "## Exercise 4\n",
    "P-values and parameter estimates should only be trusted if the conditions for the regression are reasonable. Verify that the conditions for this model are reasonable using diagnostic plots. To check the model conditions you will need to make the following plots (see page 271 of the book for more details about assumptions and example plots): \n",
    "1. scatterplot of the (absolute value) residuals (y-axis) against the predicted values (x-axis)\n",
    "2. a histogram and QQ-plot of the residuals\n",
    "3. scatterplot of the residuals (y-axis) against the order of collection (x-axis) \n",
    "4. scatterplots of the residuals (y-axis) against each of the explanatory variables (x-axis)\n",
    "\n",
    "Make sure you use subplots (plt.subplot) to order these plots in a structured  manner. All plots must have a title and labels for the x and y-axis.\n",
    "\n",
    "5. For each of the plots, describe whether the assumptions of multiple regression are met, or not.<div style=\"text-align: right\"> **9 points** </div>"
   ]
  },
  {
   "cell_type": "code",
   "execution_count": 18,
   "metadata": {},
   "outputs": [],
   "source": [
    "# your code/answer here"
   ]
  },
  {
   "cell_type": "markdown",
   "metadata": {
    "colab_type": "text",
    "id": "cifZd7EzmNTx"
   },
   "source": [
    "### The search for the best model \n",
    "Now we will incorporate more predictors into the regression model. We will start with a full model that predicts professor score based on  ethnicity, gender, language of the university where they got their degree (language), age, proportion of students that filled out evaluations (cls_perc_eval), class size (cls_students), course level (cls_level), number of professors (cls_profs), number of credits (cls_credits), average beauty rating (bty_avg), outfit (pic_outfit), and picture color (pic_color)."
   ]
  },
  {
   "cell_type": "code",
   "execution_count": null,
   "metadata": {
    "colab": {
     "base_uri": "https://localhost:8080/",
     "height": 663
    },
    "colab_type": "code",
    "id": "DHN5_vz9mRgY",
    "outputId": "2f3e1034-745b-4aa6-bb70-48d9f6e8f21a"
   },
   "outputs": [],
   "source": [
    "m_full = sm.formula.ols(formula = 'score ~ ethnicity + gender + language + age + cls_perc_eval + cls_students + cls_level + cls_profs + cls_credits + bty_avg + pic_outfit + pic_color', data = courseEval)\n",
    "multi_reg = m_full.fit()\n",
    "print(multi_reg.summary())"
   ]
  },
  {
   "cell_type": "markdown",
   "metadata": {
    "colab_type": "text",
    "id": "LInSO69omkGb"
   },
   "source": [
    "## Exercise 5\n",
    "Interpret the coefficient associated with the ethnicity variable.<div style=\"text-align: right\"> **2 points** </div>"
   ]
  },
  {
   "cell_type": "markdown",
   "metadata": {
    "colab_type": "text",
    "id": "JmwWcOfFmlsX"
   },
   "source": [
    "## Exercise 6\n",
    "One of the things that makes multiple regression interesting, but also difficult, is that coefficient estimates depend on the other variables that are included in the model.\n",
    "\n",
    "1. Drop the variable with the largest p-value and re-fit the model. \n",
    "2. Did the coefficients and significance of the other explanatory variables change?  \n",
    "3. What happened to `ethnicity`? Describe and interpret your observations in terms of collinearity with the other explanatory variables.<div style=\"text-align: right\"> **3 points** </div>"
   ]
  },
  {
   "cell_type": "code",
   "execution_count": 20,
   "metadata": {
    "colab": {},
    "colab_type": "code",
    "id": "Z1icR44Zn1A2"
   },
   "outputs": [],
   "source": [
    "# your code/answer here"
   ]
  },
  {
   "cell_type": "markdown",
   "metadata": {
    "colab_type": "text",
    "id": "KDk9QIXymths"
   },
   "source": [
    "## Exercise 7\n",
    "Using backward-selection and p-value as the selection criterion, determine the best model. \n",
    "1. Describe the order in which you removed predictor variables.\n",
    "2. Show the output for the final model. <div style=\"text-align: right\"> **2 points** </div>"
   ]
  },
  {
   "cell_type": "code",
   "execution_count": 21,
   "metadata": {
    "colab": {},
    "colab_type": "code",
    "id": "loYH_Vivo1EV"
   },
   "outputs": [],
   "source": [
    "# your code/answer here"
   ]
  },
  {
   "cell_type": "markdown",
   "metadata": {
    "colab_type": "text",
    "id": "wajRdZ1pm35R"
   },
   "source": [
    "## Exercise 8\n",
    "Verify that the conditions for this reduced, final model are reasonable using diagnostic plots.\n",
    "To get the predicted values for a regression model, you can use the *predict* function in your regression model object, so for the example above question 5 that would be: `predicted_value = multi_reg.predict()`. Make sure you use subplots to order the diagnostic plots in a structured  manner.<div style=\"text-align: right\"> **5 points** </div>"
   ]
  },
  {
   "cell_type": "code",
   "execution_count": 22,
   "metadata": {
    "colab": {},
    "colab_type": "code",
    "id": "pL19R_KRsyC3"
   },
   "outputs": [],
   "source": [
    "# your code/answer here"
   ]
  },
  {
   "cell_type": "markdown",
   "metadata": {
    "colab_type": "text",
    "id": "9WBbN6JOreV7"
   },
   "source": [
    "## Exercise 9\n",
    "In Exercises 4 and 8, we looked at residuals through histograms and probability plotes, and we were wondering if they are actually normally distributed. In both cases we were unsure whether the residuals may deviate too much from normality. Non-normality of residuals is not a problem *per se* for linear regression but it can be problematic for inference (i.e., deriving and interpreting p-values). Several formal tests exist that can tell us whether residuals are normally distributed, or not. One such test is the Shapiro-Wilk test, another one is the Kolmogorov-Smirnov test.\n",
    "\n",
    "1. Run the Shapiro-Wilk test from `scipy.stats` on the residuals from the previous exercise.\n",
    "2. Are the residuals normally distributed according to this test? Interpret the test output.<div style=\"text-align: right\"> **2 points** </div>"
   ]
  },
  {
   "cell_type": "markdown",
   "metadata": {
    "colab_type": "text",
    "id": "6wD7kf3MuyfT"
   },
   "source": [
    "## Exercise 10\n",
    "1. Based on your final model, describe the characteristics of a professor and course at University of Texas at Austin that would be associated with a high evaluation score. \n",
    "2. Would you be comfortable generalizing your conclusions to apply to professors generally (at any university)? Justify your answer.<div style=\"text-align: right\"> **2 points** </div>"
   ]
  },
  {
   "cell_type": "markdown",
   "metadata": {},
   "source": [
    "**Total number of points**: 36"
   ]
  }
 ],
 "metadata": {
  "colab": {
   "collapsed_sections": [],
   "name": "Assignment_6.ipynb",
   "provenance": [],
   "toc_visible": true
  },
  "kernelspec": {
   "display_name": "spyder",
   "language": "python",
   "name": "python3"
  },
  "language_info": {
   "codemirror_mode": {
    "name": "ipython",
    "version": 3
   },
   "file_extension": ".py",
   "mimetype": "text/x-python",
   "name": "python",
   "nbconvert_exporter": "python",
   "pygments_lexer": "ipython3",
   "version": "3.12.7"
  }
 },
 "nbformat": 4,
 "nbformat_minor": 1
}
