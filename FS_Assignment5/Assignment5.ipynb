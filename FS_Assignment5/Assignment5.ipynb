{
 "cells": [
  {
   "cell_type": "markdown",
   "metadata": {
    "colab_type": "text",
    "id": "-lTF-NZxR3p8"
   },
   "source": [
    "# Assignment 5\n",
    "### Linear Regression"
   ]
  },
  {
   "cell_type": "markdown",
   "metadata": {
    "colab_type": "text",
    "id": "dHAIIUstR3p_"
   },
   "source": [
    "### Dataset"
   ]
  },
  {
   "cell_type": "markdown",
   "metadata": {
    "colab_type": "text",
    "id": "6tcatmpfR3qA"
   },
   "source": [
    "The movie [Moneyball](https://en.wikipedia.org/wiki/Moneyball_(film)) focuses on the \"quest for the secret of success in baseball\". It follows a low-budget team, the Oakland Athletics who believe that underused statistics, such as a player's ability to get on base, better predict the ability to score runs than typical statistics like home runs, RBIs (runs batted in), and batting average. Obtaining players who excelled in these underused statistics turned out to be much more affordable for the team.\n",
    "\n",
    "In this assignment we'll be looking at data from all 30 Major League Baseball teams from 2011 and examine the linear relationship between runs scored in a season and a number of other player statistics. Our aim will be to summarize these relationships, both graphically and numerically, in order to determine which variable, if any, helps us best predict the runs that a team scored in a season."
   ]
  },
  {
   "cell_type": "code",
   "execution_count": 2,
   "metadata": {
    "colab": {},
    "colab_type": "code",
    "id": "iUh4vyblR3qA"
   },
   "outputs": [],
   "source": [
    "import pandas as pd\n",
    "import numpy as np\n",
    "import matplotlib.pyplot as plt\n",
    "import seaborn as sns\n",
    "import statsmodels.api as sm\n",
    "import scipy.stats as ss\n",
    "\n",
    "sns.set_style(\"whitegrid\")"
   ]
  },
  {
   "cell_type": "code",
   "execution_count": null,
   "metadata": {
    "colab": {
     "base_uri": "https://localhost:8080/",
     "height": 204
    },
    "colab_type": "code",
    "id": "Qtv593cbR3qE",
    "outputId": "f1a73adf-e88d-4d86-89fd-437685da9d94"
   },
   "outputs": [],
   "source": [
    "baseball = pd.read_csv('BaseballStats.csv')\n",
    "baseball.head()"
   ]
  },
  {
   "cell_type": "markdown",
   "metadata": {
    "colab_type": "text",
    "id": "fKreIHlNM0b1"
   },
   "source": [
    "Here are the descriptions of the variables in this dataset:\n",
    "\n",
    "*  team: Team name\n",
    "*  runs: Number of runs\n",
    "\n",
    "*Traditional variables for predicting the number of runs:*\n",
    "*  at_bats: Number of at bats (the number of times a batter had a turn batting against a pitcher)\n",
    "*  hits: Number of hits (when the batter safely reaches or passes first base after hitting the ball into fair territory)\n",
    "*  homerun: Number of home runs.\n",
    "*  bat_avg: Batting average (the number of hits divided by at bats)\n",
    "*  strikeouts: Number of strikeouts (when a batter racks up three strikes during a time at bat).\n",
    "*  stolen_bases: Number of stolen bases (when a runner advances to a base to which he is not entitled)\n",
    "*  wins: Number of wins.\n",
    "\n",
    "*New variables for predicting the number of runs:*\n",
    "*  new_onbase: On base percentage, measure of how often a batter reaches base for any reason other than a fielding error, fielder's choice, dropped/uncaught third strike, fielder's obstruction, or catcher's interference.\n",
    "*  new_slug: Slugging percentage, measure of the power of a hitter calculated as the total bases divided by at bats.\n",
    "*  new_obs: On base plus slugging, calculated as the sum of these two variables\n",
    "\n"
   ]
  },
  {
   "cell_type": "markdown",
   "metadata": {
    "colab_type": "text",
    "id": "gus0B_UeKn_v"
   },
   "source": [
    "We will start by looking at the association between the number of `runs` and the number of `at_bats`."
   ]
  },
  {
   "cell_type": "markdown",
   "metadata": {
    "colab_type": "text",
    "id": "F7Dan0VdwbLM"
   },
   "source": [
    "### Exercise 1\n",
    "Looking at the data is an important first step in any analysis. \n",
    "\n",
    "1. Choose an appropriate plot to visualize the association between `runs` and `at_bats`  (with `runs` as $y$-value). Label the plot appropriately.\n",
    "2. Describe the relationship between these two variables. Make sure to discuss the form, direction, and strength of the relationship as well as any unusual observations. Would you be comfortable fitting a linear model to these data? <div style=\"text-align: right\"> **5 points** </div>"
   ]
  },
  {
   "cell_type": "code",
   "execution_count": null,
   "metadata": {
    "colab": {},
    "colab_type": "code",
    "id": "xY8Tc1vxkeal"
   },
   "outputs": [],
   "source": [
    "# your code/answer here\n",
    "def print_question(question_number, sep_line_width = 60):\n",
    "    print(f\"Question {question_number}\")\n",
    "    print(sep_line_width * \"=\")\n",
    "\n",
    "print_question(1)\n",
    "\n",
    "print(f\"The asociation between runs and at_bats can be shown as x(horizontal axis) is at_bats, y(Vertical axis) is runs\")\n",
    "\n",
    "plt.scatter(baseball[\"at_bats\"], baseball[\"runs\"])\n",
    "plt.xlabel(\"Number of at_bats\") \n",
    "plt.ylabel(\"Number of runs\")  \n",
    "plt.show()\n",
    "\n",
    "\n",
    "print_question(2)\n",
    "\n",
    "print(f\"Form: Looks like an upoward sloping line with substantial scattering, so not a perfectly straight line.\")\n",
    "print(f\"Direction: It may be positive, as the number of runs increase with the number of bats.\")\n",
    "print(f\"Strength: I don't think the points on the scatterplot show a very strong relationship. But they are not incredibly scattered either. Lets say a light linear relationship\")\n",
    "print(f\"unusual observations: There are a few outliers like the one at around (5525, 860) and in general there are more values for lower number of bats compared to higher numbrt of bats.\")"
   ]
  },
  {
   "cell_type": "markdown",
   "metadata": {
    "colab_type": "text",
    "id": "SfFTjnpWP0Tb"
   },
   "source": [
    "**Exercise 2** \n",
    "\n",
    "If the relationship looks linear, we can quantify the strength of the relationship with the correlation coefficient."
   ]
  },
  {
   "cell_type": "code",
   "execution_count": null,
   "metadata": {
    "colab": {
     "base_uri": "https://localhost:8080/",
     "height": 34
    },
    "colab_type": "code",
    "id": "r27mTxOgP3K4",
    "outputId": "b2f323fe-9346-4d6a-e2da-1b86ee32989d"
   },
   "outputs": [],
   "source": [
    "baseball['runs'].corr(baseball['at_bats'])"
   ]
  },
  {
   "cell_type": "markdown",
   "metadata": {
    "colab_type": "text",
    "id": "YLo7XKTgIpnn"
   },
   "source": [
    "In order to determine the best fit line we can use `statsmodels`, a useful module for the estimation of many different statistical models, as well as for conducting statistical tests, and statistical data exploration. "
   ]
  },
  {
   "cell_type": "code",
   "execution_count": null,
   "metadata": {
    "colab": {
     "base_uri": "https://localhost:8080/",
     "height": 476
    },
    "colab_type": "code",
    "id": "Dv0oXf5aIpnn",
    "outputId": "f4a012ed-7ffa-469e-85d4-eca3cea99a0e"
   },
   "outputs": [],
   "source": [
    "# the following means: explain variable 'runs' as a function of (some transformation of) variable 'at_bats'\n",
    "formula_string = \"runs ~ at_bats\"\n",
    "# syntax: dependent variable ~ independent variable\n",
    "\n",
    "# remember OLS = \"ordinary least squares\" - by far the most commonly used form of linear regression\n",
    "model = sm.formula.ols(formula = formula_string, data = baseball) # at this point the model is not calculated yet, only defined\n",
    "model_fitted = model.fit() # this actually runs the regression\n",
    "\n",
    "# model.fit() containts\n",
    "    # model_fitted.params -> the estimated coefficients\n",
    "    # model_fitted.summary() -> a full printed table of fit statistics\n",
    "    # model_fitted.predict(new_data) -> a method to generate predicted runs for new at_bats values\n",
    "    # model_fitted.resid -> the raw residuals (observed minus fitted values), usefull for diagnostic plots\n",
    "\n",
    "print(model_fitted.summary())"
   ]
  },
  {
   "cell_type": "markdown",
   "metadata": {
    "colab_type": "text",
    "id": "j14deAJlcxZF"
   },
   "source": [
    "1. Based on the output above, write down the equation of the best-fit line.\n",
    "2. Write down the $R^{2}$ of the model. <div style=\"text-align: right\"> **2 points** </div>"
   ]
  },
  {
   "cell_type": "code",
   "execution_count": null,
   "metadata": {
    "colab_type": "text",
    "id": "V5MSa7x0Ipnt"
   },
   "outputs": [],
   "source": [
    "# your code/answer here\n",
    "\n",
    "print_question(1)\n",
    "print(f\"The table shows Intercept  -2789.2429, this is a point where the straight line intersects the y-axis.\")\n",
    "print(f\"And the slope part is 0.6305 for at_bats, like how much runs goes up when at_bats increases\")\n",
    "print(f\"Equation for Simple linear regression is y = mx + b\")\n",
    "print(f\"The equation of the best-fit line is: runs = 0.6305 * at_bats + (-2789.2429)\")\n",
    "\n",
    "print_question(2)\n",
    "print(f\"R^2 of the model is R-squared: 0.373 according to the above table\")"
   ]
  },
  {
   "cell_type": "markdown",
   "metadata": {
    "colab_type": "text",
    "id": "cDPlAHc7Ipnu"
   },
   "source": [
    "### Exercise 3\n",
    "\n",
    "Plot the association between the two variables again, but this time with the linear model added so there is a visualisation of the model with the data.\n",
    "\n",
    "1. First, plot the association between the variables, as you did above in Question 1. \n",
    "2. Second, use the formula you specified above to compute the predicted number of `runs` ($\\hat{y}$) for each value of `at_bats` (${x}$). You can access the intercept and slope of the fitted model by indexing `model_fitted.params`. \n",
    "3. Finally, use a lineplot (`sns.lineplot`) to visualize the regression line on top of the first plot. <div style=\"text-align: right\"> **3 points** </div>"
   ]
  },
  {
   "cell_type": "code",
   "execution_count": null,
   "metadata": {
    "colab": {},
    "colab_type": "code",
    "id": "Q2mtq5xPksj6"
   },
   "outputs": [],
   "source": [
    "# your code/answer here\n",
    "print_question(1)\n",
    "plt.scatter(baseball[\"at_bats\"], baseball[\"runs\"])\n",
    "plt.xlabel(\"at_bats\") \n",
    "plt.ylabel(\"runs\")  \n",
    "plt.show()\n",
    "\n",
    "print(f\"I used scatter plot again since it shows the points clearly.\")\n",
    "print_question(2)\n",
    "slope = model_fitted.params[\"at_bats\"]   \n",
    "intercept = model_fitted.params[\"Intercept\"]\n",
    "\n",
    "print(f\"Expected score = slope * List of bat only + intercept\")\n",
    "baseball[\"predicted_runs\"] = slope * baseball[\"at_bats\"] + intercept\n",
    "\n",
    "print(baseball[[\"at_bats\", \"runs\", \"predicted_runs\"]])\n",
    "\n",
    "print(f\"\")\n",
    "print_question(3)\n",
    "\n",
    "plt.scatter(baseball[\"at_bats\"], baseball[\"runs\"])\n",
    "sns.lineplot(x=baseball[\"at_bats\"], y=baseball[\"predicted_runs\"])\n",
    "\n",
    "plt.xlabel(\"at_bats\")\n",
    "plt.ylabel(\"runs\")\n",
    "plt.title(\"Scatter plot with regression line\")\n",
    "plt.show() \n",
    "\n",
    "print(f\"Scatter plots and straight lines were displayed showing a visible relationship between the number of at bats and the number of runs scored.\")"
   ]
  },
  {
   "cell_type": "markdown",
   "metadata": {
    "colab_type": "text",
    "id": "1KiW_goKIpnz"
   },
   "source": [
    "### Model diagnostics\n",
    "\n",
    "To assess whether the linear model is reliable, we need to check for (1) linearity, (2) nearly normal residuals, and (3) constant variability.\n",
    "\n",
    "Linearity: You already checked if the relationship between `runs` and `at_bats` is linear using a scatterplot. We should also verify this condition with a plot of the residuals vs. `at_bats`."
   ]
  },
  {
   "cell_type": "markdown",
   "metadata": {
    "colab_type": "text",
    "id": "vH35v2uKIpn0"
   },
   "source": [
    "### Exercies 4 \n",
    "\n",
    "1. To check linearity, plot the residuals against `at_bats`. Remember that the residual scores are defined as $e_{i} = y_{i} - \\hat{y}_{i}$ where $e_{i}$ is the residual value, $y_{i}$ is the actual $y$-value, and $\\hat{y}_{i}$ is the predicted $y$-value (Hint: use `sns.residplot` for the plotting part).\n",
    "2. Does the data show a linear trend, or not? Justify your answer. <div style=\"text-align: right\"> **3 points** </div>"
   ]
  },
  {
   "cell_type": "code",
   "execution_count": null,
   "metadata": {
    "colab": {},
    "colab_type": "code",
    "id": "FcjSpXRYkzIM"
   },
   "outputs": [],
   "source": [
    "# your code/answer here\n",
    "print_question(1)\n",
    "\n",
    "print(f\"the residual score\")\n",
    "baseball[\"residual\"] = baseball[\"runs\"] - baseball[\"predicted_runs\"]\n",
    "\n",
    "sns.residplot(x=baseball[\"at_bats\"], y=baseball[\"runs\"], lowess=True)\n",
    "plt.xlabel(\"at_bats\")\n",
    "plt.ylabel(\"Residuals\")\n",
    "plt.show()\n",
    "\n",
    "\n",
    "print_question(2)\n",
    "\n",
    "print(f\"The residual plot shows that the points are scattered\")\n",
    "print(f\"The points are scattered up and down and appear to be no particular shape.\")\n",
    "print(f\"And the residual have not become particularly large or small as the number of bats has increased.\")\n",
    "print(f\"So I think the data shows a mostly linear trend.\")"
   ]
  },
  {
   "cell_type": "markdown",
   "metadata": {
    "colab_type": "text",
    "id": "Bi3SIDahIpn6"
   },
   "source": [
    "### Exercise 5\n",
    "\n",
    "Now we will check whether the residuals are *normally distributed*.\n",
    "1. Plot the residuals in a histogram.\n",
    "2. Plot the residuals in a QQ-plot (use `probplot` from `scipy.stats` as `probplot(residual_values, plot=plt)`).\n",
    "3. Are the residuals normally distributed, or not? Explain your answer.<div style=\"text-align: right\"> **4 points** </div>"
   ]
  },
  {
   "cell_type": "code",
   "execution_count": null,
   "metadata": {
    "colab": {},
    "colab_type": "code",
    "id": "NnmyrJw6k6OD",
    "scrolled": true
   },
   "outputs": [],
   "source": [
    "# your code/answer here\n",
    "print_question(1)\n",
    "plt.hist(baseball[\"residual\"]) \n",
    "plt.xlabel(\"residuals\")\n",
    "plt.xlabel(\"frequency\")\n",
    "plt.title(\"histogram of residuals\")\n",
    "plt.show()\n",
    "\n",
    "\n",
    "print_question(2)\n",
    "\n",
    "from scipy import stats\n",
    "plt.figure()\n",
    "stats.probplot(baseball[\"residual\"], plot=plt)\n",
    "plt.title(\"QQ plot\")\n",
    "plt.show()\n",
    "\n"
   ]
  },
  {
   "cell_type": "code",
   "execution_count": null,
   "metadata": {},
   "outputs": [],
   "source": [
    "# your code/answer here\n",
    "print_question(3)\n",
    "print(f\"In the histogram, the shape looks uneven. It’s not a perfect bell curve\")\n",
    "print(f\"but there’s a big bar in the middle, it looks a little bit normal.\")\n",
    "print(f\"Then in the QQ plot, the blue dots go mostly along the red line\")\n",
    "print(f\"but near the end point is a little bit off\")\n",
    "print(f\"I would say maybe yes, the residuals look almost normally distributed\")"
   ]
  },
  {
   "cell_type": "markdown",
   "metadata": {
    "colab_type": "text",
    "id": "n82VfKzgIpn_"
   },
   "source": [
    "### Exercise 6\n",
    "\n",
    "Constant variability is the last condition that we will check. Look back at the residual plot of Exercise 4 and determine (qualitatively, by \"eye-balling\" the plot) if the variability is rougly constant along the whole range of the x-axis. Explain your answer. <div style=\"text-align: right\"> **2 points** </div>"
   ]
  },
  {
   "cell_type": "code",
   "execution_count": null,
   "metadata": {},
   "outputs": [],
   "source": [
    "# your code/answer here\n",
    "print_question(1)\n",
    "print(\"Looking at the plot from exercise 4 we can see that the residual scores are\")\n",
    "print(\"scattered roughly evenly below and above the 0 line for the full range of at_bats,\")\n",
    "print(\"they have no funnel or megaphone shape.\")\n",
    "print(\"Therefore the variability seems to be constant across the whole range.\")"
   ]
  },
  {
   "cell_type": "markdown",
   "metadata": {
    "colab_type": "text",
    "id": "k6D8CtFBIpoA"
   },
   "source": [
    "### Exercise 7\n",
    "\n",
    "You now have succesfully created a linear model of the data and checked it's validity. There are many more regression techniques for different types of data, but for the next question we will stick with the linear ones.\n",
    " \n",
    "1. Create a linear model for one of the other traditional variables vs runs (hits, homeruns, bat_avg, strikeouts, stolen_bases, or wins). Choose one you think will be a good predictor. Write down the linear formula and the $R^{2}$. Don't forget to create a plot to visualize the association between the two variables.\n",
    "\n",
    "2. Create a linear model for one of the 3 new variables (new_onbase, new_slug, new_obs) and write down the linear formula and the $R^{2}$ and create a plot to visualize the association between the two variables.\n",
    " \n",
    "3. From the two variables you have chosen above, which variable predicts the `runs` variable the best? Why?\n",
    "\n",
    "4. Check the model diagnostics for the regression model with the variable you decided was the best predictor for runs. Do these model diagnostics indicate that this linear model is reliable (i.e., check the three assumptions)?<div style=\"text-align: right\"> **10 points** </div>"
   ]
  },
  {
   "cell_type": "code",
   "execution_count": null,
   "metadata": {
    "colab": {},
    "colab_type": "code",
    "id": "6-71013VIpoB"
   },
   "outputs": [],
   "source": [
    "# your code/answer here\n",
    "# lets compare with hits\n",
    "print_question(1)\n",
    "formula_hits = \"runs ~ hits\" # adjust the formula\n",
    "model_hits   = sm.formula.ols(formula=formula_hits, data=baseball)\n",
    "results_hits = model_hits.fit()\n",
    "print(results_hits.summary())\n",
    "\n",
    "# visualizeing\n",
    "plt.figure()\n",
    "sns.scatterplot(x=baseball[\"hits\"], y=baseball[\"runs\"])\n",
    "sns.lineplot   (x=baseball[\"hits\"], y=results_hits.fittedvalues)\n",
    "plt.xlabel(\"hits\")\n",
    "plt.ylabel(\"runs\")\n",
    "plt.title(\"Runs vs Hits with regression line\")\n",
    "plt.show()\n",
    "\n",
    "print(\"Linear Formula: runs^hat = -375.5600 + 0.7589 * hits\")\n",
    "print(\"R^2 = 0.642\")"
   ]
  },
  {
   "cell_type": "code",
   "execution_count": null,
   "metadata": {},
   "outputs": [],
   "source": [
    "# your code/answer here\n",
    "# new predictor - new_obs\n",
    "print_question(2)\n",
    "formula_obs = \"runs ~ new_obs\" # new formula\n",
    "model_obs   = sm.formula.ols(formula=formula_obs, data=baseball)\n",
    "results_obs = model_obs.fit()\n",
    "print(results_obs.summary())\n",
    "\n",
    "# visualizing\n",
    "plt.figure()\n",
    "sns.scatterplot(x=baseball[\"new_obs\"], y=baseball[\"runs\"])\n",
    "sns.lineplot   (x=baseball[\"new_obs\"], y=results_obs.fittedvalues)\n",
    "plt.xlabel(\"new_obs\")\n",
    "plt.ylabel(\"runs\")\n",
    "plt.title(\"Runs vs new_obs with regression line\")\n",
    "plt.show()\n",
    "\n",
    "print(\"Linear Formula: runs^hat = -686.6143 + 1919.3636 * new_obs\")\n",
    "print(\"R^2 = 0.935\")"
   ]
  },
  {
   "cell_type": "code",
   "execution_count": null,
   "metadata": {
    "scrolled": true
   },
   "outputs": [],
   "source": [
    "# your code/answer here\n",
    "print_question(3)\n",
    "print(\"Hits model R^2 = 0.642 < new_obs model R^2 = 0.935\")\n",
    "print(\"Therefore, new_obs is the better predictor because it has a higher R^2 score\")"
   ]
  },
  {
   "cell_type": "code",
   "execution_count": null,
   "metadata": {
    "colab_type": "text",
    "id": "yJUOJBGlIpoD"
   },
   "outputs": [],
   "source": [
    "# your code/answer here\n",
    "print_question(4)\n",
    "\n",
    "# linearity\n",
    "plt.figure(figsize=(6,4))\n",
    "sns.residplot(x=baseball[\"new_obs\"], y=baseball[\"runs\"], lowess=True)\n",
    "plt.xlabel(\"new_obs\")\n",
    "plt.ylabel(\"residuals\")\n",
    "plt.title(\"Residuals vs new_obs\")\n",
    "plt.show()\n",
    "\n",
    "# hist\n",
    "plt.figure(figsize=(6.4,4))\n",
    "plt.hist(results_obs.resid, bins=10)\n",
    "plt.xlabel(\"residual\")\n",
    "plt.title(\"Histogram of residuals\")\n",
    "plt.show()\n",
    "\n",
    "# qq\n",
    "plt.figure(figsize=(6,4))\n",
    "stats.probplot(results_obs.resid, plot=plt)\n",
    "plt.title(\"QQ Plot of residuals\")\n",
    "plt.show()\n",
    "\n",
    "print(\"Linearity holds, because the the lowess line is roughly horizontal, no extreme visible curvature.\")\n",
    "print(\"Constant variance holds, as the spread is roughly even across new_obs.\")\n",
    "print(\"Normality holds, because the histogram is roughly bell shaped and the QQ plot is close to the diagonal.\\n\")\n",
    "\n",
    "print(\"Therefore, this linear model seems reliable! :)\")"
   ]
  },
  {
   "cell_type": "markdown",
   "metadata": {},
   "source": [
    "**Total number of points**: 29"
   ]
  }
 ],
 "metadata": {
  "colab": {
   "collapsed_sections": [],
   "name": "Assignment_5.ipynb",
   "provenance": [],
   "toc_visible": true
  },
  "kernelspec": {
   "display_name": "spyder",
   "language": "python",
   "name": "python3"
  },
  "language_info": {
   "codemirror_mode": {
    "name": "ipython",
    "version": 3
   },
   "file_extension": ".py",
   "mimetype": "text/x-python",
   "name": "python",
   "nbconvert_exporter": "python",
   "pygments_lexer": "ipython3",
   "version": "3.12.7"
  }
 },
 "nbformat": 4,
 "nbformat_minor": 1
}
