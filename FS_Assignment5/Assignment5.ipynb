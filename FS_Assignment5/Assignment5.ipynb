{
 "cells": [
  {
   "cell_type": "markdown",
   "metadata": {
    "colab_type": "text",
    "id": "-lTF-NZxR3p8"
   },
   "source": [
    "# Assignment 5\n",
    "### Linear Regression"
   ]
  },
  {
   "cell_type": "markdown",
   "metadata": {
    "colab_type": "text",
    "id": "dHAIIUstR3p_"
   },
   "source": [
    "### Dataset"
   ]
  },
  {
   "cell_type": "markdown",
   "metadata": {
    "colab_type": "text",
    "id": "6tcatmpfR3qA"
   },
   "source": [
    "The movie [Moneyball](https://en.wikipedia.org/wiki/Moneyball_(film)) focuses on the \"quest for the secret of success in baseball\". It follows a low-budget team, the Oakland Athletics who believe that underused statistics, such as a player's ability to get on base, better predict the ability to score runs than typical statistics like home runs, RBIs (runs batted in), and batting average. Obtaining players who excelled in these underused statistics turned out to be much more affordable for the team.\n",
    "\n",
    "In this assignment we'll be looking at data from all 30 Major League Baseball teams from 2011 and examine the linear relationship between runs scored in a season and a number of other player statistics. Our aim will be to summarize these relationships, both graphically and numerically, in order to determine which variable, if any, helps us best predict the runs that a team scored in a season."
   ]
  },
  {
   "cell_type": "code",
   "execution_count": 1,
   "metadata": {
    "colab": {},
    "colab_type": "code",
    "id": "iUh4vyblR3qA"
   },
   "outputs": [],
   "source": [
    "import pandas as pd\n",
    "import numpy as np\n",
    "import matplotlib.pyplot as plt\n",
    "import seaborn as sns\n",
    "import statsmodels.api as sm\n",
    "import scipy.stats as ss\n",
    "\n",
    "sns.set_style(\"whitegrid\")"
   ]
  },
  {
   "cell_type": "code",
   "execution_count": 2,
   "metadata": {
    "colab": {
     "base_uri": "https://localhost:8080/",
     "height": 204
    },
    "colab_type": "code",
    "id": "Qtv593cbR3qE",
    "outputId": "f1a73adf-e88d-4d86-89fd-437685da9d94"
   },
   "outputs": [
    {
     "data": {
      "text/html": [
       "<div>\n",
       "<style scoped>\n",
       "    .dataframe tbody tr th:only-of-type {\n",
       "        vertical-align: middle;\n",
       "    }\n",
       "\n",
       "    .dataframe tbody tr th {\n",
       "        vertical-align: top;\n",
       "    }\n",
       "\n",
       "    .dataframe thead th {\n",
       "        text-align: right;\n",
       "    }\n",
       "</style>\n",
       "<table border=\"1\" class=\"dataframe\">\n",
       "  <thead>\n",
       "    <tr style=\"text-align: right;\">\n",
       "      <th></th>\n",
       "      <th>team</th>\n",
       "      <th>runs</th>\n",
       "      <th>at_bats</th>\n",
       "      <th>hits</th>\n",
       "      <th>homeruns</th>\n",
       "      <th>bat_avg</th>\n",
       "      <th>strikeouts</th>\n",
       "      <th>stolen_bases</th>\n",
       "      <th>wins</th>\n",
       "      <th>new_onbase</th>\n",
       "      <th>new_slug</th>\n",
       "      <th>new_obs</th>\n",
       "    </tr>\n",
       "  </thead>\n",
       "  <tbody>\n",
       "    <tr>\n",
       "      <th>0</th>\n",
       "      <td>Texas Rangers</td>\n",
       "      <td>855</td>\n",
       "      <td>5659</td>\n",
       "      <td>1599</td>\n",
       "      <td>210</td>\n",
       "      <td>0.283</td>\n",
       "      <td>930</td>\n",
       "      <td>143</td>\n",
       "      <td>96</td>\n",
       "      <td>0.340</td>\n",
       "      <td>0.460</td>\n",
       "      <td>0.800</td>\n",
       "    </tr>\n",
       "    <tr>\n",
       "      <th>1</th>\n",
       "      <td>Boston Red Sox</td>\n",
       "      <td>875</td>\n",
       "      <td>5710</td>\n",
       "      <td>1600</td>\n",
       "      <td>203</td>\n",
       "      <td>0.280</td>\n",
       "      <td>1108</td>\n",
       "      <td>102</td>\n",
       "      <td>90</td>\n",
       "      <td>0.349</td>\n",
       "      <td>0.461</td>\n",
       "      <td>0.810</td>\n",
       "    </tr>\n",
       "    <tr>\n",
       "      <th>2</th>\n",
       "      <td>Detroit Tigers</td>\n",
       "      <td>787</td>\n",
       "      <td>5563</td>\n",
       "      <td>1540</td>\n",
       "      <td>169</td>\n",
       "      <td>0.277</td>\n",
       "      <td>1143</td>\n",
       "      <td>49</td>\n",
       "      <td>95</td>\n",
       "      <td>0.340</td>\n",
       "      <td>0.434</td>\n",
       "      <td>0.773</td>\n",
       "    </tr>\n",
       "    <tr>\n",
       "      <th>3</th>\n",
       "      <td>Kansas City Royals</td>\n",
       "      <td>730</td>\n",
       "      <td>5672</td>\n",
       "      <td>1560</td>\n",
       "      <td>129</td>\n",
       "      <td>0.275</td>\n",
       "      <td>1006</td>\n",
       "      <td>153</td>\n",
       "      <td>71</td>\n",
       "      <td>0.329</td>\n",
       "      <td>0.415</td>\n",
       "      <td>0.744</td>\n",
       "    </tr>\n",
       "    <tr>\n",
       "      <th>4</th>\n",
       "      <td>St. Louis Cardinals</td>\n",
       "      <td>762</td>\n",
       "      <td>5532</td>\n",
       "      <td>1513</td>\n",
       "      <td>162</td>\n",
       "      <td>0.273</td>\n",
       "      <td>978</td>\n",
       "      <td>57</td>\n",
       "      <td>90</td>\n",
       "      <td>0.341</td>\n",
       "      <td>0.425</td>\n",
       "      <td>0.766</td>\n",
       "    </tr>\n",
       "  </tbody>\n",
       "</table>\n",
       "</div>"
      ],
      "text/plain": [
       "                  team  runs  at_bats  hits  homeruns  bat_avg  strikeouts  \\\n",
       "0        Texas Rangers   855     5659  1599       210    0.283         930   \n",
       "1       Boston Red Sox   875     5710  1600       203    0.280        1108   \n",
       "2       Detroit Tigers   787     5563  1540       169    0.277        1143   \n",
       "3   Kansas City Royals   730     5672  1560       129    0.275        1006   \n",
       "4  St. Louis Cardinals   762     5532  1513       162    0.273         978   \n",
       "\n",
       "   stolen_bases  wins  new_onbase  new_slug  new_obs  \n",
       "0           143    96       0.340     0.460    0.800  \n",
       "1           102    90       0.349     0.461    0.810  \n",
       "2            49    95       0.340     0.434    0.773  \n",
       "3           153    71       0.329     0.415    0.744  \n",
       "4            57    90       0.341     0.425    0.766  "
      ]
     },
     "execution_count": 2,
     "metadata": {},
     "output_type": "execute_result"
    }
   ],
   "source": [
    "baseball = pd.read_csv('BaseballStats.csv')\n",
    "baseball.head()"
   ]
  },
  {
   "cell_type": "markdown",
   "metadata": {
    "colab_type": "text",
    "id": "fKreIHlNM0b1"
   },
   "source": [
    "Here are the descriptions of the variables in this dataset:\n",
    "\n",
    "*  team: Team name\n",
    "*  runs: Number of runs\n",
    "\n",
    "*Traditional variables for predicting the number of runs:*\n",
    "*  at_bats: Number of at bats (the number of times a batter had a turn batting against a pitcher)\n",
    "*  hits: Number of hits (when the batter safely reaches or passes first base after hitting the ball into fair territory)\n",
    "*  homerun: Number of home runs.\n",
    "*  bat_avg: Batting average (the number of hits divided by at bats)\n",
    "*  strikeouts: Number of strikeouts (when a batter racks up three strikes during a time at bat).\n",
    "*  stolen_bases: Number of stolen bases (when a runner advances to a base to which he is not entitled)\n",
    "*  wins: Number of wins.\n",
    "\n",
    "*New variables for predicting the number of runs:*\n",
    "*  new_onbase: On base percentage, measure of how often a batter reaches base for any reason other than a fielding error, fielder's choice, dropped/uncaught third strike, fielder's obstruction, or catcher's interference.\n",
    "*  new_slug: Slugging percentage, measure of the power of a hitter calculated as the total bases divided by at bats.\n",
    "*  new_obs: On base plus slugging, calculated as the sum of these two variables\n",
    "\n"
   ]
  },
  {
   "cell_type": "markdown",
   "metadata": {
    "colab_type": "text",
    "id": "gus0B_UeKn_v"
   },
   "source": [
    "We will start by looking at the association between the number of `runs` and the number of `at_bats`."
   ]
  },
  {
   "cell_type": "markdown",
   "metadata": {
    "colab_type": "text",
    "id": "F7Dan0VdwbLM"
   },
   "source": [
    "### Exercise 1\n",
    "Looking at the data is an important first step in any analysis. \n",
    "\n",
    "1. Choose an appropriate plot to visualize the association between `runs` and `at_bats`  (with `runs` as $y$-value). Label the plot appropriately.\n",
    "2. Describe the relationship between these two variables. Make sure to discuss the form, direction, and strength of the relationship as well as any unusual observations. Would you be comfortable fitting a linear model to these data? <div style=\"text-align: right\"> **5 points** </div>"
   ]
  },
  {
   "cell_type": "code",
   "execution_count": 17,
   "metadata": {
    "colab": {},
    "colab_type": "code",
    "id": "xY8Tc1vxkeal"
   },
   "outputs": [
    {
     "name": "stdout",
     "output_type": "stream",
     "text": [
      "Question 1\n",
      "============================================================\n",
      "The asociation between runs and at_bats can be shown as x(horizontal axis) is at_bats, y(Vertical axis) is runs\n"
     ]
    },
    {
     "data": {
      "image/png": "[encoded data removed]",
      "text/plain": [
       "<Figure size 640x480 with 1 Axes>"
      ]
     },
     "metadata": {},
     "output_type": "display_data"
    },
    {
     "name": "stdout",
     "output_type": "stream",
     "text": [
      "Question 2\n",
      "============================================================\n",
      "Form:Looks like a diagonal spread of disparate points, which may not look straight, but it's not a perfectly straight line.\n",
      "Direction:It may be positive, as it appears to be rightward.\n",
      "Strength:I don't think the points on the scatterplot are very strong. But they are not incredibly scattered either.\n",
      "unusual observations:If there is dot in a totally different place from the rest of the points, these weird data would be an outlier. There are 2 or 3 dots that are far apart.\n"
     ]
    }
   ],
   "source": [
    "# your code/answer here\n",
    "def print_question(question_number, sep_line_width = 60):\n",
    "    print(f\"Question {question_number}\")\n",
    "    print(sep_line_width * \"=\")\n",
    "\n",
    "print_question(1)\n",
    "\n",
    "print(f\"The asociation between runs and at_bats can be shown as x(horizontal axis) is at_bats, y(Vertical axis) is runs\")\n",
    "\n",
    "plt.scatter(baseball[\"at_bats\"], baseball[\"runs\"])\n",
    "plt.xlabel(\"Number of at_bats\") \n",
    "plt.ylabel(\"Number of runs\")  \n",
    "plt.show()\n",
    "\n",
    "\n",
    "print_question(2)\n",
    "\n",
    "print(f\"Form:Looks like a diagonal spread of disparate points, which may not look straight, but it's not a perfectly straight line.\")\n",
    "print(f\"Direction:It may be positive, as it appears to be rightward.\")\n",
    "print(f\"Strength:I don't think the points on the scatterplot are very strong. But they are not incredibly scattered either.\")\n",
    "print(f\"unusual observations:If there is dot in a totally different place from the rest of the points, these weird data would be an outlier. There are 2 or 3 dots that are far apart.\")"
   ]
  },
  {
   "cell_type": "markdown",
   "metadata": {
    "colab_type": "text",
    "id": "SfFTjnpWP0Tb"
   },
   "source": [
    "**Exercise 2** \n",
    "\n",
    "If the relationship looks linear, we can quantify the strength of the relationship with the correlation coefficient."
   ]
  },
  {
   "cell_type": "code",
   "execution_count": 4,
   "metadata": {
    "colab": {
     "base_uri": "https://localhost:8080/",
     "height": 34
    },
    "colab_type": "code",
    "id": "r27mTxOgP3K4",
    "outputId": "b2f323fe-9346-4d6a-e2da-1b86ee32989d"
   },
   "outputs": [
    {
     "data": {
      "text/plain": [
       "0.6106270467206687"
      ]
     },
     "execution_count": 4,
     "metadata": {},
     "output_type": "execute_result"
    }
   ],
   "source": [
    "baseball['runs'].corr(baseball['at_bats'])"
   ]
  },
  {
   "cell_type": "markdown",
   "metadata": {
    "colab_type": "text",
    "id": "YLo7XKTgIpnn"
   },
   "source": [
    "In order to determine the best fit line we can use `statsmodels`, a useful module for the estimation of many different statistical models, as well as for conducting statistical tests, and statistical data exploration. "
   ]
  },
  {
   "cell_type": "code",
   "execution_count": 19,
   "metadata": {
    "colab": {
     "base_uri": "https://localhost:8080/",
     "height": 476
    },
    "colab_type": "code",
    "id": "Dv0oXf5aIpnn",
    "outputId": "f4a012ed-7ffa-469e-85d4-eca3cea99a0e"
   },
   "outputs": [
    {
     "name": "stdout",
     "output_type": "stream",
     "text": [
      "                            OLS Regression Results                            \n",
      "==============================================================================\n",
      "Dep. Variable:                   runs   R-squared:                       0.373\n",
      "Model:                            OLS   Adj. R-squared:                  0.350\n",
      "Method:                 Least Squares   F-statistic:                     16.65\n",
      "Date:                Thu, 15 May 2025   Prob (F-statistic):           0.000339\n",
      "Time:                        04:11:44   Log-Likelihood:                -167.44\n",
      "No. Observations:                  30   AIC:                             338.9\n",
      "Df Residuals:                      28   BIC:                             341.7\n",
      "Df Model:                           1                                         \n",
      "Covariance Type:            nonrobust                                         \n",
      "==============================================================================\n",
      "                 coef    std err          t      P>|t|      [0.025      0.975]\n",
      "------------------------------------------------------------------------------\n",
      "Intercept  -2789.2429    853.696     -3.267      0.003   -4537.959   -1040.526\n",
      "at_bats        0.6305      0.155      4.080      0.000       0.314       0.947\n",
      "==============================================================================\n",
      "Omnibus:                        2.579   Durbin-Watson:                   1.524\n",
      "Prob(Omnibus):                  0.275   Jarque-Bera (JB):                1.559\n",
      "Skew:                           0.544   Prob(JB):                        0.459\n",
      "Kurtosis:                       3.252   Cond. No.                     3.89e+05\n",
      "==============================================================================\n",
      "\n",
      "Notes:\n",
      "[1] Standard Errors assume that the covariance matrix of the errors is correctly specified.\n",
      "[2] The condition number is large, 3.89e+05. This might indicate that there are\n",
      "strong multicollinearity or other numerical problems.\n"
     ]
    }
   ],
   "source": [
    "# the following means: explain variable 'runs' as a function of (some transformation of) variable 'at_bats'\n",
    "formula_string = \"runs ~ at_bats\"\n",
    "\n",
    "# remember OLS = \"ordinary least squares\" - by far the most commonly used form of linear regression\n",
    "model = sm.formula.ols(formula = formula_string, data = baseball)\n",
    "model_fitted = model.fit()\n",
    "\n",
    "print(model_fitted.summary())"
   ]
  },
  {
   "cell_type": "markdown",
   "metadata": {
    "colab_type": "text",
    "id": "j14deAJlcxZF"
   },
   "source": [
    "1. Based on the output above, write down the equation of the best-fit line.\n",
    "2. Write down the $R^{2}$ of the model. <div style=\"text-align: right\"> **2 points** </div>"
   ]
  },
  {
   "cell_type": "code",
   "execution_count": 21,
   "metadata": {
    "colab_type": "text",
    "id": "V5MSa7x0Ipnt"
   },
   "outputs": [
    {
     "name": "stdout",
     "output_type": "stream",
     "text": [
      "Question 1\n",
      "============================================================\n",
      "The table shows Intercept  -2789.2429, this is a point where the straight line intersects the y-axis.\n",
      "And the slope part is 0.6305 for at_bats, like how much runs goes up when at_bats increases\n",
      "Equation for Simple linear regression is y = mx + b\n",
      "The equation of the best-fit line is: runs = 0.6305 * at_bats + (-2789.2429)\n",
      "Question 2\n",
      "============================================================\n",
      "R^2 of the model is R-squared: 0.373 according to the above table\n"
     ]
    }
   ],
   "source": [
    "# your code/answer here\n",
    "\n",
    "print_question(1)\n",
    "print(f\"The table shows Intercept  -2789.2429, this is a point where the straight line intersects the y-axis.\")\n",
    "print(f\"And the slope part is 0.6305 for at_bats, like how much runs goes up when at_bats increases\")\n",
    "print(f\"Equation for Simple linear regression is y = mx + b\")\n",
    "print(f\"The equation of the best-fit line is: runs = 0.6305 * at_bats + (-2789.2429)\")\n",
    "\n",
    "print_question(2)\n",
    "print(f\"R^2 of the model is R-squared: 0.373 according to the above table\")"
   ]
  },
  {
   "cell_type": "markdown",
   "metadata": {
    "colab_type": "text",
    "id": "cDPlAHc7Ipnu"
   },
   "source": [
    "### Exercise 3\n",
    "\n",
    "Plot the association between the two variables again, but this time with the linear model added so there is a visualisation of the model with the data.\n",
    "\n",
    "1. First, plot the association between the variables, as you did above in Question 1. \n",
    "2. Second, use the formula you specified above to compute the predicted number of `runs` ($\\hat{y}$) for each value of `at_bats` (${x}$). You can access the intercept and slope of the fitted model by indexing `model_fitted.params`. \n",
    "3. Finally, use a lineplot (`sns.lineplot`) to visualize the regression line on top of the first plot. <div style=\"text-align: right\"> **3 points** </div>"
   ]
  },
  {
   "cell_type": "code",
   "execution_count": 22,
   "metadata": {
    "colab": {},
    "colab_type": "code",
    "id": "Q2mtq5xPksj6"
   },
   "outputs": [
    {
     "name": "stdout",
     "output_type": "stream",
     "text": [
      "Question 1\n",
      "============================================================\n"
     ]
    },
    {
     "data": {
      "image/png": "[encoded data removed]",
      "text/plain": [
       "<Figure size 640x480 with 1 Axes>"
      ]
     },
     "metadata": {},
     "output_type": "display_data"
    },
    {
     "name": "stdout",
     "output_type": "stream",
     "text": [
      "\n",
      "Question 2\n",
      "============================================================\n",
      "\n",
      "Question 3\n",
      "============================================================\n",
      "\n"
     ]
    }
   ],
   "source": [
    "# your code/answer here\n",
    "print_question(1)\n",
    "plt.scatter(baseball[\"at_bats\"], baseball[\"runs\"])\n",
    "plt.xlabel(\"Number of at_bats\") \n",
    "plt.ylabel(\"Number of runs\")  \n",
    "plt.show()\n",
    "\n",
    "print(f\"\")\n",
    "print_question(2)\n",
    "print(f\"\")\n",
    "print_question(3)\n",
    "print(f\"\")"
   ]
  },
  {
   "cell_type": "markdown",
   "metadata": {
    "colab_type": "text",
    "id": "1KiW_goKIpnz"
   },
   "source": [
    "### Model diagnostics\n",
    "\n",
    "To assess whether the linear model is reliable, we need to check for (1) linearity, (2) nearly normal residuals, and (3) constant variability.\n",
    "\n",
    "Linearity: You already checked if the relationship between `runs` and `at_bats` is linear using a scatterplot. We should also verify this condition with a plot of the residuals vs. `at_bats`."
   ]
  },
  {
   "cell_type": "markdown",
   "metadata": {
    "colab_type": "text",
    "id": "vH35v2uKIpn0"
   },
   "source": [
    "### Exercies 4 \n",
    "\n",
    "1. To check linearity, plot the residuals against `at_bats`. Remember that the residual scores are defined as $e_{i} = y_{i} - \\hat{y}_{i}$ where $e_{i}$ is the residual value, $y_{i}$ is the actual $y$-value, and $\\hat{y}_{i}$ is the predicted $y$-value (Hint: use `sns.residplot` for the plotting part).\n",
    "2. Does the data show a linear trend, or not? Justify your answer. <div style=\"text-align: right\"> **3 points** </div>"
   ]
  },
  {
   "cell_type": "code",
   "execution_count": 8,
   "metadata": {
    "colab": {},
    "colab_type": "code",
    "id": "FcjSpXRYkzIM"
   },
   "outputs": [],
   "source": [
    "# your code/answer here"
   ]
  },
  {
   "cell_type": "markdown",
   "metadata": {
    "colab_type": "text",
    "id": "Bi3SIDahIpn6"
   },
   "source": [
    "### Exercise 5\n",
    "\n",
    "Now we will check whether the residuals are *normally distributed*.\n",
    "1. Plot the residuals in a histogram.\n",
    "2. Plot the residuals in a QQ-plot (use `probplot` from `scipy.stats` as `probplot(residual_values, plot=plt)`).\n",
    "3. Are the residuals normally distributed, or not? Explain your answer.<div style=\"text-align: right\"> **4 points** </div>"
   ]
  },
  {
   "cell_type": "code",
   "execution_count": 9,
   "metadata": {
    "colab": {},
    "colab_type": "code",
    "id": "NnmyrJw6k6OD",
    "scrolled": true
   },
   "outputs": [],
   "source": [
    "# your code/answer here"
   ]
  },
  {
   "cell_type": "code",
   "execution_count": 10,
   "metadata": {},
   "outputs": [],
   "source": [
    "# your code/answer here"
   ]
  },
  {
   "cell_type": "markdown",
   "metadata": {
    "colab_type": "text",
    "id": "n82VfKzgIpn_"
   },
   "source": [
    "### Exercise 6\n",
    "\n",
    "Constant variability is the last condition that we will check. Look back at the residual plot of Exercise 4 and determine (qualitatively, by \"eye-balling\" the plot) if the variability is rougly constant along the whole range of the x-axis. Explain your answer. <div style=\"text-align: right\"> **2 points** </div>"
   ]
  },
  {
   "cell_type": "code",
   "execution_count": 11,
   "metadata": {},
   "outputs": [],
   "source": [
    "# your code/answer here"
   ]
  },
  {
   "cell_type": "markdown",
   "metadata": {
    "colab_type": "text",
    "id": "k6D8CtFBIpoA"
   },
   "source": [
    "### Exercise 7\n",
    "\n",
    "You now have succesfully created a linear model of the data and checked it's validity. There are many more regression techniques for different types of data, but for the next question we will stick with the linear ones.\n",
    " \n",
    "1. Create a linear model for one of the other traditional variables vs runs (hits, homeruns, bat_avg, strikeouts, stolen_bases, or wins). Choose one you think will be a good predictor. Write down the linear formula and the $R^{2}$. Don't forget to create a plot to visualize the association between the two variables.\n",
    "\n",
    "2. Create a linear model for one of the 3 new variables (new_onbase, new_slug, new_obs) and write down the linear formula and the $R^{2}$ and create a plot to visualize the association between the two variables.\n",
    " \n",
    "3. From the two variables you have chosen above, which variable predicts the `runs` variable the best? Why?\n",
    "\n",
    "4. Check the model diagnostics for the regression model with the variable you decided was the best predictor for runs. Do these model diagnostics indicate that this linear model is reliable (i.e., check the three assumptions)?<div style=\"text-align: right\"> **10 points** </div>"
   ]
  },
  {
   "cell_type": "code",
   "execution_count": 12,
   "metadata": {
    "colab": {},
    "colab_type": "code",
    "id": "6-71013VIpoB"
   },
   "outputs": [],
   "source": [
    "# your code/answer here"
   ]
  },
  {
   "cell_type": "code",
   "execution_count": 13,
   "metadata": {},
   "outputs": [],
   "source": [
    "# your code/answer here"
   ]
  },
  {
   "cell_type": "code",
   "execution_count": 14,
   "metadata": {
    "scrolled": true
   },
   "outputs": [],
   "source": [
    "# your code/answer here"
   ]
  },
  {
   "cell_type": "code",
   "execution_count": 15,
   "metadata": {
    "colab_type": "text",
    "id": "yJUOJBGlIpoD"
   },
   "outputs": [],
   "source": [
    "# your code/answer here"
   ]
  },
  {
   "cell_type": "markdown",
   "metadata": {},
   "source": [
    "**Total number of points**: 29"
   ]
  }
 ],
 "metadata": {
  "colab": {
   "collapsed_sections": [],
   "name": "Assignment_5.ipynb",
   "provenance": [],
   "toc_visible": true
  },
  "kernelspec": {
   "display_name": "base",
   "language": "python",
   "name": "python3"
  },
  "language_info": {
   "codemirror_mode": {
    "name": "ipython",
    "version": 3
   },
   "file_extension": ".py",
   "mimetype": "text/x-python",
   "name": "python",
   "nbconvert_exporter": "python",
   "pygments_lexer": "ipython3",
   "version": "3.12.4"
  }
 },
 "nbformat": 4,
 "nbformat_minor": 1
}
