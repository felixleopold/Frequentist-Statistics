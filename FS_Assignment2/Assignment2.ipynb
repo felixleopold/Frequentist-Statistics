{
 "cells": [
  {
   "cell_type": "markdown",
   "id": "b5329395",
   "metadata": {
    "colab_type": "text",
    "id": "-lTF-NZxR3p8"
   },
   "source": [
    "# Assignment 2\n",
    "### Normal Distribution, Sampling & Confidence"
   ]
  },
  {
   "cell_type": "markdown",
   "id": "dd9bc136",
   "metadata": {
    "colab_type": "text",
    "id": "dHAIIUstR3p_"
   },
   "source": [
    "### Dataset"
   ]
  },
  {
   "cell_type": "markdown",
   "id": "4ad41d00",
   "metadata": {
    "colab_type": "text",
    "id": "6tcatmpfR3qA"
   },
   "source": [
    "Breakout is a fun arcade game by *Atari Inc.* from 1976 where you control a small paddle that can move sideways at the bottom of the screen. The goal is to bounce a ball back upwards against placed bricks. Each brick that is broken awards the player with some points. When all bricks are cleared, the player advances to the next level. Whenever the ball is not returned, the player loses a life and can try again in the same level. When all lives are lost, the game is over.\n",
    "\n",
    "Two friends play this game simultaneously, and define winning as having a higher score than the other person. All the games these two friends ever played together are collected in this dataset. \n",
    "\n",
    "Let's start by loading the toolboxes we need and uploading the dataset."
   ]
  },
  {
   "cell_type": "code",
   "execution_count": null,
   "id": "bcfd00fe",
   "metadata": {
    "colab": {},
    "colab_type": "code",
    "id": "iUh4vyblR3qA"
   },
   "outputs": [],
   "source": [
    "import pandas as pd\n",
    "import numpy as np\n",
    "import matplotlib.pyplot as plt\n",
    "import seaborn as sns\n",
    "from scipy.stats import norm\n",
    "\n",
    "sns.set_style(\"whitegrid\")"
   ]
  },
  {
   "cell_type": "code",
   "execution_count": null,
   "id": "5c5f2cec",
   "metadata": {},
   "outputs": [],
   "source": [
    "### needed/convenient only if you're working in Google colab (not for local Jupyter notebook):\n",
    "# from google.colab import files\n",
    "# uploaded = files.upload()"
   ]
  },
  {
   "cell_type": "code",
   "execution_count": null,
   "id": "d07b3d79",
   "metadata": {
    "colab": {},
    "colab_type": "code",
    "id": "Qtv593cbR3qE"
   },
   "outputs": [],
   "source": [
    "breakout_score = pd.read_csv(\"Breakout.csv\")\n",
    "breakout_score.head()"
   ]
  },
  {
   "cell_type": "markdown",
   "id": "ea00e56b",
   "metadata": {
    "colab_type": "text",
    "id": "P2ws5vmWR3qH"
   },
   "source": [
    "In this workgroup, we will focus only on the scores of player 1 which you can find in the variable `score_1`. Each row represents the score of one game."
   ]
  },
  {
   "cell_type": "markdown",
   "id": "5b07b277",
   "metadata": {
    "colab_type": "text",
    "id": "F7Dan0VdwbLM"
   },
   "source": [
    "### Exercise 1\n",
    "\n",
    "How often did player 1 play the game? <div style='text-align: right;'>**1 point**</div>"
   ]
  },
  {
   "cell_type": "code",
   "execution_count": null,
   "id": "28e7b739",
   "metadata": {
    "colab": {},
    "colab_type": "code",
    "id": "oBlGhLiwwi_E"
   },
   "outputs": [],
   "source": [
    "# your code/answer here\n",
    "#print(breakout_score[\"score_1\"])\n",
    "print(\"Player 1 played the game\", len(breakout_score[\"score_1\"]), \"times\")"
   ]
  },
  {
   "cell_type": "markdown",
   "id": "e98fb9d7",
   "metadata": {
    "colab_type": "text",
    "id": "Za34zk5jR3qI"
   },
   "source": [
    "#### Normal distribution\n",
    "\n",
    "Before we are going to analyze the data, it is important to see how the data is distributed, or more importantly, if it is normally distributed or not."
   ]
  },
  {
   "cell_type": "markdown",
   "id": "f6ae2d71",
   "metadata": {
    "colab_type": "text",
    "id": "1WkEIp2ixh6f"
   },
   "source": [
    "### Exercise 2\n",
    "\n",
    "Plot the distributions of the scores of this player, and describe the distribution. Do you think the data are normally distributed? (hint: use a histplot) <div style='text-align: right;'>**2 points**</div>"
   ]
  },
  {
   "cell_type": "code",
   "execution_count": null,
   "id": "686c82da",
   "metadata": {
    "colab": {},
    "colab_type": "code",
    "id": "3Vh9n6LYjGGF"
   },
   "outputs": [],
   "source": [
    "# your code/answer here\n",
    "sns.histplot(breakout_score[\"score_1\"])\n",
    "plt.xlabel(\"score\")\n",
    "plt.ylabel(\"frequency\")\n",
    "plt.show()\n",
    "\n",
    "#Answer\n",
    "#This is nearly normally distributed."
   ]
  },
  {
   "cell_type": "markdown",
   "id": "745dd766",
   "metadata": {
    "colab_type": "text",
    "id": "RMHJjcOHR3qi"
   },
   "source": [
    "#### Normal probability\n",
    "\n",
    "Once we decide that a variable is approximately normal, we can use our knowledge about the normal distribution to answer all sorts of questions about that variable related to probability. Take, for example, the question \"*what is the probability that this player scores 20000 or less in a particular game?*\"\n",
    "\n",
    "To answer this question, we compute the z-score, which tells us something about how far a data point is from the mean. Then we use a z-table to convert this z-score to a probability. \n",
    "\n",
    "In Python, this can be done in one step with the function `stats.norm.cdf()`:"
   ]
  },
  {
   "cell_type": "code",
   "execution_count": null,
   "id": "fd97d7fb",
   "metadata": {
    "colab": {},
    "colab_type": "code",
    "id": "WIYZxKo5R3qk"
   },
   "outputs": [],
   "source": [
    "mean = breakout_score['score_1'].mean()\n",
    "std = breakout_score['score_1'].std()\n",
    "score = 20000\n",
    "norm.cdf(score, mean, std)"
   ]
  },
  {
   "cell_type": "markdown",
   "id": "7949e20a",
   "metadata": {
    "colab_type": "text",
    "id": "gLPJxk6ztsSe"
   },
   "source": [
    "This means that this player scores less than 20000 points with a probability of 0.408. \n",
    "\n",
    "We can compare this probability to the empirical probability. We simply need to determine how many observations fall below 20000 then divide this number by the total sample size."
   ]
  },
  {
   "cell_type": "code",
   "execution_count": null,
   "id": "730c85a8",
   "metadata": {
    "colab": {},
    "colab_type": "code",
    "id": "juoZJLHbzFYG"
   },
   "outputs": [],
   "source": [
    "sum(breakout_score['score_1'] <= score) / len(breakout_score)"
   ]
  },
  {
   "cell_type": "markdown",
   "id": "98a39d25",
   "metadata": {
    "colab_type": "text",
    "id": "xU8ut8NxIHjQ"
   },
   "source": [
    "Although the probabilities are not exactly the same, they are reasonably close. The closer the distribution is to being normal, the more accurate the theoretical probabilities will be."
   ]
  },
  {
   "cell_type": "markdown",
   "id": "4ae47768",
   "metadata": {
    "colab_type": "text",
    "id": "x7C_MrYBtxRR"
   },
   "source": [
    "### Exercise 3\n",
    "\n",
    "The average score of all players online is 21500. What is the probability that, in a particular game, player 1 scores higher than this online average? Use the normal approximation to compute this probability. When printing out the result from any calculation, include some verbal description of what the numbers mean.  <div style='text-align: right;'>**2 points**</div>"
   ]
  },
  {
   "cell_type": "code",
   "execution_count": null,
   "id": "4faef875",
   "metadata": {
    "colab": {},
    "colab_type": "code",
    "id": "SNwZ9qMh0ZGM"
   },
   "outputs": [],
   "source": [
    "# your code/answer here\n",
    "#Probability that player1 can exceed 21500.\n",
    "#Assuming a normal distribution, z-score → use cumulative probability (cdf)\n",
    "\n",
    "mean = breakout_score[\"score_1\"].mean()\n",
    "std = breakout_score[\"score_1\"].std()\n",
    "\n",
    "target_score = 21500\n",
    "probability = norm.cdf(target_score,mean,std) #Calculate less prob\n",
    "result = 1 -probability #Calculate greater prob\n",
    "\n",
    "print(result)\n",
    "\n",
    "print(\"Probability that player1's socre is higher than 21500 is \",round(result*100,2), \"%\")"
   ]
  },
  {
   "cell_type": "markdown",
   "id": "f36a9b9e",
   "metadata": {
    "colab_type": "text",
    "id": "o3EsOjuXLEV2"
   },
   "source": [
    "#### Sampling\n",
    "\n",
    "In this lab we have access to the entire population, but this is rarely the case in real life. Gathering information on an entire population is often extremely costly or impossible. Because of this, we often take a sample of the population and use that to understand the properties of the population.\n",
    "\n",
    "We can use the following command to sample 30 observations from the population:"
   ]
  },
  {
   "cell_type": "code",
   "execution_count": null,
   "id": "29bb9466",
   "metadata": {
    "colab": {},
    "colab_type": "code",
    "id": "k4ieHVtj1r0L"
   },
   "outputs": [],
   "source": [
    "samp = breakout_score['score_1'].sample(30)"
   ]
  },
  {
   "cell_type": "markdown",
   "id": "380f1b6f",
   "metadata": {
    "colab_type": "text",
    "id": "blrml7Z82CGQ"
   },
   "source": [
    "### Exercise 4\n",
    "\n",
    "Have a look at the distribution of the sampled data by making another displot or histplot. Describe how it differs from the population distribution. And how does that change when you draw a larger sample of 100 scores? <div style='text-align: right;'>**3 points**</div>"
   ]
  },
  {
   "cell_type": "code",
   "execution_count": null,
   "id": "5cc836a2",
   "metadata": {
    "colab": {},
    "colab_type": "code",
    "id": "zL7gWoVz3F8_"
   },
   "outputs": [],
   "source": [
    "# your code/answer here\n",
    "\n",
    "origin = breakout_score['score_1']\n",
    "sample_30 = breakout_score['score_1'].sample(10)\n",
    "\n",
    "sample_100 = breakout_score['score_1'].sample(100)\n",
    "\n",
    "sns.histplot(origin)\n",
    "plt.title(\"origin distribution\")\n",
    "plt.show()\n",
    "sns.histplot(sample_30)\n",
    "plt.title(\"sample 30 distribution\")\n",
    "plt.show()\n",
    "sns.histplot(sample_100)\n",
    "plt.title(\"sample 100 distribution\")\n",
    "plt.show()\n",
    "\n",
    "#Answer\n",
    "#With small samples (30), the distribution can look very different from Origin.\n",
    "#The values will be more biased towards a particular range.\n",
    "\n",
    "#However, when the sample size is increased to 100, the distribution becomes closer to Origin.\n",
    "#The larger the sample size may be the more accurate and it appears to reflect characteristics such as mean, variance and shape."
   ]
  },
  {
   "cell_type": "markdown",
   "id": "fb2b7934",
   "metadata": {
    "colab_type": "text",
    "id": "f7qx7bRVJVJq"
   },
   "source": [
    "### Exercise 5\n",
    "\n",
    "Let's recompute our estimate for the probability that in a particular game player 1 scores higher than the online average. \n",
    "\n",
    "1. Does the probability differ from the probability observed in the population? \n",
    "2. Which sample estimate (30 or 100 participants) is closer to the population estimate?\n",
    "3. Do your observations from 1. and 2. above hold for every random sample (repeat the sampling multiple times)?<div style='text-align: right;'>**4 points**</div>"
   ]
  },
  {
   "cell_type": "code",
   "execution_count": null,
   "id": "8234356d",
   "metadata": {
    "colab": {},
    "colab_type": "code",
    "id": "yrw0HUJjL0qT"
   },
   "outputs": [],
   "source": [
    "# your code/answer here\n",
    "\n",
    "# Origin\n",
    "mean = breakout_score[\"score_1\"].mean()\n",
    "std = breakout_score[\"score_1\"].std()\n",
    "target_score = 21500\n",
    "probability = norm.cdf(target_score,mean,std) #Calculate less prob\n",
    "result = 1 - probability #Calculate greater prob\n",
    "\n",
    "text = \"Probability that player1's socre is higher than the online average of 21500 based on\"\n",
    "\n",
    "sample_list = [30, 100, 1000]\n",
    "\n",
    "for sample_size in sample_list:\n",
    "    sample = breakout_score['score_1'].sample(sample_size) #random_state=1 to fix the seed\n",
    "    mean_sample = sample.mean() # we need to remove [\"score_1\"] since the sample only consists of the score\n",
    "    std_sample = sample.std()\n",
    "    probability_sample = norm.cdf(target_score,mean_sample,std_sample) # Calculate less prob\n",
    "    result_sample = 1 - probability_sample # Calculate greater prob\n",
    "    # Plot the graph\n",
    "    if sample_size != 1000:\n",
    "        # plt.title(f\"Sample size {sample_size}\") # to show the plots seperately\n",
    "        sns.histplot(sample, stat=\"density\", label=f\"Sample of {sample_size}\")\n",
    "    else:\n",
    "        # plt.title(\"Original Distribution\") # to show the plots seperately\n",
    "        sns.histplot(breakout_score[\"score_1\"], stat=\"density\", label=\"Population\")\n",
    "    plt.xlabel(\"score\")\n",
    "    plt.ylabel(\"density\")\n",
    "    plt.legend()\n",
    "    # plt.show() # to show the plots seperately\n",
    "    # Print the probability\n",
    "    if sample_size != 1000:\n",
    "        print(text, f\"a sample of {sample_size} is\", round(result_sample*100,2), \"%\")\n",
    "    else:\n",
    "        print(text, f\"the population is\", round(result_sample*100,2), \"%\")\n",
    "\n",
    "# Answers:\n",
    "# 1. With n = 30 the probability is often noticablily different from the true population due to the small sample size. This becomes a lot better when using a larger sample size of n = 100.\n",
    "# 2. The sample estimate of 100 participants is almost always closer to the true population.\n",
    "# 3. There is a chance it might not be true in a rare case, but in general the observations hold.\n",
    "\n",
    "# Notes:\n",
    "# Samples with 100 scores have a rather uneven distribution due to the small sample size, resulting in random variation.\n",
    "# However, a sample of 100 scores shows a smoother distribution that more closely resembles the shape of the population.\n",
    "# As the sample size increases, the sample distribution is found to be more stable."
   ]
  },
  {
   "cell_type": "markdown",
   "id": "8e5cdbdd",
   "metadata": {
    "colab_type": "text",
    "id": "0dBTLAsPR3qo"
   },
   "source": [
    "### Exercise 6\n",
    "\n",
    "Every time we take another random sample, we get a different distribution and a different estimate.   It's useful to get a sense of just how much variability we should expect when estimating the population proportion this way. The distribution of sample probabilities, called the sampling distribution, can help us understand this variability. We can build up the sampling distribution for the population proportion by repeating the above steps many times. \n",
    "\n",
    "1. Create 5000 samples of size 30 and size 100 of the player's scores (hint: create empty numpy arrays and fill those with values in your for-loop). \n",
    "2. For each sample, compute the probability under the normal distribution that this player outperforms the average player. \n",
    "3. Save the values in each sample and show them in a histogram (you can use the histplot again). Make one histogram per sample size and make sure the x-axes are equal! \n",
    "4. How do the center and the spread of your sample distribution change when your sample size increases? <div style='text-align: right;'>**6 points**</div>"
   ]
  },
  {
   "cell_type": "code",
   "execution_count": null,
   "id": "4b97603b",
   "metadata": {
    "colab": {},
    "colab_type": "code",
    "id": "BWO_5_xaR3qp"
   },
   "outputs": [],
   "source": [
    "# your code/answer here\n",
    "# Question 1, 2, 3 & 4!\n",
    "\n",
    "# origin population\n",
    "population_mean = breakout_score[\"score_1\"].mean()\n",
    "population_std  = breakout_score[\"score_1\"].std()\n",
    "threshold_score = 21500\n",
    "\n",
    "# sumulation number\n",
    "n_simulations = 5000\n",
    "\n",
    "# empty arr\n",
    "probabilities_n30  = np.empty(n_simulations)\n",
    "probabilities_n100 = np.empty(n_simulations)\n",
    "\n",
    "for i in range(n_simulations):\n",
    "    # random samples\n",
    "    sample_n30  = breakout_score[\"score_1\"].sample(30)\n",
    "    sample_n100 = breakout_score[\"score_1\"].sample(100)\n",
    "\n",
    "    # compute mean and std\n",
    "    mean_n30,  std_n30  = sample_n30.mean(),  sample_n30.std(ddof=1)\n",
    "    mean_n100, std_n100 = sample_n100.mean(), sample_n100.std(ddof=1)\n",
    "\n",
    "    # calculate probability of outperforming score\n",
    "    cdf_n30  = norm.cdf(threshold_score, mean_n30, std_n30)\n",
    "    cdf_n100 = norm.cdf(threshold_score, mean_n100, std_n100)\n",
    "\n",
    "    probabilities_n30[i]  = 1 - cdf_n30\n",
    "    probabilities_n100[i] = 1 - cdf_n100\n",
    "\n",
    "# test visualize probabilities:\n",
    "# plt.plot(probabilities_n30)\n",
    "# plt.show()\n",
    "\n",
    "\n",
    "xmin = 0.2\n",
    "xmax = 0.8\n",
    "\n",
    "# n = 30\n",
    "arr_mean_30 = probabilities_n30.mean()\n",
    "arr_std_30 = probabilities_n30.std()\n",
    "plt.figure()\n",
    "sns.histplot(probabilities_n30, stat=\"density\", label=\"n = 30\", kde=False)\n",
    "plt.axvline(probabilities_n30.mean(), color=\"red\", linestyle=\"--\", label=\"Mean\")\n",
    "plt.axvline(arr_mean_30 + arr_std_30, color=\"orange\", linestyle=\":\", label=\"SD\")\n",
    "plt.axvline(arr_mean_30 - arr_std_30, color=\"orange\", linestyle=\":\")\n",
    "plt.text(arr_mean_30, 0.05, f\"Mean = {arr_mean_30:.4f}\", ha=\"center\", va=\"bottom\", bbox=dict(boxstyle='round', facecolor='red')) \n",
    "plt.xlim(xmin, xmax)        # fix x axis\n",
    "plt.xlabel(\"Probability of beating 21500\")\n",
    "plt.ylabel(\"Density\")\n",
    "plt.title(\"Sampling Distribution\")\n",
    "plt.legend()\n",
    "plt.show()\n",
    "\n",
    "# n = 100\n",
    "arr_mean_100 = probabilities_n100.mean()\n",
    "arr_std_100 = probabilities_n100.std()\n",
    "plt.figure()\n",
    "sns.histplot(probabilities_n100, stat=\"density\", label=\"n = 100\", kde=False)\n",
    "plt.axvline(probabilities_n100.mean(), color=\"red\", linestyle=\"--\", label=\"Mean\")\n",
    "plt.axvline(arr_mean_100 + arr_std_100, color=\"orange\", linestyle=\":\", label=\"SD\")\n",
    "plt.axvline(arr_mean_100 - arr_std_100, color=\"orange\", linestyle=\":\")\n",
    "plt.text(arr_mean_100, 0.05, f\"Mean = {arr_mean_100:.4f}\", ha=\"center\", va=\"bottom\", bbox=dict(boxstyle='round', facecolor='red')) \n",
    "plt.xlim(xmin, xmax)\n",
    "plt.xlabel(\"Probability of beating 21500\")\n",
    "plt.ylabel(\"Density\")\n",
    "plt.title(\"Sampling Distribution\")\n",
    "plt.legend()\n",
    "plt.show()\n",
    "\n",
    "print(\n",
    "f\"\"\"For both sampling distributions, the mean is near the 'true' probability.  \n",
    "However, the distribution will be more tightly clustered around the mean for the higher sampling size.  \n",
    "This is because, for a smaller sample size, there is more variation resulting in a wider spread.  \n",
    "The standard deviation is also larger for a lower sampling size.\"\"\"\n",
    ")"
   ]
  },
  {
   "cell_type": "markdown",
   "id": "c5cfdd7e",
   "metadata": {
    "colab_type": "text",
    "id": "rsw2vuREoIdi"
   },
   "source": [
    "#### Confidence intervals\n",
    "\n",
    "Let's say we want to know what the average performance of our player is. If we have access to data from all games (population), it is straightforward to answer questions like this. When we only have sample data, we can approximate the mean of our population using our sample mean. That serves as a good point estimate but it would be useful to also communicate how uncertain we are of that estimate. This can be captured by using a confidence interval.\n",
    "\n",
    "In the online lecture, you have seen how to calculate a confidence interval for probabilities. We can use a similar method to compute a confidence interval for numerical data. We can calculate a 95% confidence interval for a sample mean by adding and subtracting 1.96 standard errors to the point estimate (this is the z*–value). By computing confidence intervals, we can make inferences about what the population means. For numerical data, we can compute the standard error using the formula: SE = $\\frac{\\sigma}{\\sqrt n}$"
   ]
  },
  {
   "cell_type": "markdown",
   "id": "8e787d6f",
   "metadata": {
    "colab_type": "text",
    "id": "mJBrFMicR3qz"
   },
   "source": [
    "### Exercise 7\n",
    "\n",
    "1. Write a function that takes a sample dataset and a z*–value as input and outputs the lower and the upper bound of the confidence interval.\n",
    "2. Draw a sample of 30 scores and print the confidence interval. Does the confidence interval contain the population mean?\n",
    "3. Now recompute the confidence interval for a sample of 200 scores. How does the interval change? Why is that?\n",
    "4. Now change the confidence level to 99% (z*=2.58) for the 200 samples. How does that change your interval?\n",
    "5. Draw 5000 samples of 50 scores and calculate the percentage of how often the 95% confidence interval contains the population mean. Is this number similar to what you would expect?<div style='text-align: right;'>**11 points**</div>"
   ]
  },
  {
   "cell_type": "code",
   "execution_count": null,
   "id": "c8a62251",
   "metadata": {
    "colab": {},
    "colab_type": "code",
    "id": "dEMDJ2TNR3qz"
   },
   "outputs": [],
   "source": [
    "# your code/answer here\n",
    "#Answer1\n",
    "\n",
    "#This function is that calculates the confidence interval from sample data and a z-value.\n",
    "\n",
    "#General formula\n",
    "#The confidence interval = sample mean ± (z-value * standard error)\n",
    "#Standard error = sample standard deviation ÷ √sample size\n",
    "#Lower bound of the confidence interval = mean − (z-value * standard error)\n",
    "#Upper bound of the confidence interval = mean + (z-value * standard error)\n",
    "\n",
    "def confidence_interval(sample, z_value):\n",
    "    \n",
    "    mean = sample.mean()\n",
    "    std = sample.std()\n",
    "\n",
    "    standard_error = std / np.sqrt(len(sample))\n",
    "\n",
    "    lower = mean - (z_value* standard_error)\n",
    "    upper = mean + (z_value * standard_error)\n",
    "\n",
    "    #Ensure that a single number is returned\n",
    "    if isinstance(lower, pd.Series):\n",
    "        lower = lower.iloc[0]\n",
    "    if isinstance(upper, pd.Series):\n",
    "        upper = upper.iloc[0]\n",
    "\n",
    "    return lower, upper"
   ]
  },
  {
   "cell_type": "code",
   "execution_count": null,
   "id": "f3f5fa52",
   "metadata": {
    "colab": {},
    "colab_type": "code",
    "id": "7fKRwPGlR3q1"
   },
   "outputs": [],
   "source": [
    "# your code/answer here\n",
    "#pick up random 30 samples\n",
    "sample_30 = breakout_score[\"score_1\"].sample(30)\n",
    "\n",
    "#Calculate the population mean.\n",
    "population_mean = breakout_score[\"score_1\"].mean()\n",
    "\n",
    "#z-score is 1.96 for 95%\n",
    "z = 1.96\n",
    "\n",
    "#calculates the 95% confidence interval\n",
    "lower,upper = confidence_interval(sample_30,z)\n",
    "\n",
    "print(f\"Expected range: {lower}to{upper}\")\n",
    "print(f\"population_mean is: {population_mean}\")\n",
    "\n",
    "#Check\n",
    "if lower <= population_mean <= upper:\n",
    "    print(\"within range\")\n",
    "else:\n",
    "    print(\"out of range\")\n"
   ]
  },
  {
   "cell_type": "code",
   "execution_count": null,
   "id": "a8caeae6",
   "metadata": {
    "colab": {},
    "colab_type": "code",
    "id": "nueGI68JRPZ-"
   },
   "outputs": [],
   "source": [
    "# your code/answer here\n",
    "\n",
    "#new sample 200\n",
    "sample_200 = breakout_score[\"score_1\"].sample(200)\n",
    "lower_200,upper_200 = confidence_interval(sample_200,z)\n",
    "\n",
    "range_200 = upper_200 - lower_200\n",
    "\n",
    "print(f\"Expected range: {lower_200}to{upper_200}\")\n",
    "print(f\"confidence_interval: {range_200}\")\n",
    "\n",
    "print(f\"population_mean is: {population_mean}\")\n",
    "\n",
    "#Why interval change?\n",
    "#When the sample size increases from 30 to 200 the denominator increases. \n",
    "#As a result, the standard error becomes smaller, which in turn leads to a narrower confidence interval."
   ]
  },
  {
   "cell_type": "code",
   "execution_count": null,
   "id": "963fe703",
   "metadata": {
    "colab": {},
    "colab_type": "code",
    "id": "OgFS5YpBRpBk"
   },
   "outputs": [],
   "source": [
    "# your code/answer here\n",
    "\n",
    "#95% confidence_interval\n",
    "z_95 = 1.96\n",
    "#99% confidence_interval\n",
    "z_99 = 2.58\n",
    "\n",
    "#95%\n",
    "lower_95, upper_95 = confidence_interval(sample_200,z_95)\n",
    "range_95 = upper_95 - lower_95\n",
    "\n",
    "#99%\n",
    "lower_99, upper_99 = confidence_interval(sample_200,z_99)\n",
    "range_99 = upper_99 - lower_99\n",
    "\n",
    "print(f\"Expected range(95): {lower_95}to{upper_95}\")\n",
    "print(f\"Expected range(99): {lower_99}to{upper_99}\")\n",
    "\n",
    "#Change rate\n",
    "rate = (range_99/range_95 -1) *100\n",
    "print(f\"Change rate : {rate}\")\n",
    "\n",
    "#Increasing the confidence level means that the interval must cover a wider range to ensure a higher probability of containing the population mean.\n",
    "#In other words, in order to increase confidence, we may have to accept a decrease in precision."
   ]
  },
  {
   "cell_type": "code",
   "execution_count": null,
   "id": "acb1e21f",
   "metadata": {
    "colab": {},
    "colab_type": "code",
    "id": "RNGLxMHS92gc"
   },
   "outputs": [],
   "source": [
    "# your code/answer here\n",
    "sample_5000 = 5000\n",
    "sample_size = 50\n",
    "z = 1.96\n",
    "confidence_interval_list = []\n",
    "count = 0\n",
    "\n",
    "for i in range(sample_5000):\n",
    "     #pick up 50 random sample \n",
    "     sample = breakout_score[\"score_1\"].sample(sample_size)\n",
    "\n",
    "     lower,upper = confidence_interval(sample,z)\n",
    "\n",
    "     if lower <= population_mean <= upper:\n",
    "          count += 1\n",
    "\n",
    "print(f\"total count : {count}\")\n",
    "\n",
    "percentage = (count/sample_5000) * 100\n",
    "\n",
    "print(f\"The proportion of confidence intervals contain population mean : {percentage}%\")\n",
    "\n",
    "#The results of 5,000 simulations yield a number close to 95%, \n",
    "#This demonstrates that repeated calculations contain the population mean approximately 95% of the time."
   ]
  },
  {
   "cell_type": "markdown",
   "id": "70bb6ed2",
   "metadata": {},
   "source": [
    "**Total number of points**: 1 + 2 + 2 + 3 + 4 + 6 + 11 = 29"
   ]
  }
 ],
 "metadata": {
  "jupytext": {
   "default_lexer": "ipython3"
  },
  "kernelspec": {
   "display_name": "spyder",
   "language": "python",
   "name": "python3"
  }
 },
 "nbformat": 4,
 "nbformat_minor": 5
}
