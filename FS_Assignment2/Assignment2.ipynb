{
 "cells": [
  {
   "cell_type": "markdown",
   "metadata": {
    "colab_type": "text",
    "id": "-lTF-NZxR3p8"
   },
   "source": [
    "# Assignment 2\n",
    "### Normal Distribution, Sampling & Confidence"
   ]
  },
  {
   "cell_type": "markdown",
   "metadata": {
    "colab_type": "text",
    "id": "dHAIIUstR3p_"
   },
   "source": [
    "### Dataset"
   ]
  },
  {
   "cell_type": "markdown",
   "metadata": {
    "colab_type": "text",
    "id": "6tcatmpfR3qA"
   },
   "source": [
    "Breakout is a fun arcade game by *Atari Inc.* from 1976 where you control a small paddle that can move sideways at the bottom of the screen. The goal is to bounce a ball back upwards against placed bricks. Each brick that is broken awards the player with some points. When all bricks are cleared, the player advances to the next level. Whenever the ball is not returned, the player loses a life and can try again in the same level. When all lives are lost, the game is over.\n",
    "\n",
    "Two friends play this game simultaneously, and define winning as having a higher score than the other person. All the games these two friends ever played together are collected in this dataset. \n",
    "\n",
    "Let's start by loading the toolboxes we need and uploading the dataset. "
   ]
  },
  {
   "cell_type": "code",
   "execution_count": 1,
   "metadata": {
    "colab": {},
    "colab_type": "code",
    "id": "iUh4vyblR3qA"
   },
   "outputs": [],
   "source": [
    "import pandas as pd\n",
    "import numpy as np\n",
    "import matplotlib.pyplot as plt\n",
    "import seaborn as sns\n",
    "from scipy.stats import norm\n",
    "\n",
    "sns.set_style(\"whitegrid\")"
   ]
  },
  {
   "cell_type": "code",
   "execution_count": 20,
   "metadata": {},
   "outputs": [],
   "source": [
    "### needed/convenient only if you're working in Google colab (not for local Jupyter notebook):\n",
    "# from google.colab import files\n",
    "# uploaded = files.upload()"
   ]
  },
  {
   "cell_type": "code",
   "execution_count": 5,
   "metadata": {
    "colab": {},
    "colab_type": "code",
    "id": "Qtv593cbR3qE"
   },
   "outputs": [
    {
     "data": {
      "text/html": [
       "<div>\n",
       "<style scoped>\n",
       "    .dataframe tbody tr th:only-of-type {\n",
       "        vertical-align: middle;\n",
       "    }\n",
       "\n",
       "    .dataframe tbody tr th {\n",
       "        vertical-align: top;\n",
       "    }\n",
       "\n",
       "    .dataframe thead th {\n",
       "        text-align: right;\n",
       "    }\n",
       "</style>\n",
       "<table border=\"1\" class=\"dataframe\">\n",
       "  <thead>\n",
       "    <tr style=\"text-align: right;\">\n",
       "      <th></th>\n",
       "      <th>score_1</th>\n",
       "      <th>wins_1</th>\n",
       "      <th>score_2</th>\n",
       "      <th>wins_2</th>\n",
       "    </tr>\n",
       "  </thead>\n",
       "  <tbody>\n",
       "    <tr>\n",
       "      <th>0</th>\n",
       "      <td>16500</td>\n",
       "      <td>L</td>\n",
       "      <td>19400</td>\n",
       "      <td>W</td>\n",
       "    </tr>\n",
       "    <tr>\n",
       "      <th>1</th>\n",
       "      <td>18600</td>\n",
       "      <td>L</td>\n",
       "      <td>21100</td>\n",
       "      <td>W</td>\n",
       "    </tr>\n",
       "    <tr>\n",
       "      <th>2</th>\n",
       "      <td>27100</td>\n",
       "      <td>W</td>\n",
       "      <td>25400</td>\n",
       "      <td>L</td>\n",
       "    </tr>\n",
       "    <tr>\n",
       "      <th>3</th>\n",
       "      <td>19800</td>\n",
       "      <td>L</td>\n",
       "      <td>26800</td>\n",
       "      <td>W</td>\n",
       "    </tr>\n",
       "    <tr>\n",
       "      <th>4</th>\n",
       "      <td>12600</td>\n",
       "      <td>L</td>\n",
       "      <td>16600</td>\n",
       "      <td>W</td>\n",
       "    </tr>\n",
       "  </tbody>\n",
       "</table>\n",
       "</div>"
      ],
      "text/plain": [
       "   score_1 wins_1  score_2 wins_2\n",
       "0    16500      L    19400      W\n",
       "1    18600      L    21100      W\n",
       "2    27100      W    25400      L\n",
       "3    19800      L    26800      W\n",
       "4    12600      L    16600      W"
      ]
     },
     "execution_count": 5,
     "metadata": {},
     "output_type": "execute_result"
    }
   ],
   "source": [
    "breakout_score = pd.read_csv(\"Breakout.csv\")\n",
    "breakout_score.head()"
   ]
  },
  {
   "cell_type": "markdown",
   "metadata": {
    "colab_type": "text",
    "id": "P2ws5vmWR3qH"
   },
   "source": [
    "In this workgroup, we will focus only on the scores of player 1 which you can find in the variable `score_1`. Each row represents the score of one game. "
   ]
  },
  {
   "cell_type": "markdown",
   "metadata": {
    "colab_type": "text",
    "id": "F7Dan0VdwbLM"
   },
   "source": [
    "### Exercise 1\n",
    "\n",
    "How often did player 1 play the game? <div style='text-align: right;'>**1 point**</div>"
   ]
  },
  {
   "cell_type": "code",
   "execution_count": 1,
   "metadata": {
    "colab": {},
    "colab_type": "code",
    "id": "oBlGhLiwwi_E"
   },
   "outputs": [],
   "source": [
    "# your code/answer here"
   ]
  },
  {
   "cell_type": "markdown",
   "metadata": {
    "colab_type": "text",
    "id": "Za34zk5jR3qI"
   },
   "source": [
    "#### Normal distribution\n",
    "\n",
    "Before we are going to analyze the data, it is important to see how the data is distributed, or more importantly, if it is normally distributed or not."
   ]
  },
  {
   "cell_type": "markdown",
   "metadata": {
    "colab_type": "text",
    "id": "1WkEIp2ixh6f"
   },
   "source": [
    "### Exercise 2\n",
    "\n",
    "Plot the distributions of the scores of this player, and describe the distribution. Do you think the data are normally distributed? (hint: use a histplot) <div style='text-align: right;'>**2 points**</div>"
   ]
  },
  {
   "cell_type": "code",
   "execution_count": 2,
   "metadata": {
    "colab": {},
    "colab_type": "code",
    "id": "3Vh9n6LYjGGF"
   },
   "outputs": [],
   "source": [
    "# your code/answer here"
   ]
  },
  {
   "cell_type": "markdown",
   "metadata": {
    "colab_type": "text",
    "id": "RMHJjcOHR3qi"
   },
   "source": [
    "#### Normal probability\n",
    "\n",
    "Once we decide that a variable is approximately normal, we can use our knowledge about the normal distribution to answer all sorts of questions about that variable related to probability. Take, for example, the question \"*what is the probability that this player scores 20000 or less in a particular game?*\"\n",
    "\n",
    "To answer this question, we compute the z-score, which tells us something about how far a data point is from the mean. Then we use a z-table to convert this z-score to a probability. \n",
    "\n",
    "In Python, this can be done in one step with the function `stats.norm.cdf()`:"
   ]
  },
  {
   "cell_type": "code",
   "execution_count": 9,
   "metadata": {
    "colab": {},
    "colab_type": "code",
    "collapsed": true,
    "id": "WIYZxKo5R3qk"
   },
   "outputs": [
    {
     "data": {
      "text/plain": [
       "0.4075083828254088"
      ]
     },
     "execution_count": 9,
     "metadata": {},
     "output_type": "execute_result"
    }
   ],
   "source": [
    "mean = breakout_score['score_1'].mean()\n",
    "std = breakout_score['score_1'].std()\n",
    "score = 20000\n",
    "norm.cdf(score, mean, std)"
   ]
  },
  {
   "cell_type": "markdown",
   "metadata": {
    "colab_type": "text",
    "id": "gLPJxk6ztsSe"
   },
   "source": [
    "This means that this player scores less than 20000 points with a probability of 0.408. \n",
    "\n",
    "We can compare this probability to the empirical probability. We simply need to determine how many observations fall below 20000 then divide this number by the total sample size. "
   ]
  },
  {
   "cell_type": "code",
   "execution_count": 10,
   "metadata": {
    "colab": {},
    "colab_type": "code",
    "collapsed": true,
    "id": "juoZJLHbzFYG"
   },
   "outputs": [
    {
     "data": {
      "text/plain": [
       "0.411"
      ]
     },
     "execution_count": 10,
     "metadata": {},
     "output_type": "execute_result"
    }
   ],
   "source": [
    "sum(breakout_score['score_1'] <= score) / len(breakout_score)"
   ]
  },
  {
   "cell_type": "markdown",
   "metadata": {
    "colab_type": "text",
    "id": "xU8ut8NxIHjQ"
   },
   "source": [
    "\n",
    "Although the probabilities are not exactly the same, they are reasonably close. The closer the distribution is to being normal, the more accurate the theoretical probabilities will be."
   ]
  },
  {
   "cell_type": "markdown",
   "metadata": {
    "colab_type": "text",
    "id": "x7C_MrYBtxRR"
   },
   "source": [
    "### Exercise 3\n",
    "\n",
    "The average score of all players online is 21500. What is the probability that, in a particular game, player 1 scores higher than this online average? Use the normal approximation to compute this probability. When printing out the result from any calculation, include some verbal description of what the numbers mean.  <div style='text-align: right;'>**2 points**</div>"
   ]
  },
  {
   "cell_type": "code",
   "execution_count": 3,
   "metadata": {
    "colab": {},
    "colab_type": "code",
    "id": "SNwZ9qMh0ZGM"
   },
   "outputs": [],
   "source": [
    "# your code/answer here"
   ]
  },
  {
   "cell_type": "markdown",
   "metadata": {
    "colab_type": "text",
    "id": "o3EsOjuXLEV2"
   },
   "source": [
    "#### Sampling\n",
    "\n",
    "In this lab we have access to the entire population, but this is rarely the case in real life. Gathering information on an entire population is often extremely costly or impossible. Because of this, we often take a sample of the population and use that to understand the properties of the population.\n",
    "\n",
    "We can use the following command to sample 30 observations from the population:"
   ]
  },
  {
   "cell_type": "code",
   "execution_count": 23,
   "metadata": {
    "colab": {},
    "colab_type": "code",
    "id": "k4ieHVtj1r0L"
   },
   "outputs": [],
   "source": [
    "samp = breakout_score['score_1'].sample(30)"
   ]
  },
  {
   "cell_type": "markdown",
   "metadata": {
    "colab_type": "text",
    "id": "blrml7Z82CGQ"
   },
   "source": [
    "### Exercise 4\n",
    "\n",
    "Have a look at the distribution of the sampled data by making another displot or histplot. Describe how it differs from the population distribution. And how does that change when you draw a larger sample of 100 scores? <div style='text-align: right;'>**3 points**</div>"
   ]
  },
  {
   "cell_type": "code",
   "execution_count": 4,
   "metadata": {
    "colab": {},
    "colab_type": "code",
    "id": "zL7gWoVz3F8_"
   },
   "outputs": [],
   "source": [
    "# your code/answer here"
   ]
  },
  {
   "cell_type": "markdown",
   "metadata": {
    "colab_type": "text",
    "id": "f7qx7bRVJVJq"
   },
   "source": [
    "### Exercise 5\n",
    "\n",
    "Let's recompute our estimate for the probability that in a particular game player 1 scores higher than the online average. \n",
    "\n",
    "1. Does the probability differ from the probability observed in the population? \n",
    "2. Which sample estimate (30 or 100 participants) is closer to the population estimate?\n",
    "3. Do your observations from 1. and 2. above hold for every random sample (repeat the sampling multiple times)?<div style='text-align: right;'>**4 points**</div>"
   ]
  },
  {
   "cell_type": "code",
   "execution_count": 5,
   "metadata": {
    "colab": {},
    "colab_type": "code",
    "id": "yrw0HUJjL0qT"
   },
   "outputs": [],
   "source": [
    "# your code/answer here"
   ]
  },
  {
   "cell_type": "markdown",
   "metadata": {
    "colab_type": "text",
    "id": "0dBTLAsPR3qo"
   },
   "source": [
    "### Exercise 6\n",
    "\n",
    "Every time we take another random sample, we get a different distribution and a different estimate.   It's useful to get a sense of just how much variability we should expect when estimating the population proportion this way. The distribution of sample probabilities, called the sampling distribution, can help us understand this variability. We can build up the sampling distribution for the population proportion by repeating the above steps many times. \n",
    "\n",
    "1. Create 5000 samples of size 30 and size 100 of the player's scores (hint: create empty numpy arrays and fill those with values in your for-loop). \n",
    "2. For each sample, compute the probability under the normal distribution that this player outperforms the average player. \n",
    "3. Save the values in each sample and show them in a histogram (you can use the histplot again). Make one histogram per sample size and make sure the x-axes are equal! \n",
    "4. How do the center and the spread of your sample distribution change when your sample size increases? <div style='text-align: right;'>**6 points**</div>"
   ]
  },
  {
   "cell_type": "code",
   "execution_count": 6,
   "metadata": {
    "colab": {},
    "colab_type": "code",
    "id": "BWO_5_xaR3qp"
   },
   "outputs": [],
   "source": [
    "# your code/answer here"
   ]
  },
  {
   "cell_type": "code",
   "execution_count": 7,
   "metadata": {
    "colab": {},
    "colab_type": "code",
    "id": "Azw0jCntR3qt"
   },
   "outputs": [],
   "source": [
    "# your code/answer here"
   ]
  },
  {
   "cell_type": "markdown",
   "metadata": {
    "colab_type": "text",
    "id": "rsw2vuREoIdi"
   },
   "source": [
    "#### Confidence intervals\n",
    "\n",
    "Let's say we want to know what the average performance of our player is. If we have access to data from all games (population), it is straightforward to answer questions like this. When we only have sample data, we can approximate the mean of our population using our sample mean. That serves as a good point estimate but it would be useful to also communicate how uncertain we are of that estimate. This can be captured by using a confidence interval.\n",
    "\n",
    "In the online lecture, you have seen how to calculate a confidence interval for probabilities. We can use a similar method to compute a confidence interval for numerical data. We can calculate a 95% confidence interval for a sample mean by adding and subtracting 1.96 standard errors to the point estimate (this is the z*–value). By computing confidence intervals, we can make inferences about what the population means. For numerical data, we can compute the standard error using the formula: SE = $\\frac{\\sigma}{\\sqrt n}$\n"
   ]
  },
  {
   "cell_type": "markdown",
   "metadata": {
    "colab_type": "text",
    "id": "mJBrFMicR3qz"
   },
   "source": [
    "### Exercise 7\n",
    "\n",
    "1. Write a function that takes a sample dataset and a z*–value as input and outputs the lower and the upper bound of the confidence interval.\n",
    "2. Draw a sample of 30 scores and print the confidence interval. Does the confidence interval contain the population mean?\n",
    "3. Now recompute the confidence interval for a sample of 200 scores. How does the interval change? Why is that?\n",
    "4. Now change the confidence level to 99% (z*=2.58) for the 200 samples. How does that change your interval?\n",
    "5. Draw 5000 samples of 50 scores and calculate the percentage of how often the 95% confidence interval contains the population mean. Is this number similar to what you would expect?<div style='text-align: right;'>**11 points**</div>"
   ]
  },
  {
   "cell_type": "code",
   "execution_count": 41,
   "metadata": {
    "colab": {},
    "colab_type": "code",
    "id": "dEMDJ2TNR3qz"
   },
   "outputs": [],
   "source": [
    "# your code/answer here"
   ]
  },
  {
   "cell_type": "code",
   "execution_count": 8,
   "metadata": {
    "colab": {},
    "colab_type": "code",
    "id": "7fKRwPGlR3q1"
   },
   "outputs": [],
   "source": [
    "# your code/answer here"
   ]
  },
  {
   "cell_type": "code",
   "execution_count": 9,
   "metadata": {
    "colab": {},
    "colab_type": "code",
    "id": "nueGI68JRPZ-"
   },
   "outputs": [],
   "source": [
    "# your code/answer here"
   ]
  },
  {
   "cell_type": "code",
   "execution_count": 10,
   "metadata": {
    "colab": {},
    "colab_type": "code",
    "id": "OgFS5YpBRpBk"
   },
   "outputs": [],
   "source": [
    "# your code/answer here"
   ]
  },
  {
   "cell_type": "code",
   "execution_count": 11,
   "metadata": {
    "colab": {},
    "colab_type": "code",
    "id": "RNGLxMHS92gc"
   },
   "outputs": [],
   "source": [
    "# your code/answer here"
   ]
  },
  {
   "cell_type": "markdown",
   "metadata": {},
   "source": [
    "**Total number of points**: 1 + 2 + 2 + 3 + 4 + 6 + 11 = 29"
   ]
  }
 ],
 "metadata": {
  "colab": {
   "collapsed_sections": [],
   "name": "Assignment_2.ipynb",
   "provenance": []
  },
  "kernelspec": {
   "display_name": "Python 3 (ipykernel)",
   "language": "python",
   "name": "python3"
  },
  "language_info": {
   "codemirror_mode": {
    "name": "ipython",
    "version": 3
   },
   "file_extension": ".py",
   "mimetype": "text/x-python",
   "name": "python",
   "nbconvert_exporter": "python",
   "pygments_lexer": "ipython3",
   "version": "3.9.7"
  }
 },
 "nbformat": 4,
 "nbformat_minor": 4
}
