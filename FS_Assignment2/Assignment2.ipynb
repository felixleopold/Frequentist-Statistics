{
 "cells": [
  {
   "cell_type": "markdown",
   "metadata": {
    "colab_type": "text",
    "id": "-lTF-NZxR3p8"
   },
   "source": [
    "# Assignment 2\n",
    "### Normal Distribution, Sampling & Confidence"
   ]
  },
  {
   "cell_type": "markdown",
   "metadata": {
    "colab_type": "text",
    "id": "dHAIIUstR3p_"
   },
   "source": [
    "### Dataset"
   ]
  },
  {
   "cell_type": "markdown",
   "metadata": {
    "colab_type": "text",
    "id": "6tcatmpfR3qA"
   },
   "source": [
    "Breakout is a fun arcade game by *Atari Inc.* from 1976 where you control a small paddle that can move sideways at the bottom of the screen. The goal is to bounce a ball back upwards against placed bricks. Each brick that is broken awards the player with some points. When all bricks are cleared, the player advances to the next level. Whenever the ball is not returned, the player loses a life and can try again in the same level. When all lives are lost, the game is over.\n",
    "\n",
    "Two friends play this game simultaneously, and define winning as having a higher score than the other person. All the games these two friends ever played together are collected in this dataset. \n",
    "\n",
    "Let's start by loading the toolboxes we need and uploading the dataset. "
   ]
  },
  {
   "cell_type": "code",
   "execution_count": 19,
   "metadata": {
    "colab": {},
    "colab_type": "code",
    "id": "iUh4vyblR3qA"
   },
   "outputs": [],
   "source": [
    "import pandas as pd\n",
    "import numpy as np\n",
    "import matplotlib.pyplot as plt\n",
    "import seaborn as sns\n",
    "from scipy.stats import norm\n",
    "\n",
    "sns.set_style(\"whitegrid\")"
   ]
  },
  {
   "cell_type": "code",
   "execution_count": 20,
   "metadata": {},
   "outputs": [],
   "source": [
    "### needed/convenient only if you're working in Google colab (not for local Jupyter notebook):\n",
    "# from google.colab import files\n",
    "# uploaded = files.upload()"
   ]
  },
  {
   "cell_type": "code",
   "execution_count": 21,
   "metadata": {
    "colab": {},
    "colab_type": "code",
    "id": "Qtv593cbR3qE"
   },
   "outputs": [
    {
     "data": {
      "text/html": [
       "<div>\n",
       "<style scoped>\n",
       "    .dataframe tbody tr th:only-of-type {\n",
       "        vertical-align: middle;\n",
       "    }\n",
       "\n",
       "    .dataframe tbody tr th {\n",
       "        vertical-align: top;\n",
       "    }\n",
       "\n",
       "    .dataframe thead th {\n",
       "        text-align: right;\n",
       "    }\n",
       "</style>\n",
       "<table border=\"1\" class=\"dataframe\">\n",
       "  <thead>\n",
       "    <tr style=\"text-align: right;\">\n",
       "      <th></th>\n",
       "      <th>score_1</th>\n",
       "      <th>wins_1</th>\n",
       "      <th>score_2</th>\n",
       "      <th>wins_2</th>\n",
       "    </tr>\n",
       "  </thead>\n",
       "  <tbody>\n",
       "    <tr>\n",
       "      <th>0</th>\n",
       "      <td>16500</td>\n",
       "      <td>L</td>\n",
       "      <td>19400</td>\n",
       "      <td>W</td>\n",
       "    </tr>\n",
       "    <tr>\n",
       "      <th>1</th>\n",
       "      <td>18600</td>\n",
       "      <td>L</td>\n",
       "      <td>21100</td>\n",
       "      <td>W</td>\n",
       "    </tr>\n",
       "    <tr>\n",
       "      <th>2</th>\n",
       "      <td>27100</td>\n",
       "      <td>W</td>\n",
       "      <td>25400</td>\n",
       "      <td>L</td>\n",
       "    </tr>\n",
       "    <tr>\n",
       "      <th>3</th>\n",
       "      <td>19800</td>\n",
       "      <td>L</td>\n",
       "      <td>26800</td>\n",
       "      <td>W</td>\n",
       "    </tr>\n",
       "    <tr>\n",
       "      <th>4</th>\n",
       "      <td>12600</td>\n",
       "      <td>L</td>\n",
       "      <td>16600</td>\n",
       "      <td>W</td>\n",
       "    </tr>\n",
       "  </tbody>\n",
       "</table>\n",
       "</div>"
      ],
      "text/plain": [
       "   score_1 wins_1  score_2 wins_2\n",
       "0    16500      L    19400      W\n",
       "1    18600      L    21100      W\n",
       "2    27100      W    25400      L\n",
       "3    19800      L    26800      W\n",
       "4    12600      L    16600      W"
      ]
     },
     "execution_count": 21,
     "metadata": {},
     "output_type": "execute_result"
    }
   ],
   "source": [
    "breakout_score = pd.read_csv(\"Breakout.csv\")\n",
    "breakout_score.head()"
   ]
  },
  {
   "cell_type": "markdown",
   "metadata": {
    "colab_type": "text",
    "id": "P2ws5vmWR3qH"
   },
   "source": [
    "In this workgroup, we will focus only on the scores of player 1 which you can find in the variable `score_1`. Each row represents the score of one game. "
   ]
  },
  {
   "cell_type": "markdown",
   "metadata": {
    "colab_type": "text",
    "id": "F7Dan0VdwbLM"
   },
   "source": [
    "### Exercise 1\n",
    "\n",
    "How often did player 1 play the game? <div style='text-align: right;'>**1 point**</div>"
   ]
  },
  {
   "cell_type": "code",
   "execution_count": 22,
   "metadata": {
    "colab": {},
    "colab_type": "code",
    "id": "oBlGhLiwwi_E"
   },
   "outputs": [
    {
     "data": {
      "text/plain": [
       "1000"
      ]
     },
     "execution_count": 22,
     "metadata": {},
     "output_type": "execute_result"
    }
   ],
   "source": [
    "# your code/answer here\n",
    "#print(breakout_score[\"score_1\"])\n",
    "len(breakout_score[\"score_1\"])"
   ]
  },
  {
   "cell_type": "markdown",
   "metadata": {
    "colab_type": "text",
    "id": "Za34zk5jR3qI"
   },
   "source": [
    "#### Normal distribution\n",
    "\n",
    "Before we are going to analyze the data, it is important to see how the data is distributed, or more importantly, if it is normally distributed or not."
   ]
  },
  {
   "cell_type": "markdown",
   "metadata": {
    "colab_type": "text",
    "id": "1WkEIp2ixh6f"
   },
   "source": [
    "### Exercise 2\n",
    "\n",
    "Plot the distributions of the scores of this player, and describe the distribution. Do you think the data are normally distributed? (hint: use a histplot) <div style='text-align: right;'>**2 points**</div>"
   ]
  },
  {
   "cell_type": "code",
   "execution_count": 23,
   "metadata": {
    "colab": {},
    "colab_type": "code",
    "id": "3Vh9n6LYjGGF"
   },
   "outputs": [
    {
     "data": {
      "image/png": "[encoded data removed]",
      "text/plain": [
       "<Figure size 640x480 with 1 Axes>"
      ]
     },
     "metadata": {},
     "output_type": "display_data"
    }
   ],
   "source": [
    "# your code/answer here\n",
    "sns.histplot(breakout_score[\"score_1\"])\n",
    "plt.xlabel(\"score\")\n",
    "plt.ylabel(\"frequency\")\n",
    "plt.show()\n",
    "\n",
    "#Answer\n",
    "#This is nearly normally distributed."
   ]
  },
  {
   "cell_type": "markdown",
   "metadata": {
    "colab_type": "text",
    "id": "RMHJjcOHR3qi"
   },
   "source": [
    "#### Normal probability\n",
    "\n",
    "Once we decide that a variable is approximately normal, we can use our knowledge about the normal distribution to answer all sorts of questions about that variable related to probability. Take, for example, the question \"*what is the probability that this player scores 20000 or less in a particular game?*\"\n",
    "\n",
    "To answer this question, we compute the z-score, which tells us something about how far a data point is from the mean. Then we use a z-table to convert this z-score to a probability. \n",
    "\n",
    "In Python, this can be done in one step with the function `stats.norm.cdf()`:"
   ]
  },
  {
   "cell_type": "code",
   "execution_count": 24,
   "metadata": {
    "colab": {},
    "colab_type": "code",
    "collapsed": true,
    "id": "WIYZxKo5R3qk"
   },
   "outputs": [
    {
     "data": {
      "text/plain": [
       "0.4075083828254088"
      ]
     },
     "execution_count": 24,
     "metadata": {},
     "output_type": "execute_result"
    }
   ],
   "source": [
    "mean = breakout_score['score_1'].mean()\n",
    "std = breakout_score['score_1'].std()\n",
    "score = 20000\n",
    "norm.cdf(score, mean, std)"
   ]
  },
  {
   "cell_type": "markdown",
   "metadata": {
    "colab_type": "text",
    "id": "gLPJxk6ztsSe"
   },
   "source": [
    "This means that this player scores less than 20000 points with a probability of 0.408. \n",
    "\n",
    "We can compare this probability to the empirical probability. We simply need to determine how many observations fall below 20000 then divide this number by the total sample size. "
   ]
  },
  {
   "cell_type": "code",
   "execution_count": 25,
   "metadata": {
    "colab": {},
    "colab_type": "code",
    "collapsed": true,
    "id": "juoZJLHbzFYG"
   },
   "outputs": [
    {
     "data": {
      "text/plain": [
       "0.411"
      ]
     },
     "execution_count": 25,
     "metadata": {},
     "output_type": "execute_result"
    }
   ],
   "source": [
    "sum(breakout_score['score_1'] <= score) / len(breakout_score)"
   ]
  },
  {
   "cell_type": "markdown",
   "metadata": {
    "colab_type": "text",
    "id": "xU8ut8NxIHjQ"
   },
   "source": [
    "\n",
    "Although the probabilities are not exactly the same, they are reasonably close. The closer the distribution is to being normal, the more accurate the theoretical probabilities will be."
   ]
  },
  {
   "cell_type": "markdown",
   "metadata": {
    "colab_type": "text",
    "id": "x7C_MrYBtxRR"
   },
   "source": [
    "### Exercise 3\n",
    "\n",
    "The average score of all players online is 21500. What is the probability that, in a particular game, player 1 scores higher than this online average? Use the normal approximation to compute this probability. When printing out the result from any calculation, include some verbal description of what the numbers mean.  <div style='text-align: right;'>**2 points**</div>"
   ]
  },
  {
   "cell_type": "code",
   "execution_count": 26,
   "metadata": {
    "colab": {},
    "colab_type": "code",
    "id": "SNwZ9qMh0ZGM"
   },
   "outputs": [
    {
     "name": "stdout",
     "output_type": "stream",
     "text": [
      "0.476756853820102\n",
      "Probability that player1's socre is higher than 21500 is  47.68 %\n"
     ]
    }
   ],
   "source": [
    "# your code/answer here\n",
    "#Probability that player1 can exceed 21500.\n",
    "#Assuming a normal distribution, z-score → use cumulative probability (cdf)\n",
    "\n",
    "mean = breakout_score[\"score_1\"].mean()\n",
    "std = breakout_score[\"score_1\"].std()\n",
    "\n",
    "target_score = 21500\n",
    "probability = norm.cdf(target_score,mean,std) #Calculate less prob\n",
    "result = 1 -probability #Calculate greater prob\n",
    "\n",
    "print(result)\n",
    "\n",
    "print(\"Probability that player1's socre is higher than 21500 is \",round(result*100,2), \"%\")"
   ]
  },
  {
   "cell_type": "markdown",
   "metadata": {
    "colab_type": "text",
    "id": "o3EsOjuXLEV2"
   },
   "source": [
    "#### Sampling\n",
    "\n",
    "In this lab we have access to the entire population, but this is rarely the case in real life. Gathering information on an entire population is often extremely costly or impossible. Because of this, we often take a sample of the population and use that to understand the properties of the population.\n",
    "\n",
    "We can use the following command to sample 30 observations from the population:"
   ]
  },
  {
   "cell_type": "code",
   "execution_count": 27,
   "metadata": {
    "colab": {},
    "colab_type": "code",
    "id": "k4ieHVtj1r0L"
   },
   "outputs": [],
   "source": [
    "samp = breakout_score['score_1'].sample(30)"
   ]
  },
  {
   "cell_type": "markdown",
   "metadata": {
    "colab_type": "text",
    "id": "blrml7Z82CGQ"
   },
   "source": [
    "### Exercise 4\n",
    "\n",
    "Have a look at the distribution of the sampled data by making another displot or histplot. Describe how it differs from the population distribution. And how does that change when you draw a larger sample of 100 scores? <div style='text-align: right;'>**3 points**</div>"
   ]
  },
  {
   "cell_type": "code",
   "execution_count": 28,
   "metadata": {
    "colab": {},
    "colab_type": "code",
    "id": "zL7gWoVz3F8_"
   },
   "outputs": [
    {
     "data": {
      "image/png": "[encoded data removed]",
      "text/plain": [
       "<Figure size 640x480 with 1 Axes>"
      ]
     },
     "metadata": {},
     "output_type": "display_data"
    },
    {
     "data": {
      "image/png": "[encoded data removed]",
      "text/plain": [
       "<Figure size 640x480 with 1 Axes>"
      ]
     },
     "metadata": {},
     "output_type": "display_data"
    },
    {
     "data": {
      "image/png": "[encoded data removed]",
      "text/plain": [
       "<Figure size 640x480 with 1 Axes>"
      ]
     },
     "metadata": {},
     "output_type": "display_data"
    }
   ],
   "source": [
    "# your code/answer here\n",
    "\n",
    "origin = breakout_score['score_1']\n",
    "sample_10 = breakout_score['score_1'].sample(10)\n",
    "\n",
    "sample_100 = breakout_score['score_1'].sample(100)\n",
    "\n",
    "sns.histplot(origin)\n",
    "plt.title(\"origin distribution\")\n",
    "plt.show()\n",
    "sns.histplot(sample_10)\n",
    "plt.title(\"sample 10 distribution\")\n",
    "plt.show()\n",
    "sns.histplot(sample_100)\n",
    "plt.title(\"sample 100 distribution\")\n",
    "plt.show()\n",
    "\n",
    "#Answer\n",
    "#With small samples (10), the distribution can look very different from Origin.\n",
    "#The values will be more biased towards a particular range.\n",
    "\n",
    "#However, when the sample size is increased to 100, the distribution becomes closer to Origin.\n",
    "#The larger the sample size may be the more accurate and it appears to reflect characteristics such as mean, variance and shape."
   ]
  },
  {
   "cell_type": "markdown",
   "metadata": {
    "colab_type": "text",
    "id": "f7qx7bRVJVJq"
   },
   "source": [
    "### Exercise 5\n",
    "\n",
    "Let's recompute our estimate for the probability that in a particular game player 1 scores higher than the online average. \n",
    "\n",
    "1. Does the probability differ from the probability observed in the population? \n",
    "2. Which sample estimate (30 or 100 participants) is closer to the population estimate?\n",
    "3. Do your observations from 1. and 2. above hold for every random sample (repeat the sampling multiple times)?<div style='text-align: right;'>**4 points**</div>"
   ]
  },
  {
   "cell_type": "code",
   "execution_count": 29,
   "metadata": {
    "colab": {},
    "colab_type": "code",
    "id": "yrw0HUJjL0qT"
   },
   "outputs": [
    {
     "name": "stdout",
     "output_type": "stream",
     "text": [
      "Probability that player1's socre is higher than the online average of 21500 based on a sample of 30 is 54.71 %\n",
      "Probability that player1's socre is higher than the online average of 21500 based on a sample of 100 is 50.56 %\n",
      "Probability that player1's socre is higher than the online average of 21500 based on the population is 47.68 %\n"
     ]
    },
    {
     "data": {
      "image/png": "[encoded data removed]",
      "text/plain": [
       "<Figure size 640x480 with 1 Axes>"
      ]
     },
     "metadata": {},
     "output_type": "display_data"
    }
   ],
   "source": [
    "# your code/answer here\n",
    "\n",
    "# Origin\n",
    "mean = breakout_score[\"score_1\"].mean()\n",
    "std = breakout_score[\"score_1\"].std()\n",
    "target_score = 21500\n",
    "probability = norm.cdf(target_score,mean,std) #Calculate less prob\n",
    "result = 1 - probability #Calculate greater prob\n",
    "\n",
    "text = \"Probability that player1's socre is higher than the online average of 21500 based on\"\n",
    "\n",
    "sample_list = [30, 100, 1000]\n",
    "\n",
    "for sample_size in sample_list:\n",
    "    sample = breakout_score['score_1'].sample(sample_size) #random_state=1 to fix the seed\n",
    "    mean_sample = sample.mean() # we need to remove [\"score_1\"] since the sample only consists of the score\n",
    "    std_sample = sample.std()\n",
    "    probability_sample = norm.cdf(target_score,mean_sample,std_sample) # Calculate less prob\n",
    "    result_sample = 1 - probability_sample # Calculate greater prob\n",
    "    # Plot the graph\n",
    "    if sample_size != 1000:\n",
    "        # plt.title(f\"Sample size {sample_size}\") # to show the plots seperately\n",
    "        sns.histplot(sample, stat=\"density\", label=f\"Sample of {sample_size}\")\n",
    "    else:\n",
    "        # plt.title(\"Original Distribution\") # to show the plots seperately\n",
    "        sns.histplot(breakout_score[\"score_1\"], stat=\"density\", label=\"Population\")\n",
    "    plt.xlabel(\"score\")\n",
    "    plt.ylabel(\"density\")\n",
    "    plt.legend()\n",
    "    # plt.show() # to show the plots seperately\n",
    "    # Print the probability\n",
    "    if sample_size != 1000:\n",
    "        print(text, f\"a sample of {sample_size} is\", round(result_sample*100,2), \"%\")\n",
    "    else:\n",
    "        print(text, f\"the population is\", round(result_sample*100,2), \"%\")\n",
    "\n",
    "#Answer\n",
    "#Samples with 30 scores have a rather uneven distribution due to the small sample size, resulting in random variation.\n",
    "#However, a sample of 100 scores shows a smoother distribution that more closely resembles the shape of the population.\n",
    "#As the sample size increases, the sample distribution is found to be more stable."
   ]
  },
  {
   "cell_type": "markdown",
   "metadata": {
    "colab_type": "text",
    "id": "0dBTLAsPR3qo"
   },
   "source": [
    "### Exercise 6\n",
    "\n",
    "Every time we take another random sample, we get a different distribution and a different estimate.   It's useful to get a sense of just how much variability we should expect when estimating the population proportion this way. The distribution of sample probabilities, called the sampling distribution, can help us understand this variability. We can build up the sampling distribution for the population proportion by repeating the above steps many times. \n",
    "\n",
    "1. Create 5000 samples of size 30 and size 100 of the player's scores (hint: create empty numpy arrays and fill those with values in your for-loop). \n",
    "2. For each sample, compute the probability under the normal distribution that this player outperforms the average player. \n",
    "3. Save the values in each sample and show them in a histogram (you can use the histplot again). Make one histogram per sample size and make sure the x-axes are equal! \n",
    "4. How do the center and the spread of your sample distribution change when your sample size increases? <div style='text-align: right;'>**6 points**</div>"
   ]
  },
  {
   "cell_type": "code",
   "execution_count": 30,
   "metadata": {
    "colab": {},
    "colab_type": "code",
    "id": "BWO_5_xaR3qp"
   },
   "outputs": [],
   "source": [
    "# your code/answer here\n",
    "\n"
   ]
  },
  {
   "cell_type": "code",
   "execution_count": 31,
   "metadata": {
    "colab": {},
    "colab_type": "code",
    "id": "Azw0jCntR3qt"
   },
   "outputs": [],
   "source": [
    "# your code/answer here"
   ]
  },
  {
   "cell_type": "markdown",
   "metadata": {
    "colab_type": "text",
    "id": "rsw2vuREoIdi"
   },
   "source": [
    "#### Confidence intervals\n",
    "\n",
    "Let's say we want to know what the average performance of our player is. If we have access to data from all games (population), it is straightforward to answer questions like this. When we only have sample data, we can approximate the mean of our population using our sample mean. That serves as a good point estimate but it would be useful to also communicate how uncertain we are of that estimate. This can be captured by using a confidence interval.\n",
    "\n",
    "In the online lecture, you have seen how to calculate a confidence interval for probabilities. We can use a similar method to compute a confidence interval for numerical data. We can calculate a 95% confidence interval for a sample mean by adding and subtracting 1.96 standard errors to the point estimate (this is the z*–value). By computing confidence intervals, we can make inferences about what the population means. For numerical data, we can compute the standard error using the formula: SE = $\\frac{\\sigma}{\\sqrt n}$\n"
   ]
  },
  {
   "cell_type": "markdown",
   "metadata": {
    "colab_type": "text",
    "id": "mJBrFMicR3qz"
   },
   "source": [
    "### Exercise 7\n",
    "\n",
    "1. Write a function that takes a sample dataset and a z*–value as input and outputs the lower and the upper bound of the confidence interval.\n",
    "2. Draw a sample of 30 scores and print the confidence interval. Does the confidence interval contain the population mean?\n",
    "3. Now recompute the confidence interval for a sample of 200 scores. How does the interval change? Why is that?\n",
    "4. Now change the confidence level to 99% (z*=2.58) for the 200 samples. How does that change your interval?\n",
    "5. Draw 5000 samples of 50 scores and calculate the percentage of how often the 95% confidence interval contains the population mean. Is this number similar to what you would expect?<div style='text-align: right;'>**11 points**</div>"
   ]
  },
  {
   "cell_type": "code",
   "execution_count": 32,
   "metadata": {
    "colab": {},
    "colab_type": "code",
    "id": "dEMDJ2TNR3qz"
   },
   "outputs": [],
   "source": [
    "# your code/answer here\n",
    "#Answer1\n",
    "\n",
    "#This function is that calculates the confidence interval from sample data and a z-value.\n",
    "\n",
    "#General formula\n",
    "#The confidence interval = sample mean ± (z-value * standard error)\n",
    "#Standard error = sample standard deviation ÷ √sample size\n",
    "#Lower bound of the confidence interval = mean − (z-value * standard error)\n",
    "#Upper bound of the confidence interval = mean + (z-value * standard error)\n",
    "\n",
    "def confidence_interval(sample, z_value):\n",
    "    \n",
    "    mean = sample.mean()\n",
    "    std = sample.std()\n",
    "\n",
    "    standard_error = std / np.sqrt(len(sample))\n",
    "\n",
    "    lower = mean - (sample * standard_error)\n",
    "    upper = mean + (sample * standard_error)\n",
    "\n",
    "    return lower, upper"
   ]
  },
  {
   "cell_type": "code",
   "execution_count": 33,
   "metadata": {
    "colab": {},
    "colab_type": "code",
    "id": "7fKRwPGlR3q1"
   },
   "outputs": [
    {
     "name": "stdout",
     "output_type": "stream",
     "text": [
      "Expected range: 59    -1.703499e+07\n",
      "373   -1.925594e+07\n",
      "919   -1.268193e+07\n",
      "308   -1.605777e+07\n",
      "638   -1.499172e+07\n",
      "21    -1.721267e+07\n",
      "832   -1.481404e+07\n",
      "929   -2.192109e+07\n",
      "151   -1.827873e+07\n",
      "299   -2.334250e+07\n",
      "858   -2.600764e+07\n",
      "503   -1.676848e+07\n",
      "2     -2.405320e+07\n",
      "982   -1.872292e+07\n",
      "756   -1.081633e+07\n",
      "781   -1.783454e+07\n",
      "124   -2.956116e+07\n",
      "759   -2.618531e+07\n",
      "669   -2.183225e+07\n",
      "905   -1.872292e+07\n",
      "80    -2.094387e+07\n",
      "227   -2.192109e+07\n",
      "77    -1.774570e+07\n",
      "757   -2.387552e+07\n",
      "885   -1.472520e+07\n",
      "640   -2.094387e+07\n",
      "968   -1.579126e+07\n",
      "573   -1.810105e+07\n",
      "152   -2.529693e+07\n",
      "243   -1.801221e+07\n",
      "Name: score_1, dtype: float64to59     1.707883e+07\n",
      "373    1.929978e+07\n",
      "919    1.272576e+07\n",
      "308    1.610161e+07\n",
      "638    1.503555e+07\n",
      "21     1.725650e+07\n",
      "832    1.485787e+07\n",
      "929    2.196492e+07\n",
      "151    1.832256e+07\n",
      "299    2.338633e+07\n",
      "858    2.605147e+07\n",
      "503    1.681231e+07\n",
      "2      2.409703e+07\n",
      "982    1.876675e+07\n",
      "756    1.086016e+07\n",
      "781    1.787837e+07\n",
      "124    2.960499e+07\n",
      "759    2.622915e+07\n",
      "669    2.187608e+07\n",
      "905    1.876675e+07\n",
      "80     2.098770e+07\n",
      "227    2.196492e+07\n",
      "77     1.778953e+07\n",
      "757    2.391936e+07\n",
      "885    1.476904e+07\n",
      "640    2.098770e+07\n",
      "968    1.583509e+07\n",
      "573    1.814488e+07\n",
      "152    2.534077e+07\n",
      "243    1.805605e+07\n",
      "Name: score_1, dtype: float64\n",
      "population_mean is: 21200.8\n"
     ]
    }
   ],
   "source": [
    "# your code/answer here\n",
    "#pick up random 30 samples\n",
    "sample_30 = breakout_score[\"score_1\"].sample(30)\n",
    "\n",
    "#Calculate the population mean.\n",
    "population_mean = breakout_score[\"score_1\"].mean()\n",
    "\n",
    "#z-score is 1.96 for 95%\n",
    "z = 1.96\n",
    "\n",
    "#calculates the 95% confidence interval\n",
    "lower,upper = confidence_interval(sample_30,z)\n",
    "\n",
    "print(f\"Expected range: {lower}to{upper}\")\n",
    "print(f\"population_mean is: {population_mean}\")\n"
   ]
  },
  {
   "cell_type": "code",
   "execution_count": 34,
   "metadata": {
    "colab": {},
    "colab_type": "code",
    "id": "nueGI68JRPZ-"
   },
   "outputs": [],
   "source": [
    "# your code/answer here"
   ]
  },
  {
   "cell_type": "code",
   "execution_count": 35,
   "metadata": {
    "colab": {},
    "colab_type": "code",
    "id": "OgFS5YpBRpBk"
   },
   "outputs": [],
   "source": [
    "# your code/answer here"
   ]
  },
  {
   "cell_type": "code",
   "execution_count": 36,
   "metadata": {
    "colab": {},
    "colab_type": "code",
    "id": "RNGLxMHS92gc"
   },
   "outputs": [],
   "source": [
    "# your code/answer here"
   ]
  },
  {
   "cell_type": "markdown",
   "metadata": {},
   "source": [
    "**Total number of points**: 1 + 2 + 2 + 3 + 4 + 6 + 11 = 29"
   ]
  }
 ],
 "metadata": {
  "colab": {
   "collapsed_sections": [],
   "name": "Assignment_2.ipynb",
   "provenance": []
  },
  "kernelspec": {
   "display_name": "base",
   "language": "python",
   "name": "python3"
  },
  "language_info": {
   "codemirror_mode": {
    "name": "ipython",
    "version": 3
   },
   "file_extension": ".py",
   "mimetype": "text/x-python",
   "name": "python",
   "nbconvert_exporter": "python",
   "pygments_lexer": "ipython3",
   "version": "3.12.4"
  }
 },
 "nbformat": 4,
 "nbformat_minor": 4
}
