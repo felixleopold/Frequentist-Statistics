{
 "cells": [
  {
   "cell_type": "markdown",
   "metadata": {
    "colab_type": "text",
    "id": "-lTF-NZxR3p8"
   },
   "source": [
    "# Assignment 4\n",
    "\n",
    "### Randomization testing"
   ]
  },
  {
   "cell_type": "markdown",
   "metadata": {
    "colab_type": "text",
    "id": "dHAIIUstR3p_"
   },
   "source": [
    "### Dataset"
   ]
  },
  {
   "cell_type": "markdown",
   "metadata": {
    "colab_type": "text",
    "id": "6tcatmpfR3qA"
   },
   "source": [
    "A game enthusiast claims that Xbox 360 games are better than PS2 games. He randomly samples games from both consoles and collects information about the review scores that the sampled games received on this [website](https://www.ign.com/reviews/games). In the  dataset he collected, there is information about the game title, platform, the review score the games received, the genre, and the release dates. \n"
   ]
  },
  {
   "cell_type": "code",
   "execution_count": 112,
   "metadata": {
    "colab": {},
    "colab_type": "code",
    "id": "iUh4vyblR3qA"
   },
   "outputs": [],
   "source": [
    "import pandas as pd\n",
    "import numpy as np\n",
    "import matplotlib.pyplot as plt\n",
    "import seaborn as sns\n",
    "from scipy import stats\n",
    "\n",
    "sns.set_style(\"whitegrid\")"
   ]
  },
  {
   "cell_type": "markdown",
   "metadata": {
    "colab_type": "text",
    "id": "F7Dan0VdwbLM"
   },
   "source": [
    "### Exercise 1\n",
    "Our game enthusiast wants to test whether Xbox 360 games receive a higher review score than PS2 games. \n",
    "\n",
    "1. Write down the null- and alternative hypothesis.\n",
    "2. Load the data and print out the head.\n",
    "3. To run the statistical tests and make plots, create two new variables that contain the data for the PS2 and Xbox 360 datasets. Look at your code from the previous weeks to remind you how to do that. \n",
    "4. Before doing a statistical test, it is always a good idea to have a look at your data. Choose an appropriate plot to visualize the data. Show the data for both consoles separately. \n",
    "5. Does the plotted data suggest that the hypothesis of our game enthusiast may be right?\n",
    "6. Do these data meet the normality assumptions required for a t-test?<div style='text-align: right;'>**7 points**</div>"
   ]
  },
  {
   "cell_type": "code",
   "execution_count": 113,
   "metadata": {
    "colab_type": "text",
    "id": "68EV8GIfiOfz"
   },
   "outputs": [
    {
     "name": "stdout",
     "output_type": "stream",
     "text": [
      "Question 1\n",
      "============================================================\n",
      "H0: The mean review score is equal for Xbox 360 and PS2 games.\n",
      "H1: The mean review score is higher for Xbox 360 games.\n"
     ]
    }
   ],
   "source": [
    "## your code/answer here\n",
    "def print_question(question_number, sep_line_width = 60):\n",
    "    print(f\"Question {question_number}\")\n",
    "    print(sep_line_width * \"=\")\n",
    "\n",
    "print_question(1)\n",
    "print(\"H0: The mean review score is equal for Xbox 360 and PS2 games.\")\n",
    "print(\"H1: The mean review score is higher for Xbox 360 games.\")"
   ]
  },
  {
   "cell_type": "code",
   "execution_count": 114,
   "metadata": {
    "colab": {},
    "colab_type": "code",
    "id": "Qtv593cbR3qE"
   },
   "outputs": [
    {
     "name": "stdout",
     "output_type": "stream",
     "text": [
      "Question 2\n",
      "============================================================\n"
     ]
    },
    {
     "data": {
      "text/html": [
       "<div>\n",
       "<style scoped>\n",
       "    .dataframe tbody tr th:only-of-type {\n",
       "        vertical-align: middle;\n",
       "    }\n",
       "\n",
       "    .dataframe tbody tr th {\n",
       "        vertical-align: top;\n",
       "    }\n",
       "\n",
       "    .dataframe thead th {\n",
       "        text-align: right;\n",
       "    }\n",
       "</style>\n",
       "<table border=\"1\" class=\"dataframe\">\n",
       "  <thead>\n",
       "    <tr style=\"text-align: right;\">\n",
       "      <th></th>\n",
       "      <th>Unnamed: 0.1</th>\n",
       "      <th>Unnamed: 0</th>\n",
       "      <th>score_phrase</th>\n",
       "      <th>title</th>\n",
       "      <th>url</th>\n",
       "      <th>platform</th>\n",
       "      <th>score</th>\n",
       "      <th>genre</th>\n",
       "      <th>editors_choice</th>\n",
       "      <th>release_year</th>\n",
       "      <th>release_month</th>\n",
       "      <th>release_day</th>\n",
       "    </tr>\n",
       "  </thead>\n",
       "  <tbody>\n",
       "    <tr>\n",
       "      <th>0</th>\n",
       "      <td>4101</td>\n",
       "      <td>4101</td>\n",
       "      <td>Amazing</td>\n",
       "      <td>Burnout 2: Point of Impact</td>\n",
       "      <td>/games/burnout-2-point-of-impact/ps2-481982</td>\n",
       "      <td>PlayStation 2</td>\n",
       "      <td>9.0</td>\n",
       "      <td>Racing</td>\n",
       "      <td>Y</td>\n",
       "      <td>2002</td>\n",
       "      <td>9</td>\n",
       "      <td>24</td>\n",
       "    </tr>\n",
       "    <tr>\n",
       "      <th>1</th>\n",
       "      <td>3361</td>\n",
       "      <td>3361</td>\n",
       "      <td>Bad</td>\n",
       "      <td>Yanya Caballista: City Skater</td>\n",
       "      <td>/games/yanya-caballista-city-skater/ps2-16279</td>\n",
       "      <td>PlayStation 2</td>\n",
       "      <td>4.0</td>\n",
       "      <td>Sports</td>\n",
       "      <td>N</td>\n",
       "      <td>2001</td>\n",
       "      <td>10</td>\n",
       "      <td>15</td>\n",
       "    </tr>\n",
       "    <tr>\n",
       "      <th>2</th>\n",
       "      <td>6989</td>\n",
       "      <td>6989</td>\n",
       "      <td>Okay</td>\n",
       "      <td>Suzuki TT Superbikes: Real Road Racing</td>\n",
       "      <td>/games/suzuki-tt-superbikes-real-road-racing/p...</td>\n",
       "      <td>PlayStation 2</td>\n",
       "      <td>6.1</td>\n",
       "      <td>Racing</td>\n",
       "      <td>N</td>\n",
       "      <td>2005</td>\n",
       "      <td>8</td>\n",
       "      <td>11</td>\n",
       "    </tr>\n",
       "    <tr>\n",
       "      <th>3</th>\n",
       "      <td>7404</td>\n",
       "      <td>7404</td>\n",
       "      <td>Great</td>\n",
       "      <td>Call of Duty 2: Big Red One (Collector's Edition)</td>\n",
       "      <td>/games/call-of-duty-2-big-red-one/ps2-763356</td>\n",
       "      <td>PlayStation 2</td>\n",
       "      <td>8.0</td>\n",
       "      <td>Shooter</td>\n",
       "      <td>N</td>\n",
       "      <td>2005</td>\n",
       "      <td>11</td>\n",
       "      <td>9</td>\n",
       "    </tr>\n",
       "    <tr>\n",
       "      <th>4</th>\n",
       "      <td>4505</td>\n",
       "      <td>4505</td>\n",
       "      <td>Good</td>\n",
       "      <td>Star Wars: The Clone Wars</td>\n",
       "      <td>/games/star-wars-the-clone-wars/ps2-481948</td>\n",
       "      <td>PlayStation 2</td>\n",
       "      <td>7.6</td>\n",
       "      <td>Action</td>\n",
       "      <td>N</td>\n",
       "      <td>2002</td>\n",
       "      <td>12</td>\n",
       "      <td>13</td>\n",
       "    </tr>\n",
       "  </tbody>\n",
       "</table>\n",
       "</div>"
      ],
      "text/plain": [
       "   Unnamed: 0.1  Unnamed: 0 score_phrase  \\\n",
       "0          4101        4101      Amazing   \n",
       "1          3361        3361          Bad   \n",
       "2          6989        6989         Okay   \n",
       "3          7404        7404        Great   \n",
       "4          4505        4505         Good   \n",
       "\n",
       "                                               title  \\\n",
       "0                         Burnout 2: Point of Impact   \n",
       "1                      Yanya Caballista: City Skater   \n",
       "2             Suzuki TT Superbikes: Real Road Racing   \n",
       "3  Call of Duty 2: Big Red One (Collector's Edition)   \n",
       "4                          Star Wars: The Clone Wars   \n",
       "\n",
       "                                                 url       platform  score  \\\n",
       "0        /games/burnout-2-point-of-impact/ps2-481982  PlayStation 2    9.0   \n",
       "1      /games/yanya-caballista-city-skater/ps2-16279  PlayStation 2    4.0   \n",
       "2  /games/suzuki-tt-superbikes-real-road-racing/p...  PlayStation 2    6.1   \n",
       "3       /games/call-of-duty-2-big-red-one/ps2-763356  PlayStation 2    8.0   \n",
       "4         /games/star-wars-the-clone-wars/ps2-481948  PlayStation 2    7.6   \n",
       "\n",
       "     genre editors_choice  release_year  release_month  release_day  \n",
       "0   Racing              Y          2002              9           24  \n",
       "1   Sports              N          2001             10           15  \n",
       "2   Racing              N          2005              8           11  \n",
       "3  Shooter              N          2005             11            9  \n",
       "4   Action              N          2002             12           13  "
      ]
     },
     "execution_count": 114,
     "metadata": {},
     "output_type": "execute_result"
    }
   ],
   "source": [
    "## your code/answer here\n",
    "print_question(2)\n",
    "dataframe = pd.read_csv('PS2_vs_Xbox360.csv')\n",
    "\n",
    "dataframe.head()"
   ]
  },
  {
   "cell_type": "code",
   "execution_count": 115,
   "metadata": {
    "colab": {},
    "colab_type": "code",
    "id": "dPOj2obZc2ZM"
   },
   "outputs": [
    {
     "name": "stdout",
     "output_type": "stream",
     "text": [
      "Question 3\n",
      "============================================================\n",
      "PlayStation 2 scores:\n",
      "0    9.0\n",
      "1    4.0\n",
      "2    6.1\n",
      "3    8.0\n",
      "4    7.6\n",
      "Name: score, dtype: float64 \n",
      "\n",
      "Xbox 360 scores:\n",
      "29    8.0\n",
      "30    7.7\n",
      "31    4.5\n",
      "32    8.0\n",
      "33    9.3\n",
      "Name: score, dtype: float64\n"
     ]
    }
   ],
   "source": [
    "## your code/answer here\n",
    "print_question(3)\n",
    "ps2_scores = dataframe[dataframe[\"platform\"] == \"PlayStation 2\"][\"score\"]\n",
    "print(\"PlayStation 2 scores:\")\n",
    "print(ps2_scores.head(), \"\\n\")\n",
    "\n",
    "x360_scores = dataframe[dataframe[\"platform\"] == \"Xbox 360\"][\"score\"]\n",
    "print(\"Xbox 360 scores:\")\n",
    "print(x360_scores.head())"
   ]
  },
  {
   "cell_type": "code",
   "execution_count": 116,
   "metadata": {
    "colab": {},
    "colab_type": "code",
    "id": "Vuom1qekTE6J"
   },
   "outputs": [],
   "source": [
    "## your code/answer here"
   ]
  },
  {
   "cell_type": "code",
   "execution_count": 117,
   "metadata": {
    "colab_type": "text",
    "id": "1OWv4jRFSwiA"
   },
   "outputs": [],
   "source": [
    "## your code/answer here"
   ]
  },
  {
   "cell_type": "markdown",
   "metadata": {
    "colab_type": "text",
    "id": "MVhouXrsmAre"
   },
   "source": [
    "### Exercise 2\n",
    "\n",
    "Non-parameteric testing is a great alternative for datasets such as these. In this workgroup you will learn how you can use randomization to do hypothesis testing. Before we can do the randomization test, we will need to prepare some variables. Because the data are left skewed we will use the median instead of the mean to compare the two consoles. Do the following things:\n",
    "\n",
    " 1. Calculate the difference in median score of both consoles, and store it in an appropriately named variable.\n",
    " 2. Define how many randomization iterations you want to compute (usually 1000 up to 10000), and create an empty numpy array of this size.\n",
    " 3. Now create a for-loop that loops $n$ times (the number you defined in item 2). Inside the loop, randomly assign each score to a console. Each console should have as many scores as it originally had. \n",
    "You can do this by:\n",
    "1. shuffling all the rows of the 'games' pandas dataframe (using the sample method in pandas) \n",
    "2. selecting the first x number of cases that will represent the Xbox 360 games. \n",
    "3. selecting the remaining cases that represent the PS2 games. \n",
    "4. After you randomly reassigned the rows to the consoles, you calculate the (randomized) differences in the medians of the scores of the two consoles. Store these median differences in a numpy array (that you created in item 2).<div style='text-align: right;'>**5 points**</div>"
   ]
  },
  {
   "cell_type": "code",
   "execution_count": null,
   "metadata": {
    "colab": {},
    "colab_type": "code",
    "id": "FT7BCwh4QkDQ"
   },
   "outputs": [
    {
     "name": "stdout",
     "output_type": "stream",
     "text": [
      "Question 1\n",
      "============================================================\n",
      "median difference is 0.8999999999999995\n",
      "Question 2\n",
      "============================================================\n",
      "Empty numpy array created : [1.17600265e-311 1.17600199e-311 0.00000000e+000 0.00000000e+000\n",
      " 4.24399158e-314 4.24399158e-314 9.88131292e-324 6.91691904e-323\n",
      " 0.00000000e+000 4.99006302e-322 4.24399158e-314 2.97079411e-313\n",
      " 0.00000000e+000 2.12199579e-312 4.24399158e-314 3.18299369e-313\n",
      " 7.90505033e-323 0.00000000e+000 2.12199588e-314 4.24399158e-314\n",
      " 3.60739284e-313 0.00000000e+000 2.12199579e-314             nan\n",
      "             nan 2.12199579e-314 0.00000000e+000 2.12199584e-314\n",
      " 6.36598737e-314 4.88059032e-313 0.00000000e+000 2.24931554e-312\n",
      " 6.36598738e-314 2.75859453e-313 1.48219694e-322 0.00000000e+000\n",
      " 8.44852254e-322 6.36598737e-314 6.79038653e-313 0.00000000e+000\n",
      " 1.90979621e-312 6.36598737e-314 1.48219694e-323 4.94065646e-323\n",
      " 0.00000000e+000 8.48798321e-314 8.48798317e-314 5.94158822e-313\n",
      " 0.00000000e+000 2.24931554e-312 8.48798317e-314 3.60739284e-313\n",
      " 1.72922976e-322 0.00000000e+000 8.44852254e-322 8.48798317e-314\n",
      " 7.85138443e-313 0.00000000e+000 1.90979621e-312 8.48798317e-314\n",
      " 1.97626258e-323 6.91691904e-323 0.00000000e+000 1.06099790e-313\n",
      " 1.06099790e-313 4.45619116e-313 0.00000000e+000 2.14321575e-312\n",
      " 1.06099790e-313 5.09278990e-313 1.67982320e-322 0.00000000e+000\n",
      " 2.12199580e-313 1.06099790e-313 7.21478569e-313 0.00000000e+000\n",
      " 1.90979621e-312 1.06099790e-313 2.47032823e-323 1.97626258e-323\n",
      " 0.00000000e+000 9.88131292e-324 1.48539705e-313 1.06099790e-313\n",
      " 0.00000000e+000 2.14321575e-312 1.48539705e-313 3.45845952e-323\n",
      " 2.47032823e-323 0.00000000e+000 2.12199584e-314 1.48539705e-313\n",
      " 6.15378779e-313 0.00000000e+000 2.14321575e-312 1.48539705e-313\n",
      " 6.36598737e-313 1.67982320e-322 0.00000000e+000 7.65801751e-322\n",
      " 1.48539705e-313 7.42698527e-313 0.00000000e+000 3.33153339e-312\n",
      " 1.48539705e-313 1.27319747e-313 1.77863633e-322 0.00000000e+000\n",
      " 2.12199588e-314 1.48539705e-313 7.85138443e-313 0.00000000e+000\n",
      " 2.12199579e-314             nan             nan 2.12199579e-314\n",
      " 0.00000000e+000 9.88131292e-324 1.90979621e-313 2.97079411e-313\n",
      " 0.00000000e+000 2.14321575e-312 1.90979621e-313 4.44659081e-323\n",
      " 6.91691904e-323 0.00000000e+000 4.24399163e-314 1.90979621e-313\n",
      " 3.39519327e-313 0.00000000e+000 3.62861280e-312 1.90979621e-313\n",
      " 4.44659081e-323 8.39911598e-323 0.00000000e+000 4.94065646e-324\n",
      "             nan             nan 0.00000000e+000 2.12199579e-312\n",
      " 2.12199579e-313 2.75859453e-313 8.39911598e-323 0.00000000e+000\n",
      " 1.69759664e-313 2.12199579e-313 2.12199579e-313 0.00000000e+000\n",
      " 2.14321575e-312 2.33419537e-313 4.45619116e-313 1.13635099e-322\n",
      " 0.00000000e+000 4.45619117e-313 2.33419537e-313 6.15378779e-313\n",
      " 0.00000000e+000 2.14321575e-312 2.33419537e-313 6.36598737e-313\n",
      " 1.97626258e-322 0.00000000e+000 2.12199588e-314 2.33419537e-313\n",
      " 8.70018274e-313 0.00000000e+000 1.90979621e-312 2.33419537e-313\n",
      " 5.43472210e-323 8.89318163e-323 0.00000000e+000 9.88131292e-324\n",
      " 2.75859453e-313 1.06099790e-313 0.00000000e+000 2.14321575e-312\n",
      " 2.75859453e-313 6.42285340e-323 2.47032823e-323 0.00000000e+000\n",
      " 8.48798321e-314 2.75859453e-313 7.63918485e-313 0.00000000e+000\n",
      " 2.14321575e-312 2.75859453e-313 7.85138443e-313 2.71736105e-322\n",
      " 0.00000000e+000 7.65801751e-322 2.75859453e-313 1.18831764e-312\n",
      " 0.00000000e+000 3.33153339e-312 2.75859453e-313 1.27319748e-313\n",
      " 2.81617418e-322 0.00000000e+000 2.12199588e-314 2.75859453e-313\n",
      " 1.23075756e-312 0.00000000e+000 2.12199579e-314             nan\n",
      "             nan 2.12199579e-314 0.00000000e+000 9.88131292e-324\n",
      " 3.18299369e-313 2.97079411e-313 0.00000000e+000 2.14321575e-312\n",
      " 3.18299369e-313 7.41098469e-323 6.91691904e-323 0.00000000e+000\n",
      " 1.06099790e-313 3.18299369e-313 3.39519327e-313 0.00000000e+000\n",
      " 3.62861280e-312 3.18299369e-313 7.41098469e-323 8.39911598e-323\n",
      " 0.00000000e+000 4.94065646e-324             nan             nan\n",
      " 0.00000000e+000 4.24399158e-314 3.60739284e-313 1.48539705e-313\n",
      " 4.94065646e-323 0.00000000e+000 2.54639495e-313 3.60739285e-313\n",
      " 2.12199579e-313 0.00000000e+000 2.14321575e-312 3.60739284e-313\n",
      " 2.33419537e-313 1.08694442e-322 0.00000000e+000 2.12199588e-314\n",
      " 3.60739285e-313 4.88059032e-313 0.00000000e+000 1.90979621e-312\n",
      " 3.60739285e-313 8.39911598e-323 1.97626258e-323 0.00000000e+000\n",
      " 9.88131292e-324 3.81959242e-313 1.90979621e-313 0.00000000e+000\n",
      " 2.14321575e-312 3.81959242e-313 1.27319748e-313 4.44659081e-323\n",
      " 0.00000000e+000 2.12199584e-314 3.81959242e-313 4.24399158e-313\n",
      " 0.00000000e+000 3.62861280e-312 3.81959242e-313 1.27319748e-313\n",
      " 1.03753786e-322 0.00000000e+000 2.97079411e-313 3.81959242e-313\n",
      " 6.36598737e-314 0.00000000e+000 4.24399158e-314 4.24399158e-313\n",
      " 9.88131292e-323 2.47032823e-323 0.00000000e+000 1.48539706e-313\n",
      " 4.24399158e-313 1.06099790e-313 0.00000000e+000 2.14321575e-312\n",
      " 4.24399158e-313 1.27319748e-313 4.94065646e-323 0.00000000e+000\n",
      " 2.12199588e-314 4.24399158e-313 2.33419537e-313 0.00000000e+000\n",
      " 2.12199579e-314             nan             nan 2.12199579e-314\n",
      " 0.00000000e+000 9.88131292e-324 4.45619116e-313 1.06099790e-313\n",
      " 0.00000000e+000 2.14321575e-312 4.45619116e-313 1.03753786e-322\n",
      " 2.47032823e-323 0.00000000e+000 2.97079411e-313 4.45619116e-313\n",
      " 1.90979621e-313 0.00000000e+000 3.62861280e-312 4.45619116e-313\n",
      " 1.03753786e-322 4.94065646e-323 0.00000000e+000 4.94065646e-324\n",
      "             nan             nan 0.00000000e+000 4.24399158e-314\n",
      " 5.09278990e-313 1.90979621e-313 6.91691904e-323 0.00000000e+000\n",
      " 3.18299369e-313 5.09278990e-313 2.97079411e-313 0.00000000e+000\n",
      " 2.14321575e-312 5.09278990e-313 3.18299369e-313 1.23516411e-322\n",
      " 0.00000000e+000 2.12199588e-314 5.09278990e-313 5.51718906e-313\n",
      " 0.00000000e+000 1.44295714e-312 5.09278990e-313 1.77863633e-322\n",
      " 3.45845952e-322 0.00000000e+000 6.36598742e-314 7.63918485e-313\n",
      " 1.48539705e-312 0.00000000e+000 1.90979621e-312 5.09278990e-313\n",
      " 8.48798318e-314 2.47032823e-323 0.00000000e+000 3.60739285e-313\n",
      " 5.51718906e-313 4.03179200e-313 0.00000000e+000 2.24931554e-312\n",
      " 5.51718906e-313 3.60739285e-313 1.28457068e-322 0.00000000e+000\n",
      " 8.48798321e-314 5.51718906e-313 8.27578359e-313 0.00000000e+000\n",
      " 2.14321575e-312 5.51718906e-313 8.70018274e-313 2.51973479e-322\n",
      " 0.00000000e+000 4.24399163e-314 5.51718906e-313 1.10343781e-312\n",
      " 0.00000000e+000 3.62861280e-312 5.51718906e-313 3.60739285e-313\n",
      " 2.61854792e-322 0.00000000e+000 4.03179201e-313 5.51718906e-313\n",
      " 2.97079411e-313 0.00000000e+000 2.14321575e-312 5.72938864e-313\n",
      " 3.39519327e-313 1.23516411e-322 0.00000000e+000 8.70018275e-313\n",
      " 5.72938864e-313 6.79038653e-313 0.00000000e+000 2.12199579e-312\n",
      " 5.72938864e-313 8.06358401e-313 1.92685602e-322 0.00000000e+000\n",
      " 1.27319748e-313 5.72938864e-313 6.79038653e-313 0.00000000e+000\n",
      " 3.62861280e-312 5.72938864e-313 3.39519327e-313 1.97626258e-322\n",
      " 0.00000000e+000 4.45619117e-313 5.72938864e-313 2.75859453e-313\n",
      " 0.00000000e+000 2.14321575e-312 6.36598737e-313 4.03179200e-313\n",
      " 1.33397724e-322 0.00000000e+000 1.48539706e-313 6.36598737e-313\n",
      " 7.00258611e-313 0.00000000e+000 2.14321575e-312 6.36598737e-313\n",
      " 6.15378780e-313 1.63041663e-322 0.00000000e+000 1.28457068e-322\n",
      " 6.36598737e-313 7.21478569e-313 0.00000000e+000 1.90979621e-312\n",
      " 6.36598737e-313 1.06099790e-313 7.90505033e-323 0.00000000e+000\n",
      " 4.45619117e-313 7.00258611e-313 5.51718906e-313 0.00000000e+000\n",
      " 2.14321575e-312 7.00258611e-313 5.72938864e-313 1.53160350e-322\n",
      " 0.00000000e+000 1.48539706e-313 7.00258611e-313 6.79038653e-313\n",
      " 0.00000000e+000 5.51718906e-313 7.00258611e-313 3.81959243e-313\n",
      " 1.63041663e-322 0.00000000e+000 4.88059032e-313 7.00258611e-313\n",
      " 3.18299369e-313 0.00000000e+000 2.14321575e-312 7.63918485e-313\n",
      " 6.15378780e-313 1.97626258e-322 0.00000000e+000 1.06099790e-313\n",
      " 7.63918485e-313 9.97338022e-313 0.00000000e+000 3.62861280e-312\n",
      " 7.63918485e-313 6.15378780e-313 2.42092166e-322 0.00000000e+000\n",
      " 4.88059032e-313 7.63918485e-313 1.29441743e-312 0.00000000e+000\n",
      " 2.24931554e-312 7.63918485e-313 1.08221785e-312 3.35964639e-322\n",
      " 0.00000000e+000 8.44852254e-322 7.63918485e-313 1.48539705e-312\n",
      " 0.00000000e+000 2.58883486e-312 7.63918485e-313 6.15378780e-313\n",
      " 3.45845952e-322 0.00000000e+000 2.33419538e-313 7.63918485e-313\n",
      " 4.88059032e-313 0.00000000e+000 2.14321575e-312 7.63918485e-313\n",
      " 5.09278990e-313 1.23516411e-322 0.00000000e+000 2.96439388e-322\n",
      " 7.63918485e-313 5.51718906e-313 0.00000000e+000 5.51718906e-312\n",
      "             nan             nan 2.12199579e-314 0.00000000e+000\n",
      " 1.97626258e-323             nan             nan 0.00000000e+000\n",
      " 4.24399158e-314 8.06358401e-313 1.87744945e-322 2.47032823e-323\n",
      " 0.00000000e+000 1.48539706e-313 8.06358401e-313 1.06099790e-313\n",
      " 0.00000000e+000 2.14321575e-312 8.06358401e-313 1.90979621e-313\n",
      " 1.33397724e-322 0.00000000e+000 1.48539706e-313 8.06358401e-313\n",
      " 6.36598737e-313 0.00000000e+000 2.12199579e-312 8.06358401e-313\n",
      " 6.15378780e-313 1.48219694e-322 0.00000000e+000 1.28457068e-322\n",
      " 8.06358401e-313 6.57818695e-313 0.00000000e+000 3.28909348e-312\n",
      " 8.06358401e-313 1.69759663e-313 1.58101007e-322 0.00000000e+000\n",
      " 2.12199588e-314 8.06358401e-313 7.21478569e-313 0.00000000e+000\n",
      " 2.12199579e-314             nan             nan 2.12199579e-314\n",
      " 0.00000000e+000 1.48539706e-313             nan             nan\n",
      " 0.00000000e+000 1.76125651e-312             nan             nan\n",
      " 2.12199579e-314 0.00000000e+000 0.00000000e+000 0.00000000e+000\n",
      " 0.00000000e+000 0.00000000e+000 0.00000000e+000 0.00000000e+000\n",
      " 0.00000000e+000 0.00000000e+000 0.00000000e+000 0.00000000e+000\n",
      " 0.00000000e+000 0.00000000e+000 0.00000000e+000 0.00000000e+000\n",
      " 0.00000000e+000 0.00000000e+000 0.00000000e+000 0.00000000e+000\n",
      " 0.00000000e+000 0.00000000e+000 0.00000000e+000 0.00000000e+000\n",
      " 0.00000000e+000 0.00000000e+000 0.00000000e+000 0.00000000e+000\n",
      " 0.00000000e+000 0.00000000e+000 0.00000000e+000 0.00000000e+000\n",
      " 0.00000000e+000 0.00000000e+000 0.00000000e+000 0.00000000e+000\n",
      " 0.00000000e+000 0.00000000e+000 0.00000000e+000 0.00000000e+000\n",
      " 0.00000000e+000 0.00000000e+000 0.00000000e+000 0.00000000e+000\n",
      " 0.00000000e+000 0.00000000e+000 0.00000000e+000 0.00000000e+000\n",
      " 0.00000000e+000 0.00000000e+000 0.00000000e+000 0.00000000e+000\n",
      " 0.00000000e+000 0.00000000e+000 0.00000000e+000 0.00000000e+000\n",
      " 0.00000000e+000 0.00000000e+000 0.00000000e+000 0.00000000e+000\n",
      " 0.00000000e+000 0.00000000e+000 0.00000000e+000 0.00000000e+000\n",
      " 0.00000000e+000 0.00000000e+000 0.00000000e+000 0.00000000e+000\n",
      " 0.00000000e+000 0.00000000e+000 0.00000000e+000 0.00000000e+000\n",
      " 0.00000000e+000 0.00000000e+000 0.00000000e+000 0.00000000e+000\n",
      " 0.00000000e+000 0.00000000e+000 0.00000000e+000 0.00000000e+000\n",
      " 0.00000000e+000 0.00000000e+000 0.00000000e+000 0.00000000e+000\n",
      " 0.00000000e+000 0.00000000e+000 0.00000000e+000 0.00000000e+000\n",
      " 0.00000000e+000 0.00000000e+000 0.00000000e+000 0.00000000e+000\n",
      " 0.00000000e+000 0.00000000e+000 0.00000000e+000 0.00000000e+000\n",
      " 0.00000000e+000 0.00000000e+000 0.00000000e+000 0.00000000e+000\n",
      " 0.00000000e+000 0.00000000e+000 0.00000000e+000 0.00000000e+000\n",
      " 0.00000000e+000 0.00000000e+000 0.00000000e+000 0.00000000e+000\n",
      " 0.00000000e+000 0.00000000e+000 0.00000000e+000 0.00000000e+000\n",
      " 0.00000000e+000 0.00000000e+000 0.00000000e+000 0.00000000e+000\n",
      " 0.00000000e+000 0.00000000e+000 0.00000000e+000 0.00000000e+000\n",
      " 0.00000000e+000 0.00000000e+000 0.00000000e+000 0.00000000e+000\n",
      " 0.00000000e+000 0.00000000e+000 0.00000000e+000 0.00000000e+000\n",
      " 0.00000000e+000 0.00000000e+000 0.00000000e+000 0.00000000e+000\n",
      " 0.00000000e+000 0.00000000e+000 0.00000000e+000 0.00000000e+000\n",
      " 0.00000000e+000 0.00000000e+000 0.00000000e+000 0.00000000e+000\n",
      " 0.00000000e+000 0.00000000e+000 0.00000000e+000 0.00000000e+000\n",
      " 0.00000000e+000 0.00000000e+000 0.00000000e+000 0.00000000e+000\n",
      " 0.00000000e+000 0.00000000e+000 0.00000000e+000 0.00000000e+000\n",
      " 0.00000000e+000 0.00000000e+000 0.00000000e+000 0.00000000e+000\n",
      " 0.00000000e+000 0.00000000e+000 0.00000000e+000 0.00000000e+000\n",
      " 0.00000000e+000 0.00000000e+000 0.00000000e+000 0.00000000e+000\n",
      " 0.00000000e+000 0.00000000e+000 0.00000000e+000 0.00000000e+000\n",
      " 0.00000000e+000 0.00000000e+000 0.00000000e+000 0.00000000e+000\n",
      " 0.00000000e+000 0.00000000e+000 0.00000000e+000 0.00000000e+000\n",
      " 0.00000000e+000 0.00000000e+000 0.00000000e+000 0.00000000e+000\n",
      " 0.00000000e+000 0.00000000e+000 0.00000000e+000 0.00000000e+000\n",
      " 0.00000000e+000 0.00000000e+000 0.00000000e+000 0.00000000e+000\n",
      " 0.00000000e+000 0.00000000e+000 0.00000000e+000 0.00000000e+000\n",
      " 0.00000000e+000 0.00000000e+000 0.00000000e+000 0.00000000e+000\n",
      " 0.00000000e+000 0.00000000e+000 0.00000000e+000 0.00000000e+000\n",
      " 0.00000000e+000 0.00000000e+000 0.00000000e+000 0.00000000e+000\n",
      " 0.00000000e+000 0.00000000e+000 0.00000000e+000 0.00000000e+000\n",
      " 0.00000000e+000 0.00000000e+000 0.00000000e+000 0.00000000e+000\n",
      " 0.00000000e+000 0.00000000e+000 0.00000000e+000 0.00000000e+000\n",
      " 0.00000000e+000 0.00000000e+000 0.00000000e+000 0.00000000e+000\n",
      " 0.00000000e+000 0.00000000e+000 0.00000000e+000 0.00000000e+000\n",
      " 0.00000000e+000 0.00000000e+000 0.00000000e+000 0.00000000e+000\n",
      " 0.00000000e+000 0.00000000e+000 0.00000000e+000 0.00000000e+000\n",
      " 0.00000000e+000 0.00000000e+000 0.00000000e+000 0.00000000e+000\n",
      " 0.00000000e+000 0.00000000e+000 0.00000000e+000 0.00000000e+000\n",
      " 0.00000000e+000 0.00000000e+000 0.00000000e+000 0.00000000e+000\n",
      " 0.00000000e+000 0.00000000e+000 0.00000000e+000 0.00000000e+000\n",
      " 0.00000000e+000 0.00000000e+000 0.00000000e+000 0.00000000e+000\n",
      " 0.00000000e+000 0.00000000e+000 0.00000000e+000 0.00000000e+000\n",
      " 0.00000000e+000 0.00000000e+000 0.00000000e+000 0.00000000e+000\n",
      " 0.00000000e+000 0.00000000e+000 0.00000000e+000 0.00000000e+000\n",
      " 0.00000000e+000 0.00000000e+000 0.00000000e+000 0.00000000e+000\n",
      " 0.00000000e+000 0.00000000e+000 0.00000000e+000 0.00000000e+000\n",
      " 0.00000000e+000 0.00000000e+000 0.00000000e+000 0.00000000e+000\n",
      " 0.00000000e+000 0.00000000e+000 0.00000000e+000 0.00000000e+000\n",
      " 0.00000000e+000 0.00000000e+000 0.00000000e+000 0.00000000e+000\n",
      " 0.00000000e+000 0.00000000e+000 0.00000000e+000 0.00000000e+000\n",
      " 0.00000000e+000 0.00000000e+000 0.00000000e+000 0.00000000e+000\n",
      " 0.00000000e+000 0.00000000e+000 0.00000000e+000 0.00000000e+000\n",
      " 0.00000000e+000 0.00000000e+000 0.00000000e+000 0.00000000e+000\n",
      " 0.00000000e+000 0.00000000e+000 0.00000000e+000 0.00000000e+000\n",
      " 0.00000000e+000 0.00000000e+000 0.00000000e+000 0.00000000e+000\n",
      " 0.00000000e+000 0.00000000e+000 0.00000000e+000 0.00000000e+000\n",
      " 0.00000000e+000 0.00000000e+000 0.00000000e+000 0.00000000e+000\n",
      " 0.00000000e+000 0.00000000e+000 0.00000000e+000 0.00000000e+000\n",
      " 0.00000000e+000 0.00000000e+000 0.00000000e+000 0.00000000e+000\n",
      " 0.00000000e+000 0.00000000e+000 0.00000000e+000 0.00000000e+000\n",
      " 0.00000000e+000 0.00000000e+000 0.00000000e+000 0.00000000e+000\n",
      " 0.00000000e+000 0.00000000e+000 0.00000000e+000 0.00000000e+000\n",
      " 0.00000000e+000 0.00000000e+000 0.00000000e+000 0.00000000e+000\n",
      " 0.00000000e+000 0.00000000e+000 0.00000000e+000 0.00000000e+000\n",
      " 4.58110824e-072 1.76937708e-305 1.17595917e-311 1.17594584e-311\n",
      " 5.54223446e-048 2.31982729e-052 2.44260374e-154 1.39804329e-076\n",
      " 1.20737373e-153 4.65925756e-033 1.43141871e-153 1.08586619e-042\n",
      " 1.43141871e-153 9.35013123e-067 1.56030039e-259 1.14261624e-071\n",
      " 6.75072234e-067 1.39804329e-076 1.39803697e-076 4.08072928e-033\n",
      " 4.18106686e-062 6.81787617e-038 4.18106686e-062 3.50894815e-033\n",
      " 1.08539818e-071 1.39804328e-076 1.39642638e-076 7.12311329e-067\n",
      " 1.08539816e-071 1.37055751e-071 1.08539816e-071 5.15151691e-062\n",
      " 3.57279679e-062 1.58900685e-047 3.57281161e-062 1.39804065e-076\n",
      " 1.18295070e-076 1.91621077e-076 3.57279680e-062 9.49767068e-043\n",
      " 5.20557920e-090 1.12913532e-042 5.20267648e-090 1.39736850e-076\n",
      " 1.21089429e-099 8.22719269e-067 5.20078136e-090 1.57711004e-052\n",
      " 3.44012404e+179 8.54953138e-072 2.62904109e+179 2.40523454e-057\n",
      " 3.60030257e+179 1.30354290e-076 2.62395837e+179 4.04669518e-086\n",
      " 7.11736309e-067 4.44897393e-086 2.63223421e-052 3.44359159e-086\n",
      " 4.91413882e-062 3.24251205e-086 1.39804329e-076 2.97474583e-067\n",
      " 2.21256765e-052 5.54089808e-048 4.27932024e-033 4.58442890e-072\n",
      " 6.81556685e-038 1.96852244e-062 5.39748183e-062 2.44224099e-154\n",
      " 1.39804329e-076 1.20737373e-153 6.75368133e-067 1.35712665e-153\n",
      " 1.65530188e-047 1.43141871e-153 1.13000846e-042 1.47900166e-259\n",
      " 1.39804329e-076 1.39803697e-076 5.88746049e-062 6.37980173e-067\n",
      " 5.06038340e-038 4.18106686e-062 6.81787617e-038 4.18106686e-062\n",
      " 3.85652941e-057 7.11326533e-067 1.39804328e-076 1.39642638e-076\n",
      " 1.14327947e-071 1.08539817e-071 1.37055751e-071 1.08539816e-071\n",
      " 2.09163296e-076 3.57280047e-062 1.39804065e-076 1.18295070e-076]\n",
      "Question 3\n",
      "============================================================\n",
      "25\n",
      "29\n",
      "[-0.7 -0.8 -0.6  0.2 -0.8]\n"
     ]
    }
   ],
   "source": [
    "## your code/answer here\n",
    "print_question(1)\n",
    "ps2_median = ps2_scores.median()\n",
    "xbox360_median = x360_scores.median()\n",
    "diff = xbox360_median - ps2_median\n",
    "\n",
    "print(f\"median difference is {diff}\")\n",
    "\n",
    "print_question(2)\n",
    "iterations = 1000\n",
    "random_median_diff = np.empty(iterations)\n",
    "\n",
    "print(f\"Empty numpy array created : {random_median_diff}\")\n",
    "\n",
    "print_question(3)\n",
    "\n",
    "xbox = len(x360_scores)\n",
    "ps2 = len(ps2_scores)\n",
    "\n",
    "print(xbox)\n",
    "print(ps2)\n",
    "\n",
    "#random test\n",
    "for i in range(iterations):\n",
    "     #combine all score and shuffle it.\n",
    "     all_score = pd.concat([x360_scores, ps2_scores])\n",
    "     shuffled = all_score.sample(frac=1)\n",
    "     \n",
    "     #the head of number is xbox score\n",
    "     random_xbox = shuffled[:xbox]\n",
    "\n",
    "     #the rest of number is ps2 score\n",
    "     random_ps2 = shuffled[xbox:]\n",
    "\n",
    "    #calculate difference between two medians.\n",
    "     random_median_diff[i] = random_xbox.median()- random_ps2.median()\n",
    "\n",
    "print(f\"First five median differences in randomised: {random_median_diff[:5]}\")\n",
    "\n",
    "#1000 times randomisations were run to find out \n",
    "#what is the probability of a difference so far by chance.\n"
   ]
  },
  {
   "cell_type": "code",
   "execution_count": 119,
   "metadata": {
    "colab": {},
    "colab_type": "code",
    "id": "GcFBpMtmf18D"
   },
   "outputs": [],
   "source": [
    "## your code/answer here"
   ]
  },
  {
   "cell_type": "markdown",
   "metadata": {
    "colab_type": "text",
    "id": "f4lhKdhVg-qh"
   },
   "source": [
    "### Exercise 3\n",
    "\n",
    "Now that the randomizations are done, we want to obtain a p-value on the basis of which we can conclude whether Xbox360 games are rated higher than the PS2 games. \n",
    "\n",
    "1. Calculate the p-value, i.e., the probability that the randomized median differences are higher than the actual difference in the medians. \n",
    "2. Plot the randomized median differences and the actual median difference in one plot (use a `histplot` or `displot` to plot the randomized differences and use `plt.vlines` to plot the actual median difference).\n",
    "3. What would the p-value be for a 2-sided test?<div style='text-align: right;'>**5 points**</div>"
   ]
  },
  {
   "cell_type": "code",
   "execution_count": 120,
   "metadata": {
    "colab": {},
    "colab_type": "code",
    "id": "E1q06wq5QkD2"
   },
   "outputs": [],
   "source": [
    "## your code/answer here"
   ]
  },
  {
   "cell_type": "code",
   "execution_count": 121,
   "metadata": {
    "colab": {},
    "colab_type": "code",
    "id": "BmbDLrJ15hJJ"
   },
   "outputs": [],
   "source": [
    "## your code/answer here"
   ]
  },
  {
   "cell_type": "markdown",
   "metadata": {
    "colab_type": "text",
    "id": "ViYwATx4tALv"
   },
   "source": [
    "### Exercise 4\n",
    "Instead of randomization we could also use the Mann-Whitney U test in this case, which is a non-parametric test to compare whether data in one population are \"higher\" than in another. \n",
    "\n",
    "1. Use the scipy module `stats.mannwhitneyu` to run the test. \n",
    "2. How does the p-value compare to the one you obtained through randomization?<div style='text-align: right;'>**2 points**</div>"
   ]
  },
  {
   "cell_type": "code",
   "execution_count": 122,
   "metadata": {
    "colab": {},
    "colab_type": "code",
    "id": "XJYkajhytaZw"
   },
   "outputs": [],
   "source": [
    "## your code/answer here"
   ]
  },
  {
   "cell_type": "code",
   "execution_count": 123,
   "metadata": {},
   "outputs": [],
   "source": [
    "## your code/answer here"
   ]
  },
  {
   "cell_type": "markdown",
   "metadata": {
    "colab_type": "text",
    "id": "XtXkJX2FQkEC"
   },
   "source": [
    "### Exercise 5\n",
    "In the preceding exercises, you obtained three p-values, using different approaches. What is your conclusion regarding the hypothesis formulated in Exercise 1 above? <div style='text-align: right;'>**2 points**</div>"
   ]
  },
  {
   "cell_type": "code",
   "execution_count": 124,
   "metadata": {},
   "outputs": [],
   "source": [
    "## your code/answer here"
   ]
  },
  {
   "cell_type": "markdown",
   "metadata": {
    "colab_type": "text",
    "id": "yRmJXOyL7X81"
   },
   "source": [
    "In this assignment, we used a small sample of a larger dataset that you can find [here](https://github.com/erilyth/DeepLearning-Challenges/blob/master/Sentiment_Analysis/ign.csv) in case you are interested in the ratings of all console games. "
   ]
  },
  {
   "cell_type": "markdown",
   "metadata": {},
   "source": [
    "**Total number of points**: 21"
   ]
  }
 ],
 "metadata": {
  "colab": {
   "collapsed_sections": [],
   "name": "Assignment_4.ipynb",
   "provenance": []
  },
  "kernelspec": {
   "display_name": "spyder",
   "language": "python",
   "name": "python3"
  },
  "language_info": {
   "codemirror_mode": {
    "name": "ipython",
    "version": 3
   },
   "file_extension": ".py",
   "mimetype": "text/x-python",
   "name": "python",
   "nbconvert_exporter": "python",
   "pygments_lexer": "ipython3",
   "version": "3.12.7"
  }
 },
 "nbformat": 4,
 "nbformat_minor": 1
}
