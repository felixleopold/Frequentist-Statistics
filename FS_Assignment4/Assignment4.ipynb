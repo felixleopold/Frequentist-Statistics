{
 "cells": [
  {
   "cell_type": "markdown",
   "metadata": {
    "colab_type": "text",
    "id": "-lTF-NZxR3p8"
   },
   "source": [
    "# Assignment 4\n",
    "\n",
    "### Randomization testing"
   ]
  },
  {
   "cell_type": "markdown",
   "metadata": {
    "colab_type": "text",
    "id": "dHAIIUstR3p_"
   },
   "source": [
    "### Dataset"
   ]
  },
  {
   "cell_type": "markdown",
   "metadata": {
    "colab_type": "text",
    "id": "6tcatmpfR3qA"
   },
   "source": [
    "A game enthusiast claims that Xbox 360 games are better than PS2 games. He randomly samples games from both consoles and collects information about the review scores that the sampled games received on this [website](https://www.ign.com/reviews/games). In the  dataset he collected, there is information about the game title, platform, the review score the games received, the genre, and the release dates. \n"
   ]
  },
  {
   "cell_type": "code",
   "execution_count": 290,
   "metadata": {
    "colab": {},
    "colab_type": "code",
    "id": "iUh4vyblR3qA"
   },
   "outputs": [],
   "source": [
    "import pandas as pd\n",
    "import numpy as np\n",
    "import matplotlib.pyplot as plt\n",
    "import seaborn as sns\n",
    "from scipy import stats\n",
    "\n",
    "sns.set_style(\"whitegrid\")"
   ]
  },
  {
   "cell_type": "markdown",
   "metadata": {
    "colab_type": "text",
    "id": "F7Dan0VdwbLM"
   },
   "source": [
    "### Exercise 1\n",
    "Our game enthusiast wants to test whether Xbox 360 games receive a higher review score than PS2 games. \n",
    "\n",
    "1. Write down the null- and alternative hypothesis.\n",
    "2. Load the data and print out the head.\n",
    "3. To run the statistical tests and make plots, create two new variables that contain the data for the PS2 and Xbox 360 datasets. Look at your code from the previous weeks to remind you how to do that. \n",
    "4. Before doing a statistical test, it is always a good idea to have a look at your data. Choose an appropriate plot to visualize the data. Show the data for both consoles separately. \n",
    "5. Does the plotted data suggest that the hypothesis of our game enthusiast may be right?\n",
    "6. Do these data meet the normality assumptions required for a t-test?<div style='text-align: right;'>**7 points**</div>"
   ]
  },
  {
   "cell_type": "code",
   "execution_count": 291,
   "metadata": {
    "colab_type": "text",
    "id": "68EV8GIfiOfz"
   },
   "outputs": [
    {
     "name": "stdout",
     "output_type": "stream",
     "text": [
      "Question 1\n",
      "============================================================\n",
      "H0: The mean review score is equal for Xbox 360 and PS2 games.\n",
      "H1: The mean review score is higher for Xbox 360 games.\n"
     ]
    }
   ],
   "source": [
    "## your code/answer here\n",
    "def print_question(question_number, sep_line_width = 60):\n",
    "    print(f\"Question {question_number}\")\n",
    "    print(sep_line_width * \"=\")\n",
    "\n",
    "print_question(1)\n",
    "print(\"H0: The mean review score is equal for Xbox 360 and PS2 games.\")\n",
    "print(\"H1: The mean review score is higher for Xbox 360 games.\")"
   ]
  },
  {
   "cell_type": "code",
   "execution_count": 292,
   "metadata": {
    "colab": {},
    "colab_type": "code",
    "id": "Qtv593cbR3qE"
   },
   "outputs": [
    {
     "name": "stdout",
     "output_type": "stream",
     "text": [
      "Question 2\n",
      "============================================================\n"
     ]
    },
    {
     "data": {
      "text/html": [
       "<div>\n",
       "<style scoped>\n",
       "    .dataframe tbody tr th:only-of-type {\n",
       "        vertical-align: middle;\n",
       "    }\n",
       "\n",
       "    .dataframe tbody tr th {\n",
       "        vertical-align: top;\n",
       "    }\n",
       "\n",
       "    .dataframe thead th {\n",
       "        text-align: right;\n",
       "    }\n",
       "</style>\n",
       "<table border=\"1\" class=\"dataframe\">\n",
       "  <thead>\n",
       "    <tr style=\"text-align: right;\">\n",
       "      <th></th>\n",
       "      <th>Unnamed: 0.1</th>\n",
       "      <th>Unnamed: 0</th>\n",
       "      <th>score_phrase</th>\n",
       "      <th>title</th>\n",
       "      <th>url</th>\n",
       "      <th>platform</th>\n",
       "      <th>score</th>\n",
       "      <th>genre</th>\n",
       "      <th>editors_choice</th>\n",
       "      <th>release_year</th>\n",
       "      <th>release_month</th>\n",
       "      <th>release_day</th>\n",
       "    </tr>\n",
       "  </thead>\n",
       "  <tbody>\n",
       "    <tr>\n",
       "      <th>0</th>\n",
       "      <td>4101</td>\n",
       "      <td>4101</td>\n",
       "      <td>Amazing</td>\n",
       "      <td>Burnout 2: Point of Impact</td>\n",
       "      <td>/games/burnout-2-point-of-impact/ps2-481982</td>\n",
       "      <td>PlayStation 2</td>\n",
       "      <td>9.0</td>\n",
       "      <td>Racing</td>\n",
       "      <td>Y</td>\n",
       "      <td>2002</td>\n",
       "      <td>9</td>\n",
       "      <td>24</td>\n",
       "    </tr>\n",
       "    <tr>\n",
       "      <th>1</th>\n",
       "      <td>3361</td>\n",
       "      <td>3361</td>\n",
       "      <td>Bad</td>\n",
       "      <td>Yanya Caballista: City Skater</td>\n",
       "      <td>/games/yanya-caballista-city-skater/ps2-16279</td>\n",
       "      <td>PlayStation 2</td>\n",
       "      <td>4.0</td>\n",
       "      <td>Sports</td>\n",
       "      <td>N</td>\n",
       "      <td>2001</td>\n",
       "      <td>10</td>\n",
       "      <td>15</td>\n",
       "    </tr>\n",
       "    <tr>\n",
       "      <th>2</th>\n",
       "      <td>6989</td>\n",
       "      <td>6989</td>\n",
       "      <td>Okay</td>\n",
       "      <td>Suzuki TT Superbikes: Real Road Racing</td>\n",
       "      <td>/games/suzuki-tt-superbikes-real-road-racing/p...</td>\n",
       "      <td>PlayStation 2</td>\n",
       "      <td>6.1</td>\n",
       "      <td>Racing</td>\n",
       "      <td>N</td>\n",
       "      <td>2005</td>\n",
       "      <td>8</td>\n",
       "      <td>11</td>\n",
       "    </tr>\n",
       "    <tr>\n",
       "      <th>3</th>\n",
       "      <td>7404</td>\n",
       "      <td>7404</td>\n",
       "      <td>Great</td>\n",
       "      <td>Call of Duty 2: Big Red One (Collector's Edition)</td>\n",
       "      <td>/games/call-of-duty-2-big-red-one/ps2-763356</td>\n",
       "      <td>PlayStation 2</td>\n",
       "      <td>8.0</td>\n",
       "      <td>Shooter</td>\n",
       "      <td>N</td>\n",
       "      <td>2005</td>\n",
       "      <td>11</td>\n",
       "      <td>9</td>\n",
       "    </tr>\n",
       "    <tr>\n",
       "      <th>4</th>\n",
       "      <td>4505</td>\n",
       "      <td>4505</td>\n",
       "      <td>Good</td>\n",
       "      <td>Star Wars: The Clone Wars</td>\n",
       "      <td>/games/star-wars-the-clone-wars/ps2-481948</td>\n",
       "      <td>PlayStation 2</td>\n",
       "      <td>7.6</td>\n",
       "      <td>Action</td>\n",
       "      <td>N</td>\n",
       "      <td>2002</td>\n",
       "      <td>12</td>\n",
       "      <td>13</td>\n",
       "    </tr>\n",
       "  </tbody>\n",
       "</table>\n",
       "</div>"
      ],
      "text/plain": [
       "   Unnamed: 0.1  Unnamed: 0 score_phrase  \\\n",
       "0          4101        4101      Amazing   \n",
       "1          3361        3361          Bad   \n",
       "2          6989        6989         Okay   \n",
       "3          7404        7404        Great   \n",
       "4          4505        4505         Good   \n",
       "\n",
       "                                               title  \\\n",
       "0                         Burnout 2: Point of Impact   \n",
       "1                      Yanya Caballista: City Skater   \n",
       "2             Suzuki TT Superbikes: Real Road Racing   \n",
       "3  Call of Duty 2: Big Red One (Collector's Edition)   \n",
       "4                          Star Wars: The Clone Wars   \n",
       "\n",
       "                                                 url       platform  score  \\\n",
       "0        /games/burnout-2-point-of-impact/ps2-481982  PlayStation 2    9.0   \n",
       "1      /games/yanya-caballista-city-skater/ps2-16279  PlayStation 2    4.0   \n",
       "2  /games/suzuki-tt-superbikes-real-road-racing/p...  PlayStation 2    6.1   \n",
       "3       /games/call-of-duty-2-big-red-one/ps2-763356  PlayStation 2    8.0   \n",
       "4         /games/star-wars-the-clone-wars/ps2-481948  PlayStation 2    7.6   \n",
       "\n",
       "     genre editors_choice  release_year  release_month  release_day  \n",
       "0   Racing              Y          2002              9           24  \n",
       "1   Sports              N          2001             10           15  \n",
       "2   Racing              N          2005              8           11  \n",
       "3  Shooter              N          2005             11            9  \n",
       "4   Action              N          2002             12           13  "
      ]
     },
     "execution_count": 292,
     "metadata": {},
     "output_type": "execute_result"
    }
   ],
   "source": [
    "## your code/answer here\n",
    "print_question(2)\n",
    "dataframe = pd.read_csv('PS2_vs_Xbox360.csv')\n",
    "\n",
    "dataframe.head()"
   ]
  },
  {
   "cell_type": "code",
   "execution_count": 293,
   "metadata": {
    "colab": {},
    "colab_type": "code",
    "id": "dPOj2obZc2ZM"
   },
   "outputs": [
    {
     "name": "stdout",
     "output_type": "stream",
     "text": [
      "Question 3\n",
      "============================================================\n",
      "PlayStation 2 scores:\n",
      "0    9.0\n",
      "1    4.0\n",
      "2    6.1\n",
      "3    8.0\n",
      "4    7.6\n",
      "Name: score, dtype: float64 \n",
      "\n",
      "Xbox 360 scores:\n",
      "29    8.0\n",
      "30    7.7\n",
      "31    4.5\n",
      "32    8.0\n",
      "33    9.3\n",
      "Name: score, dtype: float64\n"
     ]
    }
   ],
   "source": [
    "## your code/answer here\n",
    "print_question(3)\n",
    "ps2_scores = dataframe[dataframe[\"platform\"] == \"PlayStation 2\"][\"score\"]\n",
    "print(\"PlayStation 2 scores:\")\n",
    "print(ps2_scores.head(), \"\\n\")\n",
    "\n",
    "x360_scores = dataframe[dataframe[\"platform\"] == \"Xbox 360\"][\"score\"]\n",
    "print(\"Xbox 360 scores:\")\n",
    "print(x360_scores.head())"
   ]
  },
  {
   "cell_type": "code",
   "execution_count": 294,
   "metadata": {
    "colab": {},
    "colab_type": "code",
    "id": "Vuom1qekTE6J"
   },
   "outputs": [],
   "source": [
    "## your code/answer here"
   ]
  },
  {
   "cell_type": "code",
   "execution_count": 295,
   "metadata": {
    "colab_type": "text",
    "id": "1OWv4jRFSwiA"
   },
   "outputs": [],
   "source": [
    "## your code/answer here"
   ]
  },
  {
   "cell_type": "markdown",
   "metadata": {
    "colab_type": "text",
    "id": "MVhouXrsmAre"
   },
   "source": [
    "### Exercise 2\n",
    "\n",
    "Non-parameteric testing is a great alternative for datasets such as these. In this workgroup you will learn how you can use randomization to do hypothesis testing. Before we can do the randomization test, we will need to prepare some variables. Because the data are left skewed we will use the median instead of the mean to compare the two consoles. Do the following things:\n",
    "\n",
    " 1. Calculate the difference in median score of both consoles, and store it in an appropriately named variable.\n",
    " 2. Define how many randomization iterations you want to compute (usually 1000 up to 10000), and create an empty numpy array of this size.\n",
    " 3. Now create a for-loop that loops $n$ times (the number you defined in item 2). Inside the loop, randomly assign each score to a console. Each console should have as many scores as it originally had. \n",
    "You can do this by:\n",
    "1. shuffling all the rows of the 'games' pandas dataframe (using the sample method in pandas) \n",
    "2. selecting the first x number of cases that will represent the Xbox 360 games. \n",
    "3. selecting the remaining cases that represent the PS2 games. \n",
    "4. After you randomly reassigned the rows to the consoles, you calculate the (randomized) differences in the medians of the scores of the two consoles. Store these median differences in a numpy array (that you created in item 2).<div style='text-align: right;'>**5 points**</div>"
   ]
  },
  {
   "cell_type": "code",
   "execution_count": 296,
   "metadata": {
    "colab": {},
    "colab_type": "code",
    "id": "FT7BCwh4QkDQ"
   },
   "outputs": [
    {
     "name": "stdout",
     "output_type": "stream",
     "text": [
      "Question 1\n",
      "============================================================\n",
      "median difference is 0.8999999999999995\n",
      "Question 2\n",
      "============================================================\n",
      "Empty numpy array created : [ 6.23042070e-307  4.67296746e-307  1.69121096e-306  1.33511562e-306\n",
      "  0.00000000e+000  0.00000000e+000  0.00000000e+000  0.00000000e+000\n",
      "  7.56594375e-307  6.23060065e-307  1.78021527e-306  8.34454050e-308\n",
      "  1.11261027e-306  1.15706896e-306  1.33512173e-306  1.33504432e-306\n",
      "  2.69029464e-231  8.99874591e-168  1.22279601e-250  3.15718919e+101\n",
      "  3.86435087e-270 -5.43790705e+303 -1.68542842e+307 -5.99947467e-039\n",
      "  3.85779561e+101  8.72613822e-231  9.70418707e-101  7.36436601e-019\n",
      "  5.90302775e-303  9.70418707e-101  3.53127604e-281  5.81186165e+294\n",
      "  0.00000000e+000  0.00000000e+000  0.00000000e+000  0.00000000e+000\n",
      "  0.00000000e+000  0.00000000e+000  0.00000000e+000  0.00000000e+000\n",
      "  0.00000000e+000  0.00000000e+000  3.31582079e-316  0.00000000e+000\n",
      "  0.00000000e+000  0.00000000e+000  0.00000000e+000  0.00000000e+000\n",
      "  0.00000000e+000  0.00000000e+000  0.00000000e+000  0.00000000e+000\n",
      "  0.00000000e+000  0.00000000e+000  0.00000000e+000  0.00000000e+000\n",
      "  0.00000000e+000  0.00000000e+000  0.00000000e+000  0.00000000e+000\n",
      "  0.00000000e+000  0.00000000e+000  0.00000000e+000  0.00000000e+000\n",
      "  1.17601079e-311  1.17601079e-311  1.17601095e-311  6.95243696e-310\n",
      "  6.95243696e-310  1.17601079e-311  6.95243696e-310  6.95243692e-310\n",
      "  6.95243692e-310  6.95243692e-310  6.95243692e-310  1.17601079e-311\n",
      "  6.95243692e-310  6.95243696e-310  1.17601094e-311  1.17601079e-311\n",
      "  6.95243696e-310  1.17601079e-311  6.95243696e-310  6.95243695e-310\n",
      "  6.95243696e-310  6.95243695e-310  6.95243696e-310  1.17601079e-311\n",
      "  1.17601079e-311  1.17601079e-311  1.17601079e-311  1.17601079e-311\n",
      "  1.17601095e-311  6.95243692e-310  6.95243696e-310  6.95243692e-310\n",
      "  1.17602085e-311  1.17602085e-311  6.95243696e-310  6.95243696e-310\n",
      "  6.95243692e-310  6.95243692e-310  6.95243692e-310  6.95243692e-310\n",
      "  6.95243692e-310  1.17601095e-311  6.95243692e-310  6.95243696e-310\n",
      "  6.95243692e-310  1.17602637e-311  1.17602671e-311  6.95243696e-310\n",
      "  6.95243696e-310  6.95243692e-310  6.95243692e-310  6.95243692e-310\n",
      "  6.95243692e-310  6.95243692e-310  6.95243696e-310  6.95243696e-310\n",
      "  6.95243692e-310  6.95243692e-310  6.95243692e-310  6.95243692e-310\n",
      "  6.95243692e-310  1.17602051e-311  1.17601079e-311  6.95243696e-310\n",
      "  1.17602574e-311  1.17602503e-311  1.17602503e-311  1.17602503e-311\n",
      "  1.17602503e-311  1.17602503e-311  1.17602503e-311  1.17602497e-311\n",
      "  1.17602503e-311  1.17602503e-311  1.17602503e-311  1.17602503e-311\n",
      "  1.17602504e-311  1.17602503e-311  1.17602497e-311  1.17602504e-311\n",
      "  1.17602503e-311  1.17602503e-311  1.17602504e-311  1.17602504e-311\n",
      "  1.17602503e-311  1.17602503e-311  1.17602503e-311  1.17602503e-311\n",
      "  1.17602503e-311  1.17602503e-311  1.17602503e-311  1.17602503e-311\n",
      "  1.17602503e-311  1.17602503e-311  1.17602503e-311  1.17602503e-311\n",
      "  1.17602503e-311  1.17602503e-311  1.17602503e-311  1.17602503e-311\n",
      "  1.17602503e-311  1.17602046e-311  1.17602046e-311  1.17602046e-311\n",
      "  1.17602046e-311  1.17602046e-311  1.17602046e-311  1.17602046e-311\n",
      "  1.17602046e-311  1.17602046e-311  1.17602045e-311  1.17602045e-311\n",
      "  1.17602071e-311  1.17602046e-311  1.17602046e-311  1.17602497e-311\n",
      "  1.17602599e-311  1.17602599e-311  1.17602599e-311  1.17602599e-311\n",
      "  1.17602599e-311  1.17602528e-311  1.17602528e-311  1.17602528e-311\n",
      "  1.17602528e-311  1.17602497e-311  0.00000000e+000  1.17602528e-311\n",
      "  1.17602497e-311  1.17602527e-311  1.17602527e-311  1.17602527e-311\n",
      "  1.17602528e-311  1.17602528e-311  1.17602497e-311  1.17602528e-311\n",
      "  1.17602528e-311  1.17602528e-311  1.17602528e-311  1.17602527e-311\n",
      "  1.17602527e-311  1.17602527e-311  1.17602497e-311  1.17602527e-311\n",
      "  1.17602527e-311  1.17602527e-311  1.17602527e-311  1.17602528e-311\n",
      "  1.17602527e-311  1.17602528e-311  1.17602527e-311  1.17602528e-311\n",
      "  1.17602527e-311  1.17602528e-311  1.17602528e-311  3.36163259e-067\n",
      "  1.17602528e-311  1.17602071e-311  1.17602527e-311  1.17602527e-311\n",
      "  1.17602528e-311  1.17602527e-311  1.17602527e-311  1.17602071e-311\n",
      "  1.17602528e-311  1.17602497e-311  1.17602527e-311  1.17602528e-311\n",
      "  1.17602528e-311  1.17602528e-311  1.17602528e-311  1.17602528e-311\n",
      "  1.17602528e-311  1.17602528e-311  1.17602527e-311  1.17602528e-311\n",
      "  1.17602527e-311  1.17602527e-311  1.17602528e-311  1.17602527e-311\n",
      "  1.17602527e-311  1.17602528e-311  1.17602527e-311  1.17602528e-311\n",
      "  1.17602528e-311  1.17602528e-311  1.17602528e-311  1.17602528e-311\n",
      "  1.17602527e-311  1.17602528e-311  1.17602527e-311  1.17602527e-311\n",
      "  1.17600714e-311  1.57970803e-153  3.25266780e-086  6.04414089e-154\n",
      "  5.59867395e-067  6.96326130e-077  2.40461215e-057  1.25767906e-076\n",
      "  1.35595781e-153  3.24245687e-086  6.04122747e-154  1.57589697e-052\n",
      "  1.25767511e-076  1.28137446e-153  3.25266775e-086  1.28137554e-153\n",
      "  3.25266775e-086  6.03977077e-154  1.57588662e-052  6.96326789e-077\n",
      "  1.43054127e-153  3.25266774e-086  2.48461758e-091  1.03277984e-047\n",
      "  2.48701460e-091  2.90701682e-033  1.25767906e-076  1.43054121e-153\n",
      "  3.24245684e-086  2.47383101e-091  1.03277305e-047  1.25767577e-076\n",
      "  1.72194140e-259  1.25767840e-076  1.43054121e-153  3.25266782e-086\n",
      "  2.48701460e-091  2.90699771e-033  6.96312293e-077  1.87804166e-153\n",
      "  3.25266774e-086  2.44259946e-154  3.24245686e-086  2.48401833e-091\n",
      "  1.03277305e-047  6.96324153e-077  1.57970809e-153  3.24245687e-086\n",
      "  6.04559759e-154  1.57589697e-052  2.46065908e-091  3.66917107e-062\n",
      "  4.56342565e-072  1.57970803e-153  3.24245686e-086  6.04559760e-154\n",
      "  1.03277984e-047  6.96326789e-077  1.35595895e-153  6.96297818e-077\n",
      "  1.57970809e-153  3.25266774e-086  6.04414089e-154  1.03277984e-047\n",
      "  6.96323494e-077  1.72887484e-153  3.24245685e-086  6.04851101e-154\n",
      "  3.25266727e-086  6.04851101e-154  1.03277984e-047  6.96328106e-077\n",
      "  1.65429144e-153  3.25266779e-086  6.04414089e-154  3.66917107e-062\n",
      "  6.96327447e-077  1.12591465e-153  6.96326789e-077  1.57970803e-153\n",
      "  3.25266774e-086  6.04996772e-154  3.66914696e-062  6.96326130e-077\n",
      "  1.43054127e-153  3.24245692e-086  1.80345825e-153  3.24245685e-086\n",
      "  2.48401833e-091  8.54295461e-072  6.96328106e-077  1.57970809e-153\n",
      "  3.24245685e-086  6.04268418e-154  8.54295461e-072  2.48461758e-091\n",
      "  6.76842596e-043  1.25767445e-076  1.80345825e-153  3.24245691e-086\n",
      "  6.04414089e-154  5.59867395e-067  1.25767774e-076  1.80324013e-259\n",
      "  1.25767643e-076  1.80345831e-153  3.25266776e-086  6.03977077e-154\n",
      "  4.43572649e-038  6.96326130e-077  1.72887484e-153  3.25266779e-086\n",
      "  2.44332781e-154  3.25266779e-086  2.48701460e-091  2.40461215e-057\n",
      "  6.96326789e-077  1.28137446e-153  3.24245684e-086  2.48641534e-091\n",
      "  5.59867395e-067  2.46066377e-091  4.43572649e-038  6.96328106e-077\n",
      "  1.57970809e-153  3.24245686e-086  2.48401833e-091  6.76842596e-043\n",
      "  6.96328106e-077  1.50512462e-153  6.96297818e-077  1.65429149e-153\n",
      "  3.24245684e-086  6.04414089e-154  5.59867395e-067  1.25767643e-076\n",
      "  1.50512462e-153  3.24245687e-086  6.03977077e-154  3.25266727e-086\n",
      "  2.48641534e-091  1.57588662e-052  1.25767511e-076  1.57970809e-153\n",
      "  3.25266779e-086  6.04851101e-154  3.66914696e-062  6.96326130e-077\n",
      "  5.59871073e-067  6.96324153e-077  1.35595895e-153  3.24245686e-086\n",
      "  2.48461758e-091  1.57588662e-052  6.96323494e-077  1.57970803e-153\n",
      "  3.25266777e-086  1.57970803e-153  3.24245690e-086  2.48461758e-091\n",
      "  2.90699771e-033  6.96324812e-077  1.50512468e-153  3.25266775e-086\n",
      "  2.48401833e-091  1.57589697e-052  6.04559760e-154  1.57588662e-052\n",
      "  1.25767709e-076  1.57970809e-153  3.24245682e-086  6.04414089e-154\n",
      "  6.76842596e-043  6.96326789e-077  1.47804516e-259  6.96327447e-077\n",
      "  1.80345825e-153  3.24245682e-086  2.48881236e-091  3.66914696e-062\n",
      "  6.96323494e-077  1.43054127e-153  3.25266777e-086  2.44442034e-154\n",
      "  3.25266781e-086  6.04414089e-154  6.76842596e-043  1.25767511e-076\n",
      "  1.35595786e-153  3.25266783e-086  6.03977077e-154  5.59871074e-067\n",
      "  2.46065908e-091  3.66917107e-062  6.96324153e-077  1.50512462e-153\n",
      "  3.25266776e-086  2.48581609e-091  1.57589697e-052  6.96323494e-077\n",
      "  6.03396094e-154  6.96297816e-077  1.72887484e-153  3.25266779e-086\n",
      "  2.48881236e-091  4.43575564e-038  1.25767709e-076  1.57970803e-153\n",
      "  3.25266782e-086  6.04705430e-154  3.25266727e-086  6.04414089e-154\n",
      "  1.57589697e-052  1.25767972e-076  1.57970803e-153  3.25266779e-086\n",
      "  6.03977077e-154  1.57589697e-052  1.25767577e-076  8.54295461e-072\n",
      "  1.25767840e-076  1.35595781e-153  3.25266776e-086  2.48701460e-091\n",
      "  5.59871074e-067  6.96326789e-077  1.57970809e-153  3.25266779e-086\n",
      "  1.80345831e-153  3.24245685e-086  2.48761385e-091  4.43575564e-038\n",
      "  6.96324153e-077  1.72887484e-153  3.25266779e-086  2.48881236e-091\n",
      "  5.59867395e-067  2.48581609e-091  6.76842596e-043  1.25767709e-076\n",
      "  1.43054127e-153  3.24245682e-086  2.48641534e-091  1.03277984e-047\n",
      "  1.25767577e-076  1.64064267e-259  1.17601140e-311  1.17601140e-311\n",
      "  1.17601140e-311  1.03007848e-071  5.20461292e-090  1.03070257e-071\n",
      "  1.73153327e-077  1.17601899e-311  1.17601899e-311  1.17601899e-311\n",
      "  1.20000000e+000  5.00000000e-001  5.00000000e-001 -4.00000000e-001\n",
      "  5.00000000e-001 -2.00000000e-001 -2.00000000e-001  5.00000000e-001\n",
      "  5.00000000e-001 -3.00000000e-001  1.00000000e+000  7.00000000e-001\n",
      "  2.00000000e-001  2.00000000e-001 -2.00000000e-001  2.00000000e-001\n",
      " -1.00000000e-001  5.00000000e-001  3.00000000e-001 -3.00000000e-001\n",
      "  1.00000000e-001  3.00000000e-001 -7.00000000e-001  7.00000000e-001\n",
      " -7.00000000e-001  3.00000000e-001 -9.00000000e-001  7.00000000e-001\n",
      " -1.30000000e+000 -5.00000000e-001  7.00000000e-001 -5.00000000e-001\n",
      "  2.00000000e-001  8.00000000e-001  5.00000000e-001  6.00000000e-001\n",
      " -6.00000000e-001 -7.00000000e-001  4.00000000e-001  4.00000000e-001\n",
      " -4.00000000e-001  8.00000000e-001 -5.00000000e-001  5.00000000e-001\n",
      " -1.00000000e-001  5.00000000e-001  6.00000000e-001 -5.00000000e-001\n",
      " -7.00000000e-001 -3.00000000e-001  9.00000000e-001 -5.00000000e-001\n",
      " -4.00000000e-001  5.00000000e-001 -9.00000000e-001 -6.00000000e-001\n",
      " -6.00000000e-001  1.10000000e+000 -5.00000000e-001 -6.00000000e-001\n",
      "  7.00000000e-001  5.00000000e-001 -6.00000000e-001 -5.00000000e-001\n",
      " -4.00000000e-001 -1.00000000e-001 -3.00000000e-001 -2.00000000e-001\n",
      "  5.00000000e-001  6.00000000e-001  1.00000000e-001 -3.00000000e-001\n",
      "  3.00000000e-001  2.00000000e-001  2.00000000e-001 -2.00000000e-001\n",
      " -5.00000000e-001 -6.00000000e-001 -6.00000000e-001 -7.00000000e-001\n",
      " -4.00000000e-001  1.00000000e+000  2.00000000e-001  8.00000000e-001\n",
      " -5.00000000e-001  5.00000000e-001 -7.00000000e-001 -1.00000000e-001\n",
      " -5.00000000e-001  2.00000000e-001  5.00000000e-001  2.00000000e-001\n",
      " -5.00000000e-001  5.00000000e-001  5.00000000e-001  2.00000000e-001\n",
      " -1.00000000e-001 -2.00000000e-001  7.00000000e-001 -5.00000000e-001\n",
      " -5.00000000e-001  7.00000000e-001  8.00000000e-001  7.00000000e-001\n",
      " -2.00000000e-001 -1.00000000e-001  6.00000000e-001 -2.00000000e-001\n",
      " -5.00000000e-001 -3.00000000e-001  9.00000000e-001  7.00000000e-001\n",
      "  8.00000000e-001 -5.00000000e-001 -3.00000000e-001 -6.00000000e-001\n",
      "  5.00000000e-001  7.00000000e-001  1.00000000e+000  4.00000000e-001\n",
      "  1.20000000e+000  6.00000000e-001 -1.00000000e+000  5.00000000e-001\n",
      "  6.00000000e-001  5.00000000e-001  1.00000000e-001 -5.00000000e-001\n",
      " -4.00000000e-001  7.00000000e-001  8.00000000e-001 -6.00000000e-001\n",
      "  6.00000000e-001 -5.00000000e-001  6.00000000e-001 -2.00000000e-001\n",
      "  1.00000000e+000  5.00000000e-001  3.00000000e-001 -6.00000000e-001\n",
      " -1.00000000e-001 -4.00000000e-001 -7.00000000e-001 -6.00000000e-001\n",
      "  7.00000000e-001  2.00000000e-001  2.00000000e-001 -5.00000000e-001\n",
      " -5.00000000e-001  8.00000000e-001  2.00000000e-001  5.00000000e-001\n",
      " -2.00000000e-001  7.00000000e-001 -7.00000000e-001 -5.00000000e-001\n",
      " -5.00000000e-001 -5.00000000e-001 -2.00000000e-001 -3.00000000e-001\n",
      "  5.00000000e-001  6.00000000e-001 -7.00000000e-001  1.10000000e+000\n",
      "  9.00000000e-001  3.00000000e-001  2.00000000e-001 -1.00000000e-001\n",
      " -2.00000000e-001 -2.00000000e-001  8.00000000e-001  1.00000000e-001\n",
      " -8.00000000e-001 -7.00000000e-001 -7.00000000e-001 -6.00000000e-001\n",
      " -1.00000000e-001  5.00000000e-001  2.00000000e-001 -2.00000000e-001\n",
      "  4.00000000e-001  2.00000000e-001 -6.00000000e-001  7.00000000e-001\n",
      "  7.00000000e-001  1.00000000e-001 -2.00000000e-001 -3.00000000e-001\n",
      " -6.00000000e-001  3.00000000e-001  6.00000000e-001  1.00000000e-001\n",
      "  5.00000000e-001  1.00000000e-001  3.00000000e-001  1.00000000e-001\n",
      "  1.00000000e-001  5.00000000e-001  5.00000000e-001 -5.00000000e-001\n",
      "  4.00000000e-001  5.00000000e-001 -2.00000000e-001 -1.00000000e-001\n",
      "  1.10000000e+000  9.00000000e-001 -4.00000000e-001 -6.00000000e-001\n",
      "  4.00000000e-001  5.00000000e-001 -5.00000000e-001 -5.00000000e-001\n",
      " -4.00000000e-001 -3.00000000e-001  8.00000000e-001 -6.00000000e-001\n",
      "  5.00000000e-001 -6.00000000e-001  3.00000000e-001 -1.00000000e-001\n",
      "  2.00000000e-001  7.00000000e-001  4.00000000e-001  2.00000000e-001\n",
      "  5.00000000e-001  1.00000000e-001  6.00000000e-001 -5.00000000e-001\n",
      " -1.00000000e-001  1.00000000e-001  5.00000000e-001 -1.00000000e-001\n",
      "  5.00000000e-001  5.00000000e-001 -9.00000000e-001 -1.00000000e-001\n",
      " -4.00000000e-001  9.00000000e-001  4.00000000e-001  1.00000000e-001\n",
      " -3.00000000e-001  4.00000000e-001 -6.00000000e-001 -7.00000000e-001\n",
      "  6.00000000e-001 -6.00000000e-001 -6.00000000e-001 -1.00000000e-001\n",
      "  6.00000000e-001 -4.00000000e-001 -4.00000000e-001 -5.00000000e-001\n",
      " -1.00000000e+000 -2.00000000e-001 -3.00000000e-001 -3.00000000e-001\n",
      " -7.00000000e-001  2.00000000e-001  7.00000000e-001 -4.00000000e-001\n",
      " -6.00000000e-001  5.00000000e-001  5.00000000e-001 -6.00000000e-001\n",
      " -3.00000000e-001  7.00000000e-001  1.00000000e-001 -3.00000000e-001\n",
      "  6.00000000e-001 -3.00000000e-001 -9.00000000e-001  7.00000000e-001\n",
      "  8.00000000e-001  6.00000000e-001  5.00000000e-001  5.00000000e-001\n",
      "  5.00000000e-001  2.00000000e-001  7.00000000e-001 -6.00000000e-001\n",
      "  2.00000000e-001  6.00000000e-001  1.00000000e-001  1.00000000e-001\n",
      " -5.00000000e-001 -8.00000000e-001  3.00000000e-001 -3.00000000e-001\n",
      " -1.00000000e-001  4.00000000e-001 -2.00000000e-001 -6.00000000e-001\n",
      "  8.00000000e-001 -8.00000000e-001 -1.10000000e+000 -7.00000000e-001\n",
      " -6.00000000e-001 -7.00000000e-001  6.00000000e-001 -1.00000000e-001\n",
      "  1.00000000e-001 -9.00000000e-001  3.00000000e-001 -1.00000000e-001\n",
      " -5.00000000e-001 -6.00000000e-001 -1.00000000e-001  5.00000000e-001\n",
      "  3.00000000e-001 -4.00000000e-001 -7.00000000e-001 -4.00000000e-001\n",
      "  3.00000000e-001 -4.00000000e-001  6.00000000e-001  3.00000000e-001\n",
      "  4.00000000e-001 -3.00000000e-001  3.00000000e-001  5.00000000e-001\n",
      " -1.00000000e-001  6.00000000e-001 -3.00000000e-001 -7.00000000e-001\n",
      "  2.00000000e-001  2.00000000e-001  8.00000000e-001  1.10000000e+000\n",
      " -3.00000000e-001 -6.00000000e-001  8.00000000e-001 -2.00000000e-001\n",
      " -2.00000000e-001 -7.00000000e-001 -8.00000000e-001 -8.00000000e-001\n",
      "  5.00000000e-001  2.00000000e-001  5.00000000e-001  3.00000000e-001\n",
      "  2.00000000e-001 -4.00000000e-001  1.10000000e+000  5.00000000e-001\n",
      "  5.00000000e-001  3.00000000e-001 -1.00000000e-001 -9.00000000e-001\n",
      " -5.00000000e-001  2.00000000e-001 -2.00000000e-001 -7.00000000e-001\n",
      " -6.00000000e-001  1.10000000e+000  5.00000000e-001  5.00000000e-001\n",
      "  1.00000000e-001 -6.00000000e-001  4.00000000e-001  1.00000000e+000\n",
      "  6.00000000e-001 -4.00000000e-001 -2.00000000e-001  1.00000000e-001\n",
      "  1.00000000e-001  2.00000000e-001  2.00000000e-001  3.00000000e-001\n",
      "  1.00000000e-001  1.20000000e+000  7.00000000e-001  1.20000000e+000\n",
      "  2.00000000e-001 -2.00000000e-001 -4.00000000e-001  5.00000000e-001\n",
      " -9.00000000e-001  2.00000000e-001 -1.00000000e-001  3.00000000e-001\n",
      "  2.00000000e-001  8.00000000e-001 -9.00000000e-001  3.00000000e-001\n",
      "  3.00000000e-001 -1.00000000e-001  1.00000000e-001  4.00000000e-001\n",
      "  5.00000000e-001 -7.00000000e-001 -5.00000000e-001  2.00000000e-001\n",
      " -1.00000000e-001 -3.00000000e-001 -5.00000000e-001  5.00000000e-001\n",
      " -7.00000000e-001 -7.00000000e-001 -6.00000000e-001  3.00000000e-001\n",
      " -3.00000000e-001  5.00000000e-001 -5.00000000e-001  3.00000000e-001\n",
      "  2.00000000e-001 -8.00000000e-001 -1.10000000e+000  2.00000000e-001\n",
      " -9.00000000e-001 -5.00000000e-001 -4.00000000e-001  2.00000000e-001\n",
      " -6.00000000e-001 -2.00000000e-001 -7.00000000e-001 -1.00000000e-001\n",
      " -5.00000000e-001  2.00000000e-001  6.00000000e-001 -5.00000000e-001\n",
      "  3.00000000e-001 -1.00000000e-001  5.00000000e-001  1.00000000e+000\n",
      "  5.00000000e-001 -7.00000000e-001 -1.00000000e-001 -3.00000000e-001\n",
      " -1.00000000e-001  7.00000000e-001  8.00000000e-001 -3.00000000e-001\n",
      " -7.00000000e-001 -3.00000000e-001 -9.00000000e-001  3.00000000e-001\n",
      "  2.00000000e-001 -5.00000000e-001 -3.00000000e-001 -1.00000000e-001\n",
      " -3.00000000e-001 -4.00000000e-001 -5.00000000e-001 -5.00000000e-001\n",
      " -2.00000000e-001 -7.00000000e-001 -2.00000000e-001 -7.00000000e-001\n",
      " -1.00000000e+000 -2.00000000e-001 -9.00000000e-001 -5.00000000e-001\n",
      "  3.00000000e-001  6.00000000e-001 -1.00000000e-001 -9.00000000e-001\n",
      " -1.00000000e-001 -7.00000000e-001 -7.00000000e-001  5.00000000e-001\n",
      "  2.00000000e-001  1.00000000e+000 -5.00000000e-001  2.00000000e-001\n",
      " -5.00000000e-001  5.00000000e-001  2.00000000e-001 -3.00000000e-001\n",
      " -5.00000000e-001 -7.00000000e-001  5.00000000e-001  6.00000000e-001\n",
      " -2.00000000e-001 -8.00000000e-001 -6.00000000e-001  5.00000000e-001\n",
      "  2.00000000e-001 -2.00000000e-001  5.00000000e-001 -5.00000000e-001\n",
      " -2.00000000e-001 -3.00000000e-001  3.00000000e-001 -6.00000000e-001\n",
      " -7.00000000e-001  2.00000000e-001  5.00000000e-001  1.00000000e-001]\n",
      "Question 3\n",
      "============================================================\n",
      "25\n",
      "29\n",
      "First five median differences in randomised:[-0.2 -0.8 -0.8  0.1 -0.3]\n"
     ]
    }
   ],
   "source": [
    "## your code/answer here\n",
    "print_question(1)\n",
    "ps2_median = ps2_scores.median()\n",
    "xbox360_median = x360_scores.median()\n",
    "diff = xbox360_median - ps2_median\n",
    "\n",
    "print(f\"median difference is {diff}\")\n",
    "\n",
    "print_question(2)\n",
    "iterations = 1000\n",
    "random_median_diff = np.empty(iterations)\n",
    "\n",
    "print(f\"Empty numpy array created : {random_median_diff}\")\n",
    "\n",
    "print_question(3)\n",
    "\n",
    "xbox = len(x360_scores)\n",
    "ps2 = len(ps2_scores)\n",
    "\n",
    "print(xbox)\n",
    "print(ps2)\n",
    "\n",
    "#random test\n",
    "for i in range(iterations):\n",
    "     #combine all score and shuffle it.\n",
    "     all_score = pd.concat([x360_scores, ps2_scores])\n",
    "     shuffled = all_score.sample(frac=1)\n",
    "     \n",
    "     #the head of number is xbox score.\n",
    "     random_xbox = shuffled[:xbox]\n",
    "\n",
    "     #the rest of number is ps2 score.\n",
    "     random_ps2 = shuffled[xbox:]\n",
    "\n",
    "    #calculate difference between two medians.\n",
    "     random_median_diff[i] = random_xbox.median()- random_ps2.median()\n",
    "\n",
    "print(f\"First five median differences in randomised:{random_median_diff[:5]}\")\n",
    "\n",
    "#1000 times randomisations were run to find out.\n",
    "#This is the probability of a difference so far by chance.\n"
   ]
  },
  {
   "cell_type": "code",
   "execution_count": 297,
   "metadata": {
    "colab": {},
    "colab_type": "code",
    "id": "GcFBpMtmf18D"
   },
   "outputs": [],
   "source": [
    "## your code/answer here"
   ]
  },
  {
   "cell_type": "markdown",
   "metadata": {
    "colab_type": "text",
    "id": "f4lhKdhVg-qh"
   },
   "source": [
    "### Exercise 3\n",
    "\n",
    "Now that the randomizations are done, we want to obtain a p-value on the basis of which we can conclude whether Xbox360 games are rated higher than the PS2 games. \n",
    "\n",
    "1. Calculate the p-value, i.e., the probability that the randomized median differences are higher than the actual difference in the medians. \n",
    "2. Plot the randomized median differences and the actual median difference in one plot (use a `histplot` or `displot` to plot the randomized differences and use `plt.vlines` to plot the actual median difference).\n",
    "3. What would the p-value be for a 2-sided test?<div style='text-align: right;'>**5 points**</div>"
   ]
  },
  {
   "cell_type": "code",
   "execution_count": 298,
   "metadata": {
    "colab": {},
    "colab_type": "code",
    "id": "E1q06wq5QkD2"
   },
   "outputs": [
    {
     "name": "stdout",
     "output_type": "stream",
     "text": [
      "Question 1\n",
      "============================================================\n",
      "p value is 0.038\n",
      "Question 2\n",
      "============================================================\n"
     ]
    },
    {
     "data": {
      "image/png": "[encoded data removed]",
      "text/plain": [
       "<Figure size 640x480 with 1 Axes>"
      ]
     },
     "metadata": {},
     "output_type": "display_data"
    }
   ],
   "source": [
    "## your code/answer here\n",
    "print_question(1)\n",
    "\n",
    "greater_val = []\n",
    "\n",
    "for value in random_median_diff:\n",
    "    if value >= diff:\n",
    "        greater_val.append(value)\n",
    "\n",
    "count = len(greater_val)\n",
    "\n",
    "p = count / iterations\n",
    "\n",
    "print(f\"p value is {p}\")\n",
    "\n",
    "\n",
    "print_question(2)\n",
    "\n",
    "#Draw histgram graph(randome diff)\n",
    "sns.histplot(random_median_diff, color=\"red\")\n",
    "\n",
    "#Real diff\n",
    "plt.vlines(diff, ymin=0, ymax=100, colors=\"green\",label=\"Real Difference\")\n",
    "\n",
    "\n",
    "plt.title(\"Randomized Median and real difference\")\n",
    "plt.xlabel(\"Median Diff\")\n",
    "plt.ylabel(\"Count\")\n",
    "plt.legend()\n",
    "plt.grid()\n",
    "plt.show()\n",
    "\n",
    "\n"
   ]
  },
  {
   "cell_type": "code",
   "execution_count": 299,
   "metadata": {
    "colab": {},
    "colab_type": "code",
    "id": "BmbDLrJ15hJJ"
   },
   "outputs": [
    {
     "name": "stdout",
     "output_type": "stream",
     "text": [
      "Question 3\n",
      "============================================================\n",
      "2sided p value is : 0.077\n"
     ]
    }
   ],
   "source": [
    "## your code/answer here\n",
    "print_question(3)\n",
    "\n",
    "abs_diff = abs(diff)\n",
    "\n",
    "count_2side = 0\n",
    "\n",
    "for i in random_median_diff:\n",
    "    if abs(i) >= abs_diff:\n",
    "        count_2side += 1\n",
    "\n",
    "p_2sided = count_2side /iterations\n",
    "\n",
    "print(f\"2sided p value is : {p_2sided}\")\n",
    "\n"
   ]
  },
  {
   "cell_type": "markdown",
   "metadata": {
    "colab_type": "text",
    "id": "ViYwATx4tALv"
   },
   "source": [
    "### Exercise 4\n",
    "Instead of randomization we could also use the Mann-Whitney U test in this case, which is a non-parametric test to compare whether data in one population are \"higher\" than in another. \n",
    "\n",
    "1. Use the scipy module `stats.mannwhitneyu` to run the test. \n",
    "2. How does the p-value compare to the one you obtained through randomization?<div style='text-align: right;'>**2 points**</div>"
   ]
  },
  {
   "cell_type": "code",
   "execution_count": 300,
   "metadata": {
    "colab": {},
    "colab_type": "code",
    "id": "XJYkajhytaZw"
   },
   "outputs": [
    {
     "name": "stdout",
     "output_type": "stream",
     "text": [
      "Question 1\n",
      "============================================================\n",
      "U statistics 487.0\n",
      "p value : 0.015603029578300068\n"
     ]
    }
   ],
   "source": [
    "## your code/answer here\n",
    "print_question(1)\n",
    "\n",
    "#Assume that  that xbox is greater \n",
    "result = stats.mannwhitneyu(x360_scores,ps2_scores,alternative=\"greater\")\n",
    "\n",
    "#Show result\n",
    "\n",
    "print(f\"U statistics {result.statistic}\")\n",
    "print(f\"p value : {result.pvalue}\")\n",
    "\n"
   ]
  },
  {
   "cell_type": "code",
   "execution_count": 301,
   "metadata": {},
   "outputs": [
    {
     "name": "stdout",
     "output_type": "stream",
     "text": [
      "Question 2\n",
      "============================================================\n",
      "p value (Mann-Whitney U test): 0.015603029578300068\n",
      "p value(randomization, one-sided): 0.038\n",
      "p value(randomization, two side): 0.077\n",
      "When tested to see if they were within 5%, \n",
      "The Mann-Whitney U test produced a highly significant result with a slightly smaller p-value.\n",
      "The randomization test produced a moderately significant result with a slightly larger p-value.\n",
      "The 2-sided was the largest and not significant.\n",
      "\n"
     ]
    }
   ],
   "source": [
    "## your code/answer here\n",
    "print_question(2)\n",
    "\n",
    "print(f\"p value (Mann-Whitney U test): {result.pvalue}\")\n",
    "print(f\"p value(randomization, one-sided): {p}\")\n",
    "print(f\"p value(randomization, two side): {p_2sided}\")\n",
    "\n",
    "print(f\"When tested to see if they were within 5%, \\n\"\n",
    "        \"The Mann-Whitney U test produced a highly significant result with a slightly smaller p-value.\\n\"\n",
    "        \"The randomization test produced a moderately significant result with a slightly larger p-value.\\n\"\n",
    "        \"The 2-sided was the largest and not significant.\\n\" )"
   ]
  },
  {
   "cell_type": "markdown",
   "metadata": {
    "colab_type": "text",
    "id": "XtXkJX2FQkEC"
   },
   "source": [
    "### Exercise 5\n",
    "In the preceding exercises, you obtained three p-values, using different approaches. What is your conclusion regarding the hypothesis formulated in Exercise 1 above? <div style='text-align: right;'>**2 points**</div>"
   ]
  },
  {
   "cell_type": "code",
   "execution_count": 302,
   "metadata": {},
   "outputs": [],
   "source": [
    "## your code/answer here"
   ]
  },
  {
   "cell_type": "markdown",
   "metadata": {
    "colab_type": "text",
    "id": "yRmJXOyL7X81"
   },
   "source": [
    "In this assignment, we used a small sample of a larger dataset that you can find [here](https://github.com/erilyth/DeepLearning-Challenges/blob/master/Sentiment_Analysis/ign.csv) in case you are interested in the ratings of all console games. "
   ]
  },
  {
   "cell_type": "markdown",
   "metadata": {},
   "source": [
    "**Total number of points**: 21"
   ]
  }
 ],
 "metadata": {
  "colab": {
   "collapsed_sections": [],
   "name": "Assignment_4.ipynb",
   "provenance": []
  },
  "kernelspec": {
   "display_name": "spyder",
   "language": "python",
   "name": "python3"
  },
  "language_info": {
   "codemirror_mode": {
    "name": "ipython",
    "version": 3
   },
   "file_extension": ".py",
   "mimetype": "text/x-python",
   "name": "python",
   "nbconvert_exporter": "python",
   "pygments_lexer": "ipython3",
   "version": "3.12.7"
  }
 },
 "nbformat": 4,
 "nbformat_minor": 1
}
