{
 "cells": [
  {
   "cell_type": "markdown",
   "metadata": {
    "colab_type": "text",
    "id": "-lTF-NZxR3p8"
   },
   "source": [
    "# Assignment 4\n",
    "\n",
    "### Randomization testing"
   ]
  },
  {
   "cell_type": "markdown",
   "metadata": {
    "colab_type": "text",
    "id": "dHAIIUstR3p_"
   },
   "source": [
    "### Dataset"
   ]
  },
  {
   "cell_type": "markdown",
   "metadata": {
    "colab_type": "text",
    "id": "6tcatmpfR3qA"
   },
   "source": [
    "A game enthusiast claims that Xbox 360 games are better than PS2 games. He randomly samples games from both consoles and collects information about the review scores that the sampled games received on this [website](https://www.ign.com/reviews/games). In the  dataset he collected, there is information about the game title, platform, the review score the games received, the genre, and the release dates. \n"
   ]
  },
  {
   "cell_type": "code",
   "execution_count": 35,
   "metadata": {
    "colab": {},
    "colab_type": "code",
    "id": "iUh4vyblR3qA"
   },
   "outputs": [],
   "source": [
    "import pandas as pd\n",
    "import numpy as np\n",
    "import matplotlib.pyplot as plt\n",
    "import seaborn as sns\n",
    "from scipy import stats\n",
    "\n",
    "sns.set_style(\"whitegrid\")"
   ]
  },
  {
   "cell_type": "markdown",
   "metadata": {
    "colab_type": "text",
    "id": "F7Dan0VdwbLM"
   },
   "source": [
    "### Exercise 1\n",
    "Our game enthusiast wants to test whether Xbox 360 games receive a higher review score than PS2 games. \n",
    "\n",
    "1. Write down the null- and alternative hypothesis.\n",
    "2. Load the data and print out the head.\n",
    "3. To run the statistical tests and make plots, create two new variables that contain the data for the PS2 and Xbox 360 datasets. Look at your code from the previous weeks to remind you how to do that. \n",
    "4. Before doing a statistical test, it is always a good idea to have a look at your data. Choose an appropriate plot to visualize the data. Show the data for both consoles separately. \n",
    "5. Does the plotted data suggest that the hypothesis of our game enthusiast may be right?\n",
    "6. Do these data meet the normality assumptions required for a t-test?<div style='text-align: right;'>**7 points**</div>"
   ]
  },
  {
   "cell_type": "code",
   "execution_count": null,
   "metadata": {
    "colab_type": "text",
    "id": "68EV8GIfiOfz"
   },
   "outputs": [],
   "source": [
    "## your code/answer here\n",
    "def print_question(question_number, sep_line_width = 60):\n",
    "    print(f\"Question {question_number}\")\n",
    "    print(sep_line_width * \"=\")\n",
    "\n",
    "print_question(1)\n",
    "print(\"H0: The mean review score is equal for Xbox 360 and PS2 games.\")\n",
    "print(\"H1: The mean review score is higher for Xbox 360 games.\")"
   ]
  },
  {
   "cell_type": "code",
   "execution_count": null,
   "metadata": {
    "colab": {},
    "colab_type": "code",
    "id": "Qtv593cbR3qE"
   },
   "outputs": [],
   "source": [
    "## your code/answer here\n",
    "print_question(2)\n",
    "dataframe = pd.read_csv('PS2_vs_Xbox360.csv')\n",
    "\n",
    "dataframe.head()"
   ]
  },
  {
   "cell_type": "code",
   "execution_count": null,
   "metadata": {
    "colab": {},
    "colab_type": "code",
    "id": "dPOj2obZc2ZM"
   },
   "outputs": [],
   "source": [
    "## your code/answer here\n",
    "print_question(3)\n",
    "ps2_scores = dataframe[dataframe[\"platform\"] == \"PlayStation 2\"][\"score\"]\n",
    "print(\"PlayStation 2 scores:\")\n",
    "print(ps2_scores.head(), \"\\n\")\n",
    "\n",
    "x360_scores = dataframe[dataframe[\"platform\"] == \"Xbox 360\"][\"score\"]\n",
    "print(\"Xbox 360 scores:\")\n",
    "print(x360_scores.head())"
   ]
  },
  {
   "cell_type": "code",
   "execution_count": 39,
   "metadata": {
    "colab": {},
    "colab_type": "code",
    "id": "Vuom1qekTE6J"
   },
   "outputs": [],
   "source": [
    "## your code/answer here"
   ]
  },
  {
   "cell_type": "code",
   "execution_count": 40,
   "metadata": {
    "colab_type": "text",
    "id": "1OWv4jRFSwiA"
   },
   "outputs": [],
   "source": [
    "## your code/answer here"
   ]
  },
  {
   "cell_type": "markdown",
   "metadata": {
    "colab_type": "text",
    "id": "MVhouXrsmAre"
   },
   "source": [
    "### Exercise 2\n",
    "\n",
    "Non-parameteric testing is a great alternative for datasets such as these. In this workgroup you will learn how you can use randomization to do hypothesis testing. Before we can do the randomization test, we will need to prepare some variables. Because the data are left skewed we will use the median instead of the mean to compare the two consoles. Do the following things:\n",
    "\n",
    " 1. Calculate the difference in median score of both consoles, and store it in an appropriately named variable.\n",
    " 2. Define how many randomization iterations you want to compute (usually 1000 up to 10000), and create an empty numpy array of this size.\n",
    " 3. Now create a for-loop that loops $n$ times (the number you defined in item 2). Inside the loop, randomly assign each score to a console. Each console should have as many scores as it originally had. \n",
    "You can do this by:\n",
    "1. shuffling all the rows of the 'games' pandas dataframe (using the sample method in pandas) \n",
    "2. selecting the first x number of cases that will represent the Xbox 360 games. \n",
    "3. selecting the remaining cases that represent the PS2 games. \n",
    "4. After you randomly reassigned the rows to the consoles, you calculate the (randomized) differences in the medians of the scores of the two consoles. Store these median differences in a numpy array (that you created in item 2).<div style='text-align: right;'>**5 points**</div>"
   ]
  },
  {
   "cell_type": "code",
   "execution_count": 41,
   "metadata": {
    "colab": {},
    "colab_type": "code",
    "id": "FT7BCwh4QkDQ"
   },
   "outputs": [],
   "source": [
    "## your code/answer here"
   ]
  },
  {
   "cell_type": "code",
   "execution_count": 42,
   "metadata": {
    "colab": {},
    "colab_type": "code",
    "id": "GcFBpMtmf18D"
   },
   "outputs": [],
   "source": [
    "## your code/answer here"
   ]
  },
  {
   "cell_type": "markdown",
   "metadata": {
    "colab_type": "text",
    "id": "f4lhKdhVg-qh"
   },
   "source": [
    "### Exercise 3\n",
    "\n",
    "Now that the randomizations are done, we want to obtain a p-value on the basis of which we can conclude whether Xbox360 games are rated higher than the PS2 games. \n",
    "\n",
    "1. Calculate the p-value, i.e., the probability that the randomized median differences are higher than the actual difference in the medians. \n",
    "2. Plot the randomized median differences and the actual median difference in one plot (use a `histplot` or `displot` to plot the randomized differences and use `plt.vlines` to plot the actual median difference).\n",
    "3. What would the p-value be for a 2-sided test?<div style='text-align: right;'>**5 points**</div>"
   ]
  },
  {
   "cell_type": "code",
   "execution_count": 43,
   "metadata": {
    "colab": {},
    "colab_type": "code",
    "id": "E1q06wq5QkD2"
   },
   "outputs": [],
   "source": [
    "## your code/answer here"
   ]
  },
  {
   "cell_type": "code",
   "execution_count": 44,
   "metadata": {
    "colab": {},
    "colab_type": "code",
    "id": "BmbDLrJ15hJJ"
   },
   "outputs": [],
   "source": [
    "## your code/answer here"
   ]
  },
  {
   "cell_type": "markdown",
   "metadata": {
    "colab_type": "text",
    "id": "ViYwATx4tALv"
   },
   "source": [
    "### Exercise 4\n",
    "Instead of randomization we could also use the Mann-Whitney U test in this case, which is a non-parametric test to compare whether data in one population are \"higher\" than in another. \n",
    "\n",
    "1. Use the scipy module `stats.mannwhitneyu` to run the test. \n",
    "2. How does the p-value compare to the one you obtained through randomization?<div style='text-align: right;'>**2 points**</div>"
   ]
  },
  {
   "cell_type": "code",
   "execution_count": 45,
   "metadata": {
    "colab": {},
    "colab_type": "code",
    "id": "XJYkajhytaZw"
   },
   "outputs": [],
   "source": [
    "## your code/answer here"
   ]
  },
  {
   "cell_type": "code",
   "execution_count": 46,
   "metadata": {},
   "outputs": [],
   "source": [
    "## your code/answer here"
   ]
  },
  {
   "cell_type": "markdown",
   "metadata": {
    "colab_type": "text",
    "id": "XtXkJX2FQkEC"
   },
   "source": [
    "### Exercise 5\n",
    "In the preceding exercises, you obtained three p-values, using different approaches. What is your conclusion regarding the hypothesis formulated in Exercise 1 above? <div style='text-align: right;'>**2 points**</div>"
   ]
  },
  {
   "cell_type": "code",
   "execution_count": 47,
   "metadata": {},
   "outputs": [],
   "source": [
    "## your code/answer here"
   ]
  },
  {
   "cell_type": "markdown",
   "metadata": {
    "colab_type": "text",
    "id": "yRmJXOyL7X81"
   },
   "source": [
    "In this assignment, we used a small sample of a larger dataset that you can find [here](https://github.com/erilyth/DeepLearning-Challenges/blob/master/Sentiment_Analysis/ign.csv) in case you are interested in the ratings of all console games. "
   ]
  },
  {
   "cell_type": "markdown",
   "metadata": {},
   "source": [
    "**Total number of points**: 21"
   ]
  }
 ],
 "metadata": {
  "colab": {
   "collapsed_sections": [],
   "name": "Assignment_4.ipynb",
   "provenance": []
  },
  "kernelspec": {
   "display_name": "spyder",
   "language": "python",
   "name": "python3"
  },
  "language_info": {
   "codemirror_mode": {
    "name": "ipython",
    "version": 3
   },
   "file_extension": ".py",
   "mimetype": "text/x-python",
   "name": "python",
   "nbconvert_exporter": "python",
   "pygments_lexer": "ipython3",
   "version": "3.12.7"
  }
 },
 "nbformat": 4,
 "nbformat_minor": 1
}
