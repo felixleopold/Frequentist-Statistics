{
 "cells": [
  {
   "cell_type": "markdown",
   "id": "3db1d2c6",
   "metadata": {
    "colab_type": "text",
    "id": "-lTF-NZxR3p8"
   },
   "source": [
    "# Assignment 4\n",
    "\n",
    "### Randomization testing"
   ]
  },
  {
   "cell_type": "markdown",
   "id": "f257a87c",
   "metadata": {
    "colab_type": "text",
    "id": "dHAIIUstR3p_"
   },
   "source": [
    "### Dataset"
   ]
  },
  {
   "cell_type": "markdown",
   "id": "ee72d6ca",
   "metadata": {
    "colab_type": "text",
    "id": "6tcatmpfR3qA"
   },
   "source": [
    "A game enthusiast claims that Xbox 360 games are better than PS2 games. He randomly samples games from both consoles and collects information about the review scores that the sampled games received on this [website](https://www.ign.com/reviews/games). In the  dataset he collected, there is information about the game title, platform, the review score the games received, the genre, and the release dates."
   ]
  },
  {
   "cell_type": "code",
   "execution_count": null,
   "id": "2d10a439",
   "metadata": {
    "colab": {},
    "colab_type": "code",
    "id": "iUh4vyblR3qA"
   },
   "outputs": [],
   "source": [
    "import pandas as pd\n",
    "import numpy as np\n",
    "import matplotlib.pyplot as plt\n",
    "import seaborn as sns\n",
    "from scipy import stats\n",
    "\n",
    "sns.set_style(\"whitegrid\")"
   ]
  },
  {
   "cell_type": "markdown",
   "id": "56f6a6ac",
   "metadata": {
    "colab_type": "text",
    "id": "F7Dan0VdwbLM"
   },
   "source": [
    "### Exercise 1\n",
    "Our game enthusiast wants to test whether Xbox 360 games receive a higher review score than PS2 games. \n",
    "\n",
    "1. Write down the null- and alternative hypothesis.\n",
    "2. Load the data and print out the head.\n",
    "3. To run the statistical tests and make plots, create two new variables that contain the data for the PS2 and Xbox 360 datasets. Look at your code from the previous weeks to remind you how to do that. \n",
    "4. Before doing a statistical test, it is always a good idea to have a look at your data. Choose an appropriate plot to visualize the data. Show the data for both consoles separately. \n",
    "5. Does the plotted data suggest that the hypothesis of our game enthusiast may be right?\n",
    "6. Do these data meet the normality assumptions required for a t-test?<div style='text-align: right;'>**7 points**</div>"
   ]
  },
  {
   "cell_type": "code",
   "execution_count": null,
   "id": "e1cd67ad",
   "metadata": {
    "colab_type": "text",
    "id": "68EV8GIfiOfz"
   },
   "outputs": [],
   "source": [
    "## your code/answer here\n",
    "def print_question(question_number, sep_line_width = 60):\n",
    "    print(f\"Question {question_number}\")\n",
    "    print(sep_line_width * \"=\")\n",
    "\n",
    "print_question(1)\n",
    "print(\"H0: The mean review score is equal for Xbox 360 and PS2 games.\")\n",
    "print(\"H1: The mean review score is higher for Xbox 360 games.\")"
   ]
  },
  {
   "cell_type": "code",
   "execution_count": null,
   "id": "c446f092",
   "metadata": {
    "colab": {},
    "colab_type": "code",
    "id": "Qtv593cbR3qE"
   },
   "outputs": [],
   "source": [
    "## your code/answer here\n",
    "print_question(2)\n",
    "dataframe = pd.read_csv('PS2_vs_Xbox360.csv')\n",
    "\n",
    "dataframe.head()"
   ]
  },
  {
   "cell_type": "code",
   "execution_count": null,
   "id": "1ab870d9",
   "metadata": {
    "colab": {},
    "colab_type": "code",
    "id": "dPOj2obZc2ZM"
   },
   "outputs": [],
   "source": [
    "## your code/answer here\n",
    "print_question(3)\n",
    "ps2_scores = dataframe[dataframe[\"platform\"] == \"PlayStation 2\"][\"score\"]\n",
    "print(\"PlayStation 2 scores:\")\n",
    "print(ps2_scores.head(), \"\\n\")\n",
    "\n",
    "x360_scores = dataframe[dataframe[\"platform\"] == \"Xbox 360\"][\"score\"]\n",
    "print(\"Xbox 360 scores:\")\n",
    "print(x360_scores.head())"
   ]
  },
  {
   "cell_type": "code",
   "execution_count": null,
   "id": "91765bbb",
   "metadata": {
    "colab": {},
    "colab_type": "code",
    "id": "Vuom1qekTE6J"
   },
   "outputs": [],
   "source": [
    "## your code/answer here\n",
    "print_question(4)\n",
    "\n",
    "plt.figure(figsize=(10,6))\n",
    "sns.histplot(ps2_scores, color='skyblue', label='PS2')\n",
    "sns.histplot(x360_scores, color='lightcoral', label='Xbox 360')\n",
    "plt.title('Distribution of Review Scores for PS2 and Xbox 360 Games')\n",
    "plt.xlabel('Review Score')\n",
    "plt.ylabel('Density')\n",
    "plt.legend()\n",
    "plt.show()\n",
    "\n",
    "plt.figure(figsize=(10,6))\n",
    "sns.boxplot(x='platform', y='score', data=dataframe, hue='platform', palette={'PlayStation 2': 'skyblue', 'Xbox 360': 'lightcoral'})\n",
    "plt.title('Boxplot of Review Scores by Platform')\n",
    "plt.xlabel('Platform')\n",
    "plt.ylabel('Review Score')\n",
    "plt.show()\n"
   ]
  },
  {
   "cell_type": "code",
   "execution_count": null,
   "id": "9175cf51",
   "metadata": {
    "colab_type": "text",
    "id": "1OWv4jRFSwiA"
   },
   "outputs": [],
   "source": [
    "## your code/answer here\n",
    "print_question(5)\n",
    "print(\"The histogram shows that the distribution for the Xbox 360 scores is shifted slightly to the right.\")\n",
    "print(\"The boxplot shows that the mean score for Xbox 360 is slightly higher than PS2.\\n\")\n",
    "print(\"So, yes, the data seems to suggest that the hypothesis of the game enthusiast may be right.\")\n",
    "\n",
    "print(\"\\n\")\n",
    "print_question(6)\n",
    "print(\"When looking at the histogram, we can see that the distribtion is skewed to the left.\")\n",
    "print(\"Something similar can be seen in the boxplot, where the median is not centered in the box.\")\n",
    "print(\"So, no, the data does not meet the normality assumptions required for a t-test.\\n\")\n",
    "\n",
    "ps2_skew = ps2_scores.skew()\n",
    "x360_skew = x360_scores.skew()\n",
    "print(\"PS2 skew: \", ps2_skew)\n",
    "print(\"Xbox 360 skew: \", x360_skew) # if value is further away from 0 then the data is more skewed"
   ]
  },
  {
   "cell_type": "markdown",
   "id": "af14c4e7",
   "metadata": {
    "colab_type": "text",
    "id": "MVhouXrsmAre"
   },
   "source": [
    "### Exercise 2\n",
    "\n",
    "Non-parameteric testing is a great alternative for datasets such as these. In this workgroup you will learn how you can use randomization to do hypothesis testing. Before we can do the randomization test, we will need to prepare some variables. Because the data are left skewed we will use the median instead of the mean to compare the two consoles. Do the following things:\n",
    "\n",
    " 1. Calculate the difference in median score of both consoles, and store it in an appropriately named variable.\n",
    " 2. Define how many randomization iterations you want to compute (usually 1000 up to 10000), and create an empty numpy array of this size.\n",
    " 3. Now create a for-loop that loops $n$ times (the number you defined in item 2). Inside the loop, randomly assign each score to a console. Each console should have as many scores as it originally had. \n",
    "You can do this by:\n",
    "1. shuffling all the rows of the 'games' pandas dataframe (using the sample method in pandas) \n",
    "2. selecting the first x number of cases that will represent the Xbox 360 games. \n",
    "3. selecting the remaining cases that represent the PS2 games. \n",
    "4. After you randomly reassigned the rows to the consoles, you calculate the (randomized) differences in the medians of the scores of the two consoles. Store these median differences in a numpy array (that you created in item 2).<div style='text-align: right;'>**5 points**</div>"
   ]
  },
  {
   "cell_type": "code",
   "execution_count": null,
   "id": "414bc613",
   "metadata": {
    "colab": {},
    "colab_type": "code",
    "id": "FT7BCwh4QkDQ"
   },
   "outputs": [],
   "source": [
    "## your code/answer here\n",
    "print_question(1)\n",
    "ps2_median = ps2_scores.median()\n",
    "xbox360_median = x360_scores.median()\n",
    "diff = xbox360_median - ps2_median\n",
    "\n",
    "print(f\"median difference is {diff}\")\n",
    "\n",
    "print_question(2)\n",
    "iterations = 1000\n",
    "random_median_diff = np.empty(iterations)\n",
    "\n",
    "print(f\"Empty numpy array created : {random_median_diff}\")\n",
    "\n",
    "print_question(3)\n",
    "\n",
    "xbox = len(x360_scores)\n",
    "ps2 = len(ps2_scores)\n",
    "\n",
    "print(xbox)\n",
    "print(ps2)\n",
    "\n",
    "#random test\n",
    "for i in range(iterations):\n",
    "     #combine all score and shuffle it.\n",
    "     all_score = pd.concat([x360_scores, ps2_scores])\n",
    "     shuffled = all_score.sample(frac=1)\n",
    "     \n",
    "     #the head of number is xbox score.\n",
    "     random_xbox = shuffled[:xbox]\n",
    "\n",
    "     #the rest of number is ps2 score.\n",
    "     random_ps2 = shuffled[xbox:]\n",
    "\n",
    "    #calculate difference between two medians.\n",
    "     random_median_diff[i] = random_xbox.median()- random_ps2.median()\n",
    "\n",
    "print(f\"First five median differences in randomised:{random_median_diff[:5]}\")\n",
    "\n",
    "#1000 times randomisations were run to find out.\n",
    "#This is the probability of a difference so far by chance."
   ]
  },
  {
   "cell_type": "code",
   "execution_count": null,
   "id": "db11f48d",
   "metadata": {
    "colab": {},
    "colab_type": "code",
    "id": "GcFBpMtmf18D"
   },
   "outputs": [],
   "source": [
    "## your code/answer here"
   ]
  },
  {
   "cell_type": "markdown",
   "id": "a61133ff",
   "metadata": {
    "colab_type": "text",
    "id": "f4lhKdhVg-qh"
   },
   "source": [
    "### Exercise 3\n",
    "\n",
    "Now that the randomizations are done, we want to obtain a p-value on the basis of which we can conclude whether Xbox360 games are rated higher than the PS2 games. \n",
    "\n",
    "1. Calculate the p-value, i.e., the probability that the randomized median differences are higher than the actual difference in the medians. \n",
    "2. Plot the randomized median differences and the actual median difference in one plot (use a `histplot` or `displot` to plot the randomized differences and use `plt.vlines` to plot the actual median difference).\n",
    "3. What would the p-value be for a 2-sided test?<div style='text-align: right;'>**5 points**</div>"
   ]
  },
  {
   "cell_type": "code",
   "execution_count": null,
   "id": "f92f5ba0",
   "metadata": {
    "colab": {},
    "colab_type": "code",
    "id": "E1q06wq5QkD2"
   },
   "outputs": [],
   "source": [
    "## your code/answer here\n",
    "print_question(1)\n",
    "\n",
    "greater_val = []\n",
    "\n",
    "for value in random_median_diff:\n",
    "    if value >= diff:\n",
    "        greater_val.append(value)\n",
    "\n",
    "count = len(greater_val)\n",
    "\n",
    "p = count / iterations\n",
    "\n",
    "print(f\"p value is {p}\")\n",
    "\n",
    "\n",
    "print_question(2)\n",
    "\n",
    "#Draw histgram graph(randome diff)\n",
    "sns.histplot(random_median_diff, color=\"red\")\n",
    "\n",
    "#Real diff\n",
    "plt.vlines(diff, ymin=0, ymax=100, colors=\"green\",label=\"Real Difference\")\n",
    "\n",
    "\n",
    "plt.title(\"Randomized Median and real difference\")\n",
    "plt.xlabel(\"Median Diff\")\n",
    "plt.ylabel(\"Count\")\n",
    "plt.legend()\n",
    "plt.grid()\n",
    "plt.show()\n"
   ]
  },
  {
   "cell_type": "code",
   "execution_count": null,
   "id": "bf262feb",
   "metadata": {
    "colab": {},
    "colab_type": "code",
    "id": "BmbDLrJ15hJJ"
   },
   "outputs": [],
   "source": [
    "## your code/answer here\n",
    "print_question(3)\n",
    "\n",
    "abs_diff = abs(diff)\n",
    "\n",
    "count_2side = 0\n",
    "\n",
    "for i in random_median_diff:\n",
    "    if abs(i) >= abs_diff:\n",
    "        count_2side += 1\n",
    "\n",
    "p_2sided = count_2side /iterations\n",
    "\n",
    "print(f\"2sided p value is : {p_2sided}\")"
   ]
  },
  {
   "cell_type": "markdown",
   "id": "a6c8fc3f",
   "metadata": {
    "colab_type": "text",
    "id": "ViYwATx4tALv"
   },
   "source": [
    "### Exercise 4\n",
    "Instead of randomization we could also use the Mann-Whitney U test in this case, which is a non-parametric test to compare whether data in one population are \"higher\" than in another. \n",
    "\n",
    "1. Use the scipy module `stats.mannwhitneyu` to run the test. \n",
    "2. How does the p-value compare to the one you obtained through randomization?<div style='text-align: right;'>**2 points**</div>"
   ]
  },
  {
   "cell_type": "code",
   "execution_count": null,
   "id": "84735167",
   "metadata": {
    "colab": {},
    "colab_type": "code",
    "id": "XJYkajhytaZw"
   },
   "outputs": [],
   "source": [
    "## your code/answer here\n",
    "print_question(1)\n",
    "\n",
    "#Assume that  that xbox is greater \n",
    "result = stats.mannwhitneyu(x360_scores,ps2_scores,alternative=\"greater\")\n",
    "\n",
    "#Show result\n",
    "\n",
    "print(f\"U statistics {result.statistic}\")\n",
    "print(f\"p value : {result.pvalue}\")"
   ]
  },
  {
   "cell_type": "code",
   "execution_count": null,
   "id": "68d593d0",
   "metadata": {},
   "outputs": [],
   "source": [
    "## your code/answer here\n",
    "print_question(2)\n",
    "\n",
    "print(f\"p value (Mann-Whitney U test): {result.pvalue}\")\n",
    "print(f\"p value(randomization, one-sided): {p}\")\n",
    "print(f\"p value(randomization, two side): {p_2sided}\")\n",
    "\n",
    "print(f\"When tested to see if they were within 5%, \\n\"\n",
    "        \"The Mann-Whitney U test produced a highly significant result with a slightly smaller p-value.\\n\"\n",
    "        \"The randomization test produced a moderately significant result with a slightly larger p-value.\\n\"\n",
    "        \"The 2-sided was the largest and not significant.\\n\" )"
   ]
  },
  {
   "cell_type": "markdown",
   "id": "08cc9f64",
   "metadata": {
    "colab_type": "text",
    "id": "XtXkJX2FQkEC"
   },
   "source": [
    "### Exercise 5\n",
    "In the preceding exercises, you obtained three p-values, using different approaches. What is your conclusion regarding the hypothesis formulated in Exercise 1 above? <div style='text-align: right;'>**2 points**</div>"
   ]
  },
  {
   "cell_type": "code",
   "execution_count": null,
   "id": "87391c0b",
   "metadata": {},
   "outputs": [],
   "source": [
    "## your code/answer here\n",
    "## your code/answer here\n",
    "print_question(5)\n",
    "\n",
    "print(\"The hypothesis from Exercise 1 was:\")\n",
    "print(\"H0: The mean review score is equal for Xbox 360 and PS2 games.\")\n",
    "print(\"H1: The mean review score is higher for Xbox 360 games.\\n\")\n",
    "\n",
    "print(\"We used non-parametric tests (randomization and Mann-Whitney U) because the normality assumption was not met\\n\")\n",
    "\n",
    "print(f\"The median difference was: {diff:.8f}\\n\")\n",
    "\n",
    "print(\"P values:\")\n",
    "print(f\"Randomization test (one-sided): p = {p}\")\n",
    "print(f\"Mann-Whitney U test (one-sided): p = {result.pvalue:.8f}\\n\")\n",
    "\n",
    "\n",
    "# significance level\n",
    "alpha = 0.05\n",
    "\n",
    "# Make the conclusion based on the one-sided p-values\n",
    "print(f\"Both one-sided p-values ({p} and {result.pvalue:.8f}) are less than {alpha}.\")\n",
    "print(\"Therefore, we reject the null hypothesis (H0), that the mean review score is equal for Xbox 360 and PS2 games.\\n\")\n",
    "print(\"Conclusion: There is statistically significant evidence to support the game enthusiast's claim that Xbox 360 games receive higher review scores than PS2 games.\")"
   ]
  },
  {
   "cell_type": "markdown",
   "id": "7446961f",
   "metadata": {
    "colab_type": "text",
    "id": "yRmJXOyL7X81"
   },
   "source": [
    "In this assignment, we used a small sample of a larger dataset that you can find [here](https://github.com/erilyth/DeepLearning-Challenges/blob/master/Sentiment_Analysis/ign.csv) in case you are interested in the ratings of all console games."
   ]
  },
  {
   "cell_type": "markdown",
   "id": "cdb2ae01",
   "metadata": {},
   "source": [
    "**Total number of points**: 21"
   ]
  }
 ],
 "metadata": {
  "jupytext": {
   "default_lexer": "ipython3"
  },
  "kernelspec": {
   "display_name": "base",
   "language": "python",
   "name": "python3"
  },
  "language_info": {
   "name": "python",
   "version": "3.12.4"
  }
 },
 "nbformat": 4,
 "nbformat_minor": 5
}
