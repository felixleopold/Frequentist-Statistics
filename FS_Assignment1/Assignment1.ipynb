{
  "cells": [
    {
      "cell_type": "markdown",
      "metadata": {
        "id": "JNVMYQZqfruK"
      },
      "source": [
        "# Assignment 1"
      ]
    },
    {
      "cell_type": "markdown",
      "metadata": {
        "id": "5zmGUGZf4kGG"
      },
      "source": [
        "## Introduction to Data"
      ]
    },
    {
      "cell_type": "markdown",
      "metadata": {
        "id": "Nqe_1vgV4kGK"
      },
      "source": [
        "### Dataset"
      ]
    },
    {
      "cell_type": "markdown",
      "metadata": {
        "id": "sfOVSOK34kGL"
      },
      "source": [
        "The aim of this assignment is to learn how to apply the theoretical knowledge you gained in the book and video clips to real datasets. Today, you will learn how to load data, how datasets are organized, how you can summarize data, and how you can plot data. To do this, we will use the dataset `BikeRental.csv`, modified from the original source (kaggle).\n",
        "\n",
        "Bikes can be rented and returned at specific points in the city, and the number of bikes that are rented on a day depends on a number of factors. Some potential factors are given in this dataset, which we will visualize in some plots. First we need to import some libraries."
      ]
    },
    {
      "cell_type": "code",
      "execution_count": 48,
      "metadata": {
        "id": "uzjVn3Lw4kGM"
      },
      "outputs": [],
      "source": [
        "import pandas as pd\n",
        "import numpy as np\n",
        "import matplotlib.pyplot as plt\n",
        "import seaborn as sns\n",
        "\n",
        "sns.set_style(\"whitegrid\")"
      ]
    },
    {
      "cell_type": "code",
      "execution_count": 49,
      "metadata": {
        "colab": {
          "base_uri": "https://localhost:8080/",
          "height": 76
        },
        "id": "TVlG8z5yfruQ",
        "outputId": "2e7f2492-5fb3-4c5b-b399-e23b415729ed"
      },
      "outputs": [],
      "source": [
        "# For google colab\n",
        "# from google.colab import files\n",
        "# uploaded = files.upload()"
      ]
    },
    {
      "cell_type": "markdown",
      "metadata": {
        "id": "Kx-_Uj5J4kGQ"
      },
      "source": [
        "For importing data we will use the ```pandas``` library, which has a lot of tools that are useful for data analysis. When reading in data, pandas will create a **DataFrame**. A pandas DataFrame is similar to a Python dictionairy, in the sense that each column name is a key, and the data below it are the values. The columns in the DataFrame represent the different variables and the rows represent the different cases (observations). We can see all the variables in the DataFrame by printing all the `key` values, or printing the `head/tail` of the file. One key with all its values is called a Series, this is one column in the DataFrame."
      ]
    },
    {
      "cell_type": "markdown",
      "metadata": {
        "id": "WKukIKwTfruR"
      },
      "source": [
        "### Exercise 1\n",
        "\n",
        "1. Read the data in ```BikeRental.csv``` into a variable ```raw_data``` and print out the keys. How many keys are there?\n",
        "2. Print out the head and tail of the data.\n",
        "3. For each of the following variables, write down what kind of data it is (categorical, ordinal, discrete, continuous):\n",
        "season, month, weekday, working day, weather situation, temperature, windspeed, count <div style='text-align: right;'>**6 points**</div>"
      ]
    },
    {
      "cell_type": "markdown",
      "metadata": {},
      "source": []
    },
    {
      "cell_type": "code",
      "execution_count": null,
      "metadata": {
        "colab": {
          "base_uri": "https://localhost:8080/"
        },
        "id": "_IR5ybxu4kGR",
        "outputId": "9b3a25bd-7ca9-439d-a29a-512ba7e5e51d"
      },
      "outputs": [],
      "source": [
        "print(\"\\033[38;2;204;36;29m\" + \"Solution no1\" + \"\\033[0m\")\n",
        "raw_data = pd.read_csv('BikeRental.csv')\n",
        "print(\"There are\", len(raw_data.keys()), \"keys:\")\n",
        "print(\"=\"*80)\n",
        "for key in raw_data.keys():\n",
        "  print(key)\n",
        "\n",
        "# print(\"\\n\" + \"\\033[38;2;204;36;29m\" + \"Solution no2\" + \"\\033[\")\n",
        "# print(\"There are \",len(raw_data.columns), \"keys\")\n",
        "# print(\"=\"*80)"
      ]
    },
    {
      "cell_type": "code",
      "execution_count": null,
      "metadata": {},
      "outputs": [],
      "source": [
        "print(\"Head:\")\n",
        "print(\"=\"*80)\n",
        "raw_data.head()"
      ]
    },
    {
      "cell_type": "code",
      "execution_count": null,
      "metadata": {
        "colab": {
          "base_uri": "https://localhost:8080/"
        },
        "id": "5pD-q8sC4kGV",
        "outputId": "31267a0d-9b65-41bc-a742-95428fcddc83"
      },
      "outputs": [],
      "source": [
        "print(\"Tail:\")\n",
        "print(\"=\"*80)\n",
        "raw_data.tail()"
      ]
    },
    {
      "cell_type": "markdown",
      "metadata": {
        "id": "uknOMMNW4kGc"
      },
      "source": [
        "### Categories\n",
        "\n",
        "- **date**: ordinal  \n",
        "- **season**: categorical  \n",
        "- **year**: discrete  \n",
        "- **month**: ordinal  \n",
        "- **weekday**: categorical  \n",
        "- **hour**: discrete  \n",
        "- **workingday**: categorical  \n",
        "- **weather sit**: categorical\n",
        "- **temperature**: continuous  \n",
        "- **feeling temperature**: continuous  \n",
        "- **humidity**: discrete \n",
        "- **windspeed**: continuous  \n",
        "- **count**: discrete  \n",
        "\n",
        "*Our categories are also based on the values we found in the data and our real-world understanding\n",
        "\n"
      ]
    },
    {
      "cell_type": "markdown",
      "metadata": {
        "id": "oVooRkdu4kGi"
      },
      "source": [
        "### Exercise 2\n",
        "A good first step in any analysis is to distill the information in all the cases to a few summary statistics and graphics. As a simple example, the function ```describe``` returns a numerical summary: count, mean, standard deviation, minimum, first quartile, median, second quartile, and maximum. Python also has built-in functions to compute summary statistics one by one, such as the functions ```mean``` or ```max```.\n",
        "\n",
        "1. Use the ```describe``` function to summarize the data for temperature. What is the mean and standard deviation?\n",
        "2. Use the ```mean``` function to confirm the value in 1. above.\n",
        "3. Calculate the IQR of the feeling temperature and of windspeed (and print both of them).\n",
        "4. For categorical data, it makes more sense to look at the sample frequency or relative frequency distribution. The function ```value_counts``` does this for you by counting the number of times each kind of response was given. Extract the number of cases that were recorded in the different seasons. <div style='text-align: right;'>**6 points**</div>"
      ]
    },
    {
      "cell_type": "code",
      "execution_count": null,
      "metadata": {
        "id": "7bdhupbM4kGj"
      },
      "outputs": [],
      "source": [
        "# your code/answer here\n",
        "print(raw_data[\"temperature\"].describe())"
      ]
    },
    {
      "cell_type": "code",
      "execution_count": null,
      "metadata": {
        "id": "rc2bnJ5qjQzX"
      },
      "outputs": [],
      "source": [
        "# your code/answer here\n",
        "print(raw_data[\"temperature\"].mean())"
      ]
    },
    {
      "cell_type": "code",
      "execution_count": null,
      "metadata": {
        "id": "fnfxGeOQ4kGq"
      },
      "outputs": [],
      "source": [
        "# your code/answer here\n",
        "#The IQR （Interquartile Range） describes the middle 50% of values when ordered from lowest to highest.\n",
        "#When we split the data by four parts, it can be divided each 25%.\n",
        "#Q1 means the value that counting from the bottom of the data “25%”.\n",
        "#Q3 means counting from the bottom of the data \"75%\".\n",
        "#Why 25% and 75%? because we only want to focus on the middle range of 50% data.\n",
        "#Here is IQR foumula :  IQR ＝ 75% (Q3)　− 25% (Q1)\n",
        "\n",
        "#Here is code\n",
        "#In case of feeling temperature.\n",
        "q1_f = raw_data[\"feeling temperature\"].quantile(0.25)\n",
        "q3_f = raw_data[\"feeling temperature\"].quantile(0.75)\n",
        "IQR_f = q3_f -q1_f \n",
        "print(IQR_f)\n",
        "\n",
        "#In case of windspeed.\n",
        "q1_w = raw_data[\"windspeed\"].quantile(0.25)\n",
        "q3_w = raw_data[\"windspeed\"].quantile(0.75)\n",
        "IQR_w = q3_w -q1_w\n",
        "print(IQR_w)"
      ]
    },
    {
      "cell_type": "code",
      "execution_count": null,
      "metadata": {
        "id": "sMinKwaekZFq"
      },
      "outputs": [],
      "source": [
        "# your code/answer here\n",
        "print(raw_data[\"season\"].value_counts())"
      ]
    },
    {
      "cell_type": "markdown",
      "metadata": {
        "id": "zuiRGW4a4kGu"
      },
      "source": [
        "### Exercise 3\n"
      ]
    },
    {
      "cell_type": "markdown",
      "metadata": {
        "id": "UFqgJeym4kGu"
      },
      "source": [
        "To answer specific questions about the data, it is important that we can zoom in on different parts of the data. For example, we want to look at all the non-working days where the temperature was higher than 10°C. We can do that as follows:"
      ]
    },
    {
      "cell_type": "code",
      "execution_count": null,
      "metadata": {
        "collapsed": true,
        "id": "4w5sb9Ns4kGv",
        "outputId": "496de2f2-5cbc-41ca-ff6e-a0940f4b4e83"
      },
      "outputs": [],
      "source": [
        "# with multiple conditions the brackets around each condition are necessary!\n",
        "no_work_temp_over_10 = raw_data[(raw_data['workingday'] == 0) & (raw_data['temperature'] > 10)]\n",
        "\n",
        "print(\"Number of items in subset:\", no_work_temp_over_10.shape[0])\n",
        "print(\"Number of items in all data:\", raw_data.shape[0])\n",
        "no_work_temp_over_10.head()"
      ]
    },
    {
      "cell_type": "markdown",
      "metadata": {
        "id": "tXZKexWVfruZ"
      },
      "source": [
        "As can be seen above, it is often useful to extract all individuals (cases) in a data set that have specific characteristics. We accomplish this through conditioning commands. Look at the two following expressions used in the previous piece of code:"
      ]
    },
    {
      "cell_type": "code",
      "execution_count": null,
      "metadata": {
        "collapsed": true,
        "id": "1VAB_5SufruZ",
        "outputId": "45c8d2bf-86f4-4eb3-ec23-6ba1bc2d7bac"
      },
      "outputs": [],
      "source": [
        "raw_data['workingday'] == 0"
      ]
    },
    {
      "cell_type": "code",
      "execution_count": null,
      "metadata": {
        "collapsed": true,
        "id": "KKgB7RylfruZ",
        "outputId": "cc9886ff-1c12-4c8a-fe3a-cc6eccf74105"
      },
      "outputs": [],
      "source": [
        "raw_data['temperature'] > 10"
      ]
    },
    {
      "cell_type": "markdown",
      "metadata": {
        "id": "50hu5wk3frua"
      },
      "source": [
        "These commands produce a series of TRUE and FALSE values. There is one value for each respondent, where TRUE indicates that it was a non-working day (via the first command) or the temperature was higher than 10 (second command).\n",
        "\n",
        "Therefore, to extract all the non-working days where the temperature was higher than 10°C, the following command was used:"
      ]
    },
    {
      "cell_type": "code",
      "execution_count": null,
      "metadata": {
        "id": "zeXrWAU0frua"
      },
      "outputs": [],
      "source": [
        "raw_data[(raw_data['workingday'] == 0) & (raw_data['temperature'] > 10)]"
      ]
    },
    {
      "cell_type": "markdown",
      "metadata": {
        "id": "Nw_FkMNnmilC"
      },
      "source": [
        "We can also look at specific cases in our data by indexing our DataFrame. For example, if we want all of the data for the first 10 respondents, we can use the `iloc` function of the dataframe."
      ]
    },
    {
      "cell_type": "code",
      "execution_count": null,
      "metadata": {
        "collapsed": true,
        "id": "_760HK2vmzyf",
        "outputId": "370a1361-05b3-43d4-8545-875545713d0f"
      },
      "outputs": [],
      "source": [
        "raw_data.iloc[0:10,:]"
      ]
    },
    {
      "cell_type": "markdown",
      "metadata": {
        "id": "2H2OVe1VnRey"
      },
      "source": [
        "Similarly, we can look at the season of each observation by typing:"
      ]
    },
    {
      "cell_type": "code",
      "execution_count": null,
      "metadata": {
        "collapsed": true,
        "id": "2vI3WHNvnQUR",
        "outputId": "0df2bb04-1b70-41f9-f08e-da7de4a323e0"
      },
      "outputs": [],
      "source": [
        "# Here we want to print one column, the season column, so we could also say raw_data.iloc[:,1], but since we\n",
        "# want it printed in a nice table, we can refer to the first column with raw_data.iloc[:,1:2].\n",
        "\n",
        "raw_data.iloc[:,1:2]"
      ]
    },
    {
      "cell_type": "markdown",
      "metadata": {
        "id": "hSnuRco-frub"
      },
      "source": [
        "Or just type the column name of the one that you want to print."
      ]
    },
    {
      "cell_type": "code",
      "execution_count": null,
      "metadata": {
        "collapsed": true,
        "id": "LqjmhHUrfruc",
        "outputId": "452be7fa-7664-4e15-b76f-2b0e57fb9576"
      },
      "outputs": [],
      "source": [
        "raw_data['season']"
      ]
    },
    {
      "cell_type": "markdown",
      "metadata": {
        "id": "YecAXsY44kG2"
      },
      "source": [
        "Now create subsets for the following requirements, give them appropriate names, and print their head:\n",
        "\n",
        "1. Season of Spring and Summer, only from Monday to Wednesday\n",
        "2. Working day from 08:00 to 20:00, or a non-working day\n",
        "3. Light rainy holidays (excluding holidays during the weekend)\n",
        "4. Monday to Friday, with holidays, that had more than 20 bikes rented\n",
        "5. The last 10 cases in the dataset <div style='text-align: right;'>**9 points**</div>"
      ]
    },
    {
      "cell_type": "code",
      "execution_count": null,
      "metadata": {
        "id": "hIA5Ste24kG4"
      },
      "outputs": [],
      "source": [
        "spring_summer_from_monday_to_wednesday = raw_data[(raw_data['season'] == 2) | (raw_data['season'] == 3) & (raw_data['weekday'] == 0) | (raw_data['weekday'] == 1) | (raw_data['weekday'] == 2)]\n",
        "spring_summer_from_monday_to_wednesday"
      ]
    },
    {
      "cell_type": "code",
      "execution_count": null,
      "metadata": {
        "id": "zwxXUmvt4kG9"
      },
      "outputs": [],
      "source": [
        "working_from_820_or_non_working = raw_data[(raw_data['hour'] > 8) & (raw_data['hour'] < 20) | (raw_data['workingday'] == 0)]\n",
        "working_from_820_or_non_working"
      ]
    },
    {
      "cell_type": "code",
      "execution_count": null,
      "metadata": {
        "id": "-Qo8cLka4kHA"
      },
      "outputs": [],
      "source": [
        "light_rain_holiday = raw_data[(raw_data['weathersit'] == 3) & (raw_data['workingday'] == 0)]\n",
        "light_rain_holiday"
      ]
    },
    {
      "cell_type": "code",
      "execution_count": null,
      "metadata": {
        "id": "yncxB_Oj4kHD"
      },
      "outputs": [],
      "source": [
        "monday_to_friday_holidays_20plus = raw_data[((raw_data['weekday'] >= 1) & (raw_data['weekday'] <= 5)) & (raw_data['count'] > 20) & (raw_data['workingday'] == 0)]\n",
        "monday_to_friday_holidays_20plus "
      ]
    },
    {
      "cell_type": "code",
      "execution_count": null,
      "metadata": {
        "id": "0Hse0pYafrud"
      },
      "outputs": [],
      "source": [
        "last_10_cases = raw_data.tail(10)\n",
        "last_10_cases"
      ]
    },
    {
      "cell_type": "markdown",
      "metadata": {
        "id": "SSEBHrDp4kGy"
      },
      "source": [
        "### Exercise 4\n",
        "If we are interested in the distribution of weather over each weekday, we can use the `groupby` command"
      ]
    },
    {
      "cell_type": "code",
      "execution_count": null,
      "metadata": {
        "collapsed": true,
        "id": "2gSDrZh54kGy",
        "outputId": "61c8f942-8b02-4477-df84-44e75d388fcb"
      },
      "outputs": [],
      "source": [
        "raw_data.groupby('weekday')['weathersit'].value_counts().unstack()"
      ]
    },
    {
      "cell_type": "markdown",
      "metadata": {
        "id": "5-vfCBPZfrue"
      },
      "source": [
        "By doing ```unstack``` we are transforming the last level of the index to the columns. All the weather situation values are now the columns of the dataframe and when a weather situation has not occurred on a weekday, the correcponding position in the table gets a ```NaN``` value. For example the table above shows that there is no Wednesday with heavy rain in the dataset."
      ]
    },
    {
      "cell_type": "markdown",
      "metadata": {
        "id": "mk0L2cz24kHG"
      },
      "source": [
        "Now create groups for the following criteria, and print their table:\n",
        "\n",
        "1. Season and working days. Interpret, in words, what the first row of the table shows.\n",
        "2. Month and temperature in 10 sections (hint, use the pandas function `pd.cut()` to create bins of continuous data)<div style='text-align: right;'>**4 points**</div>"
      ]
    },
    {
      "cell_type": "code",
      "execution_count": 70,
      "metadata": {
        "id": "R9213WbQ4kHH"
      },
      "outputs": [],
      "source": [
        "#Explanaiton\n",
        "#The table columns of weekday indecates from Sunday=(0) to Saturday=(6).\n",
        "#The weathersit 1 to 4 indecate Sunny=(1), Cloud=(2),Rain=(3),Heavy rain=(4)\n",
        "\n",
        "#This is the first row\n",
        "# 0 | 1765.0 | 568.0 | 169.0 | NaN \n",
        "\n",
        "#Therefore, the first row of the table shows Sunny day happened 1765 times, Cloudy day happened 568 times.\n",
        "# Rain day happened 169 days, Heavy rain have never happened(NaN) on every Sunday."
      ]
    },
    {
      "cell_type": "code",
      "execution_count": null,
      "metadata": {
        "id": "bwRVgT2L4kHL"
      },
      "outputs": [],
      "source": [
        "# Temperature\n",
        "# pd.cut(raw_data[\"temperature\"],bins=10)\n",
        "\n",
        "# Split the temperature into 10 groups and create a new column called \"bins\" that contains the new temperature zone\n",
        "raw_data[\"bins\"] = pd.cut(raw_data[\"temperature\"],bins=10)\n",
        "# Group the data by month and count the number of cases in each temperature zone\n",
        "result = raw_data.groupby(\"month\")[\"bins\"].value_counts().unstack()\n",
        "\n",
        "# Display the result with pandas instead of printing\n",
        "result"
      ]
    },
    {
      "cell_type": "markdown",
      "metadata": {
        "id": "xPdL8OY74kHO"
      },
      "source": [
        "### Exercise 5"
      ]
    },
    {
      "cell_type": "markdown",
      "metadata": {
        "id": "9j0BYQPE4kHP"
      },
      "source": [
        "Plotting your data (correctly) is very important. There are many possible plots you could use and some are better than others for a given dataset or data type. To create nice plots, we will be using the `Seaborn` library, which is based on Matplotlib. In the very first cell of this notebook, where we imported libraries, we already included this library with `import seaborn as sns`. Below are some examples of use."
      ]
    },
    {
      "cell_type": "code",
      "execution_count": null,
      "metadata": {
        "collapsed": true,
        "id": "9_YbF8YR4kHQ",
        "outputId": "ee34461f-4c82-4f96-f940-2e922687a841"
      },
      "outputs": [],
      "source": [
        "plt.figure(figsize=(6,5))\n",
        "sns.countplot(x=raw_data['weathersit'])\n",
        "plt.show()"
      ]
    },
    {
      "cell_type": "code",
      "execution_count": null,
      "metadata": {
        "collapsed": true,
        "id": "fZunQTDdfruo",
        "outputId": "db56eb10-68b6-44c0-8027-7709e08dca80"
      },
      "outputs": [],
      "source": [
        "plt.figure(figsize=(8,5))\n",
        "sns.displot(x=raw_data['feeling temperature'], kde=False, rug=False, bins = 20)\n",
        "# kde: Kernel Density Estimation would show a distribution line of the data\n",
        "# rug: shows the individual data points with small vertical lines on the x-axis\n",
        "# bins: number of bins to use for the histogram\n",
        "plt.show()"
      ]
    },
    {
      "cell_type": "markdown",
      "metadata": {
        "id": "1Bpy3eRpfrup"
      },
      "source": [
        "We can construct a box plot for a single variable with the following snippet:"
      ]
    },
    {
      "cell_type": "code",
      "execution_count": null,
      "metadata": {
        "collapsed": true,
        "id": "rUpWoegv4kHT",
        "outputId": "a3b66b71-2ba3-4c46-9845-86ce4dca3db4"
      },
      "outputs": [],
      "source": [
        "plt.figure(figsize=(2,8))\n",
        "sns.boxplot(y = raw_data['windspeed'])\n",
        "plt.show()"
      ]
    },
    {
      "cell_type": "markdown",
      "metadata": {
        "id": "zJdu9QObfrup"
      },
      "source": [
        "The purpose of a boxplot is to provide a thumbnail sketch of a variable for the purpose of comparing across several categories. So we can, for example, compare the temperature across the four seasons like this:"
      ]
    },
    {
      "cell_type": "code",
      "execution_count": null,
      "metadata": {
        "collapsed": true,
        "id": "_4-Rphxv4kHW",
        "outputId": "cdbdb681-5a5f-4309-f93b-dd0c39f02ac0"
      },
      "outputs": [],
      "source": [
        "plt.figure(figsize=(8,8))\n",
        "sns.boxplot(x = raw_data['season'], y = raw_data['temperature'])\n",
        "plt.show()"
      ]
    },
    {
      "cell_type": "markdown",
      "metadata": {
        "id": "5eMh2486fruq"
      },
      "source": [
        "For visualization of associations, we usually use scatter plots. For example, let's plot the scatter plot of the number of bikes rented versus temperature:"
      ]
    },
    {
      "cell_type": "code",
      "execution_count": null,
      "metadata": {
        "collapsed": true,
        "id": "Vu9BjJE9fruq",
        "outputId": "2c401f77-8b86-47bf-8366-32bd07289f2e"
      },
      "outputs": [],
      "source": [
        "plt.figure(figsize=(10,8))\n",
        "sns.scatterplot(x = raw_data['temperature'], y = raw_data['count'])\n",
        "plt.title(\"Count vs Temperature\", fontsize = \"xx-large\")"
      ]
    },
    {
      "cell_type": "markdown",
      "metadata": {
        "id": "mTURy8G-frur"
      },
      "source": [
        "Looking at the scatter plot of the number of rented bikes versus temperature, what can we say about the association between these two variables?  As the temperature increases, the number of rented bikes increases but at around 27 degrees, rentals begin to decrease again. Thus, bike rentals and temperature are associated."
      ]
    },
    {
      "cell_type": "markdown",
      "metadata": {
        "id": "kOLmX9NBfrur"
      },
      "source": [
        "Now let's look at the scatter plot of the number of rented bikes versus season:"
      ]
    },
    {
      "cell_type": "code",
      "execution_count": null,
      "metadata": {
        "collapsed": true,
        "id": "UjKlKd8wfrur",
        "outputId": "04d3d942-536d-40f4-e15a-9747df659ad7"
      },
      "outputs": [],
      "source": [
        "plt.figure(figsize=(5,8))\n",
        "sns.scatterplot(x = raw_data['season'], y = raw_data['count'])\n",
        "plt.title(\"Count vs Season\", fontsize = \"xx-large\")"
      ]
    },
    {
      "cell_type": "markdown",
      "metadata": {
        "id": "THyOy7F0frus"
      },
      "source": [
        "As can be seen in the plot, it is hard to assess association as the explanatory variable is categorical. In cases like this, a box plot makes it easier to search for association:"
      ]
    },
    {
      "cell_type": "code",
      "execution_count": null,
      "metadata": {
        "collapsed": true,
        "id": "5XtE0dDjfrus",
        "outputId": "d562cadc-fa19-4b1e-ef06-3ae3d148964e"
      },
      "outputs": [],
      "source": [
        "plt.figure(figsize=(8,8))\n",
        "sns.boxplot(x = raw_data['season'], y = raw_data['count'])\n",
        "plt.show()"
      ]
    },
    {
      "cell_type": "markdown",
      "metadata": {
        "id": "KVkTksIpfrus"
      },
      "source": [
        "In the above plot, it can be seen that the number of rented bikes is associated with the season as the median of the count changes with different seasons."
      ]
    },
    {
      "cell_type": "markdown",
      "metadata": {
        "id": "WzBzGctv4kHc"
      },
      "source": [
        "Now it is time for you to create some plots! Use the pandas documentation to see the different kinds of plots you can use, as well as more options. Answer the following questions, and motivate your answers with plots.\n",
        "\n",
        "1. What do you think is more strongly associated with the number of rented bikes, the weather situation, or the feeling temperature being lower/higher than 35? (Note: you can use two box plots, one for each variable, and compare associations)\n",
        "2. Are more bikes rented on non-working days vs working days?\n",
        "3. Is there an association between the feeling temperature and humidity?\n",
        "4. Which month has the largest total number of bike rentals? (Note: you can use \"sns.barplot(x = , y = ,...)\" to make a bar plot)\n",
        "5. Can you figure out which of the four variables: temperature, feeling temperature, humidity, and windspeed, are most strongly associated with the number of rented bikes?   <div style='text-align: right;'>**10 points**</div>\n",
        "\n"
      ]
    },
    {
      "cell_type": "code",
      "execution_count": null,
      "metadata": {
        "id": "JLbpiicD4kHc"
      },
      "outputs": [],
      "source": [
        "# 1\n",
        "# new bool column to categorize feeling temperature as > 35 or <= 35\n",
        "raw_data[\"temp_above_35\"] = raw_data[\"feeling temperature\"] > 35\n",
        "\n",
        "\n",
        "\n",
        "# weather situation vs bike count\n",
        "sns.boxplot(x=raw_data[\"weathersit\"], y=raw_data[\"count\"])\n",
        "plt.title(\"Bike Rentals by Weather Situation\")\n",
        "plt.xlabel(\"Weather Situation\")\n",
        "plt.ylabel(\"Number of Rented Bikes\")\n",
        "\n",
        "# temperature above/below 35 vs bike count\n",
        "sns.boxplot(x=raw_data[\"temp_above_35\"], y=raw_data[\"count\"])\n",
        "plt.title(\"Bike Rentals by Feeling Temp > 35\")\n",
        "plt.xlabel(\"Is the feeling temperature above 35?\")\n",
        "plt.ylabel(\"Number of Rented Bikes\")\n",
        "# somehow it combines the two plots, nice :)\n",
        "\n",
        "\n",
        "# Both the weather situation and the feeling temperature are associated with the number of rented bikes.\n",
        "# However the feeling temperature shows a stronger association as the median of rented bikes is almost double when the ft is above 35 compared to when it is below 35.\n",
        "# The weather situation also shows a trend of lower rentals as the weather worsens wbut it is not as dramatic. \n",
        "\n",
        "# This can be confirmed by checking which correlation value is higher:\n",
        "corr_value_weather = raw_data['count'].corr(raw_data['weathersit'])\n",
        "corr_value_temp = raw_data['count'].corr(raw_data['temp_above_35'])\n",
        "\n",
        "# to get the length of the text:\n",
        "# print(len(\"Corr Feeling Temp\")) = 17\n",
        "# print(len(\"Corr Weather Situation\")) = 22\n",
        "\n",
        "\n",
        "text = \"Corr Feeling Temp > Corr Weather Situation\\n\"\n",
        "numbers = f\"|{corr_value_temp:.4f}|\".ljust(17) + \" > \" + f\"|{corr_value_weather:.4f}|\".rjust(22)\n",
        "print(text + numbers)"
      ]
    },
    {
      "cell_type": "code",
      "execution_count": null,
      "metadata": {
        "id": "LVgEMK-Tfrut"
      },
      "outputs": [],
      "source": [
        "# 2\n",
        "# your code/answer here\n",
        "sns.boxplot(x = raw_data[\"workingday\"],y = raw_data[\"count\"])\n",
        "plt.xlabel(\"0 = non-working day | 1 = working day\")\n",
        "plt.show()\n",
        "\n",
        "#From below graph, I can see working day is slightly higher than working day\n",
        "#The answer si more bikes are rented on working day.\n",
        "#However, there is wide point cloud variation and it suggests a lot of irregular values."
      ]
    },
    {
      "cell_type": "code",
      "execution_count": null,
      "metadata": {
        "id": "olj_bx3d4kHf"
      },
      "outputs": [],
      "source": [
        "# 3\n",
        "\n",
        "plt.figure(figsize=(50,15))\n",
        "sns.boxplot(x=raw_data[\"feeling temperature\"],y = raw_data[\"humidity\"])\n",
        "\n",
        "plt.xlabel(\"feeling temperature\")\n",
        "plt.ylabel(\"humidity\")\n",
        "\n",
        "#Association between the feeling temperature and humidity\n",
        "#The range between 10℃ to 27℃, median of humidity tends to be high.\n",
        "#But after 28℃, humidity goes down gradually.\n",
        "#Therefore, association is not linear, but slack non-linear."
      ]
    },
    {
      "cell_type": "code",
      "execution_count": null,
      "metadata": {
        "id": "jUMgUGXi4kHk"
      },
      "outputs": [],
      "source": [
        "# 4\n",
        "# Month with the highest number of bike rentals\n",
        "\n",
        "# month_total = raw_data grouped by month and the sum of the count with the index reset, meaning the month is a normal column again\n",
        "month_total = raw_data.groupby(\"month\")[\"count\"].sum().reset_index()\n",
        "\n",
        "# sns barplot with the months on the x axis and the count on the y axis, the data is the month_total\n",
        "sns.barplot(x=raw_data[\"month\"], y=raw_data[\"count\"], data=month_total)\n",
        "plt.title(\"Bike Rentals by Month\")\n",
        "plt.xlabel(\"Month\")\n",
        "plt.ylabel(\"Number of Rented Bikes\")"
      ]
    },
    {
      "cell_type": "code",
      "execution_count": null,
      "metadata": {
        "id": "ByAGcSye4kHo"
      },
      "outputs": [],
      "source": [
        "# Variables i'm checking\n",
        "values = [\"temperature\", \"feeling temperature\", \"humidity\", \"windspeed\"]\n",
        "\n",
        "abs_corr_values = []\n",
        "\n",
        "for value in values:\n",
        "    # for each item in values, calculate the correlation\n",
        "    corr_value = raw_data['count'].corr(raw_data[value])\n",
        "    # save the absolute value to the list\n",
        "    abs_corr_values.append(abs(corr_value))\n",
        "\n",
        "# print the values \n",
        "for i, value in enumerate(values):\n",
        "    print(f\"{value}: {abs_corr_values[i]:.3f}\")\n",
        "\n",
        "# print the result\n",
        "print(f\"\\nThe max corr value has {values[abs_corr_values.index(max(abs_corr_values))]} with a value of {max(abs_corr_values):.3f}\")"
      ]
    }
  ],
  "metadata": {
    "colab": {
      "provenance": []
    },
    "kernelspec": {
      "display_name": "spyder",
      "language": "python",
      "name": "python3"
    },
    "language_info": {
      "codemirror_mode": {
        "name": "ipython",
        "version": 3
      },
      "file_extension": ".py",
      "mimetype": "text/x-python",
      "name": "python",
      "nbconvert_exporter": "python",
      "pygments_lexer": "ipython3",
      "version": "3.12.7"
    }
  },
  "nbformat": 4,
  "nbformat_minor": 0
}
