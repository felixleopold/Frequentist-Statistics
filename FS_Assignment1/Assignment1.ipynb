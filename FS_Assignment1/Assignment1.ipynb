{
  "cells": [
    {
      "cell_type": "markdown",
      "metadata": {
        "id": "JNVMYQZqfruK"
      },
      "source": [
        "# Assignment 1"
      ]
    },
    {
      "cell_type": "markdown",
      "metadata": {
        "id": "5zmGUGZf4kGG"
      },
      "source": [
        "## Introduction to Data"
      ]
    },
    {
      "cell_type": "markdown",
      "metadata": {
        "id": "Nqe_1vgV4kGK"
      },
      "source": [
        "### Dataset"
      ]
    },
    {
      "cell_type": "markdown",
      "metadata": {
        "id": "sfOVSOK34kGL"
      },
      "source": [
        "The aim of this assignment is to learn how to apply the theoretical knowledge you gained in the book and video clips to real datasets. Today, you will learn how to load data, how datasets are organized, how you can summarize data, and how you can plot data. To do this, we will use the dataset `BikeRental.csv`, modified from the original source (kaggle).\n",
        "\n",
        "Bikes can be rented and returned at specific points in the city, and the number of bikes that are rented on a day depends on a number of factors. Some potential factors are given in this dataset, which we will visualize in some plots. First we need to import some libraries."
      ]
    },
    {
      "cell_type": "code",
      "execution_count": null,
      "metadata": {
        "id": "uzjVn3Lw4kGM"
      },
      "outputs": [],
      "source": [
        "import pandas as pd\n",
        "import numpy as np\n",
        "import matplotlib.pyplot as plt\n",
        "import seaborn as sns\n",
        "\n",
        "sns.set_style(\"whitegrid\")"
      ]
    },
    {
      "cell_type": "code",
      "execution_count": null,
      "metadata": {
        "id": "TVlG8z5yfruQ",
        "colab": {
          "base_uri": "https://localhost:8080/",
          "height": 76
        },
        "outputId": "2e7f2492-5fb3-4c5b-b399-e23b415729ed"
      },
      "outputs": [
        {
          "output_type": "display_data",
          "data": {
            "text/plain": [
              "<IPython.core.display.HTML object>"
            ],
            "text/html": [
              "\n",
              "     <input type=\"file\" id=\"files-400ddc80-3f52-4eb4-a903-26c2f144b700\" name=\"files[]\" multiple disabled\n",
              "        style=\"border:none\" />\n",
              "     <output id=\"result-400ddc80-3f52-4eb4-a903-26c2f144b700\">\n",
              "      Upload widget is only available when the cell has been executed in the\n",
              "      current browser session. Please rerun this cell to enable.\n",
              "      </output>\n",
              "      <script>// Copyright 2017 Google LLC\n",
              "//\n",
              "// Licensed under the Apache License, Version 2.0 (the \"License\");\n",
              "// you may not use this file except in compliance with the License.\n",
              "// You may obtain a copy of the License at\n",
              "//\n",
              "//      http://www.apache.org/licenses/LICENSE-2.0\n",
              "//\n",
              "// Unless required by applicable law or agreed to in writing, software\n",
              "// distributed under the License is distributed on an \"AS IS\" BASIS,\n",
              "// WITHOUT WARRANTIES OR CONDITIONS OF ANY KIND, either express or implied.\n",
              "// See the License for the specific language governing permissions and\n",
              "// limitations under the License.\n",
              "\n",
              "/**\n",
              " * @fileoverview Helpers for google.colab Python module.\n",
              " */\n",
              "(function(scope) {\n",
              "function span(text, styleAttributes = {}) {\n",
              "  const element = document.createElement('span');\n",
              "  element.textContent = text;\n",
              "  for (const key of Object.keys(styleAttributes)) {\n",
              "    element.style[key] = styleAttributes[key];\n",
              "  }\n",
              "  return element;\n",
              "}\n",
              "\n",
              "// Max number of bytes which will be uploaded at a time.\n",
              "const MAX_PAYLOAD_SIZE = 100 * 1024;\n",
              "\n",
              "function _uploadFiles(inputId, outputId) {\n",
              "  const steps = uploadFilesStep(inputId, outputId);\n",
              "  const outputElement = document.getElementById(outputId);\n",
              "  // Cache steps on the outputElement to make it available for the next call\n",
              "  // to uploadFilesContinue from Python.\n",
              "  outputElement.steps = steps;\n",
              "\n",
              "  return _uploadFilesContinue(outputId);\n",
              "}\n",
              "\n",
              "// This is roughly an async generator (not supported in the browser yet),\n",
              "// where there are multiple asynchronous steps and the Python side is going\n",
              "// to poll for completion of each step.\n",
              "// This uses a Promise to block the python side on completion of each step,\n",
              "// then passes the result of the previous step as the input to the next step.\n",
              "function _uploadFilesContinue(outputId) {\n",
              "  const outputElement = document.getElementById(outputId);\n",
              "  const steps = outputElement.steps;\n",
              "\n",
              "  const next = steps.next(outputElement.lastPromiseValue);\n",
              "  return Promise.resolve(next.value.promise).then((value) => {\n",
              "    // Cache the last promise value to make it available to the next\n",
              "    // step of the generator.\n",
              "    outputElement.lastPromiseValue = value;\n",
              "    return next.value.response;\n",
              "  });\n",
              "}\n",
              "\n",
              "/**\n",
              " * Generator function which is called between each async step of the upload\n",
              " * process.\n",
              " * @param {string} inputId Element ID of the input file picker element.\n",
              " * @param {string} outputId Element ID of the output display.\n",
              " * @return {!Iterable<!Object>} Iterable of next steps.\n",
              " */\n",
              "function* uploadFilesStep(inputId, outputId) {\n",
              "  const inputElement = document.getElementById(inputId);\n",
              "  inputElement.disabled = false;\n",
              "\n",
              "  const outputElement = document.getElementById(outputId);\n",
              "  outputElement.innerHTML = '';\n",
              "\n",
              "  const pickedPromise = new Promise((resolve) => {\n",
              "    inputElement.addEventListener('change', (e) => {\n",
              "      resolve(e.target.files);\n",
              "    });\n",
              "  });\n",
              "\n",
              "  const cancel = document.createElement('button');\n",
              "  inputElement.parentElement.appendChild(cancel);\n",
              "  cancel.textContent = 'Cancel upload';\n",
              "  const cancelPromise = new Promise((resolve) => {\n",
              "    cancel.onclick = () => {\n",
              "      resolve(null);\n",
              "    };\n",
              "  });\n",
              "\n",
              "  // Wait for the user to pick the files.\n",
              "  const files = yield {\n",
              "    promise: Promise.race([pickedPromise, cancelPromise]),\n",
              "    response: {\n",
              "      action: 'starting',\n",
              "    }\n",
              "  };\n",
              "\n",
              "  cancel.remove();\n",
              "\n",
              "  // Disable the input element since further picks are not allowed.\n",
              "  inputElement.disabled = true;\n",
              "\n",
              "  if (!files) {\n",
              "    return {\n",
              "      response: {\n",
              "        action: 'complete',\n",
              "      }\n",
              "    };\n",
              "  }\n",
              "\n",
              "  for (const file of files) {\n",
              "    const li = document.createElement('li');\n",
              "    li.append(span(file.name, {fontWeight: 'bold'}));\n",
              "    li.append(span(\n",
              "        `(${file.type || 'n/a'}) - ${file.size} bytes, ` +\n",
              "        `last modified: ${\n",
              "            file.lastModifiedDate ? file.lastModifiedDate.toLocaleDateString() :\n",
              "                                    'n/a'} - `));\n",
              "    const percent = span('0% done');\n",
              "    li.appendChild(percent);\n",
              "\n",
              "    outputElement.appendChild(li);\n",
              "\n",
              "    const fileDataPromise = new Promise((resolve) => {\n",
              "      const reader = new FileReader();\n",
              "      reader.onload = (e) => {\n",
              "        resolve(e.target.result);\n",
              "      };\n",
              "      reader.readAsArrayBuffer(file);\n",
              "    });\n",
              "    // Wait for the data to be ready.\n",
              "    let fileData = yield {\n",
              "      promise: fileDataPromise,\n",
              "      response: {\n",
              "        action: 'continue',\n",
              "      }\n",
              "    };\n",
              "\n",
              "    // Use a chunked sending to avoid message size limits. See b/62115660.\n",
              "    let position = 0;\n",
              "    do {\n",
              "      const length = Math.min(fileData.byteLength - position, MAX_PAYLOAD_SIZE);\n",
              "      const chunk = new Uint8Array(fileData, position, length);\n",
              "      position += length;\n",
              "\n",
              "      const base64 = btoa(String.fromCharCode.apply(null, chunk));\n",
              "      yield {\n",
              "        response: {\n",
              "          action: 'append',\n",
              "          file: file.name,\n",
              "          data: base64,\n",
              "        },\n",
              "      };\n",
              "\n",
              "      let percentDone = fileData.byteLength === 0 ?\n",
              "          100 :\n",
              "          Math.round((position / fileData.byteLength) * 100);\n",
              "      percent.textContent = `${percentDone}% done`;\n",
              "\n",
              "    } while (position < fileData.byteLength);\n",
              "  }\n",
              "\n",
              "  // All done.\n",
              "  yield {\n",
              "    response: {\n",
              "      action: 'complete',\n",
              "    }\n",
              "  };\n",
              "}\n",
              "\n",
              "scope.google = scope.google || {};\n",
              "scope.google.colab = scope.google.colab || {};\n",
              "scope.google.colab._files = {\n",
              "  _uploadFiles,\n",
              "  _uploadFilesContinue,\n",
              "};\n",
              "})(self);\n",
              "</script> "
            ]
          },
          "metadata": {}
        },
        {
          "output_type": "stream",
          "name": "stdout",
          "text": [
            "Saving BikeRental.csv to BikeRental (4).csv\n"
          ]
        }
      ],
      "source": [
        "# For google colab\n",
        "from google.colab import files\n",
        "uploaded = files.upload()"
      ]
    },
    {
      "cell_type": "markdown",
      "metadata": {
        "id": "Kx-_Uj5J4kGQ"
      },
      "source": [
        "For importing data we will use the ```pandas``` library, which has a lot of tools that are useful for data analysis. When reading in data, pandas will create a **DataFrame**. A pandas DataFrame is similar to a Python dictionairy, in the sense that each column name is a key, and the data below it are the values. The columns in the DataFrame represent the different variables and the rows represent the different cases (observations). We can see all the variables in the DataFrame by printing all the `key` values, or printing the `head/tail` of the file. One key with all its values is called a Series, this is one column in the DataFrame."
      ]
    },
    {
      "cell_type": "markdown",
      "metadata": {
        "id": "WKukIKwTfruR"
      },
      "source": [
        "### Exercise 1\n",
        "\n",
        "1. Read the data in ```BikeRental.csv``` into a variable ```raw_data``` and print out the keys. How many keys are there?\n",
        "2. Print out the head and tail of the data.\n",
        "3. For each of the following variables, write down what kind of data it is (categorical, ordinal, discrete, continuous):\n",
        "season, month, weekday, working day, weather situation, temperature, windspeed, count <div style='text-align: right;'>**6 points**</div>"
      ]
    },
    {
      "cell_type": "code",
      "execution_count": 29,
      "metadata": {
        "colab": {
          "base_uri": "https://localhost:8080/"
        },
        "id": "_IR5ybxu4kGR",
        "outputId": "9b3a25bd-7ca9-439d-a29a-512ba7e5e51d"
      },
      "outputs": [
        {
          "output_type": "stream",
          "name": "stdout",
          "text": [
            "\u001b[38;2;204;36;29mSolution no1\u001b[\n",
            "There are 13 keys:\n",
            "================================================================================\n",
            "date\n",
            "season\n",
            "year\n",
            "month\n",
            "weekday\n",
            "hour\n",
            "workingday\n",
            "weathersit\n",
            "temperature\n",
            "feeling temperature\n",
            "humidity\n",
            "windspeed\n",
            "count\n"
          ]
        }
      ],
      "source": [
        "print(\"\\033[38;2;204;36;29m\" + \"Solution no1\" + \"\\033[\")\n",
        "raw_data = pd.read_csv('BikeRental.csv')\n",
        "print(\"There are\", len(raw_data.keys()), \"keys:\")\n",
        "print(\"=\"*80)\n",
        "for key in raw_data.keys():\n",
        "  print(key)\n",
        "\n",
        "# print(\"\\n\" + \"\\033[38;2;204;36;29m\" + \"Solution no2\" + \"\\033[\")\n",
        "# print(\"There are \",len(raw_data.columns), \"keys\")\n",
        "# print(\"=\"*80)"
      ]
    },
    {
      "cell_type": "code",
      "execution_count": 16,
      "metadata": {
        "id": "5pD-q8sC4kGV",
        "colab": {
          "base_uri": "https://localhost:8080/"
        },
        "outputId": "31267a0d-9b65-41bc-a742-95428fcddc83"
      },
      "outputs": [
        {
          "output_type": "stream",
          "name": "stdout",
          "text": [
            "Head:\n",
            "==================================================\n",
            "       date  season  year  month  weekday  hour  workingday  weathersit  \\\n",
            "0  01-01-11       1     0      1        6     0           0           1   \n",
            "1  01-01-11       1     0      1        6     1           0           1   \n",
            "2  01-01-11       1     0      1        6     2           0           1   \n",
            "3  01-01-11       1     0      1        6     3           0           1   \n",
            "4  01-01-11       1     0      1        6     4           0           1   \n",
            "\n",
            "   temperature  feeling temperature  humidity  windspeed  count  \n",
            "0         9.84               14.395        81        0.0     16  \n",
            "1         9.02               13.635        80        0.0     40  \n",
            "2         9.02               13.635        80        0.0     32  \n",
            "3         9.84               14.395        75        0.0     13  \n",
            "4         9.84               14.395        75        0.0      1   \n",
            "\n",
            "Tail:\n",
            "==================================================\n",
            "           date  season  year  month  weekday  hour  workingday  weathersit  \\\n",
            "17374  31-12-12       1     1     12        1    19           1           2   \n",
            "17375  31-12-12       1     1     12        1    20           1           2   \n",
            "17376  31-12-12       1     1     12        1    21           1           1   \n",
            "17377  31-12-12       1     1     12        1    22           1           1   \n",
            "17378  31-12-12       1     1     12        1    23           1           1   \n",
            "\n",
            "       temperature  feeling temperature  humidity  windspeed  count  \n",
            "17374        10.66               12.880        60    11.0014    119  \n",
            "17375        10.66               12.880        60    11.0014     89  \n",
            "17376        10.66               12.880        60    11.0014     90  \n",
            "17377        10.66               13.635        56     8.9981     61  \n",
            "17378        10.66               13.635        65     8.9981     49  \n"
          ]
        }
      ],
      "source": [
        "print(\"Head:\")\n",
        "print(\"=\"*80)\n",
        "print(raw_data.head(), \"\\n\")\n",
        "\n",
        "print(\"Tail:\")\n",
        "print(\"=\"*80)\n",
        "print(raw_data.tail())"
      ]
    },
    {
      "cell_type": "code",
      "execution_count": null,
      "metadata": {
        "id": "uknOMMNW4kGc"
      },
      "outputs": [],
      "source": [
        "print()"
      ]
    },
    {
      "cell_type": "markdown",
      "metadata": {
        "id": "oVooRkdu4kGi"
      },
      "source": [
        "### Exercise 2\n",
        "A good first step in any analysis is to distill the information in all the cases to a few summary statistics and graphics. As a simple example, the function ```describe``` returns a numerical summary: count, mean, standard deviation, minimum, first quartile, median, second quartile, and maximum. Python also has built-in functions to compute summary statistics one by one, such as the functions ```mean``` or ```max```.\n",
        "\n",
        "1. Use the ```describe``` function to summarize the data for temperature. What is the mean and standard deviation?\n",
        "2. Use the ```mean``` function to confirm the value in 1. above.\n",
        "3. Calculate the IQR of the feeling temperature and of windspeed (and print both of them).\n",
        "4. For categorical data, it makes more sense to look at the sample frequency or relative frequency distribution. The function ```value_counts``` does this for you by counting the number of times each kind of response was given. Extract the number of cases that were recorded in the different seasons. <div style='text-align: right;'>**6 points**</div>"
      ]
    },
    {
      "cell_type": "code",
      "execution_count": null,
      "metadata": {
        "id": "7bdhupbM4kGj"
      },
      "outputs": [],
      "source": [
        "# your code/answer here"
      ]
    },
    {
      "cell_type": "code",
      "execution_count": null,
      "metadata": {
        "id": "rc2bnJ5qjQzX"
      },
      "outputs": [],
      "source": [
        "# your code/answer here"
      ]
    },
    {
      "cell_type": "code",
      "execution_count": null,
      "metadata": {
        "id": "fnfxGeOQ4kGq"
      },
      "outputs": [],
      "source": [
        "# your code/answer here"
      ]
    },
    {
      "cell_type": "code",
      "execution_count": null,
      "metadata": {
        "id": "sMinKwaekZFq"
      },
      "outputs": [],
      "source": [
        "# your code/answer here"
      ]
    },
    {
      "cell_type": "markdown",
      "metadata": {
        "id": "zuiRGW4a4kGu"
      },
      "source": [
        "### Exercise 3\n"
      ]
    },
    {
      "cell_type": "markdown",
      "metadata": {
        "id": "UFqgJeym4kGu"
      },
      "source": [
        "To answer specific questions about the data, it is important that we can zoom in on different parts of the data. For example, we want to look at all the non-working days where the temperature was higher than 10°C. We can do that as follows:"
      ]
    },
    {
      "cell_type": "code",
      "execution_count": null,
      "metadata": {
        "collapsed": true,
        "id": "4w5sb9Ns4kGv",
        "outputId": "496de2f2-5cbc-41ca-ff6e-a0940f4b4e83"
      },
      "outputs": [
        {
          "ename": "NameError",
          "evalue": "name 'raw_data' is not defined",
          "output_type": "error",
          "traceback": [
            "\u001b[1;31m---------------------------------------------------------------------------\u001b[0m",
            "\u001b[1;31mNameError\u001b[0m                                 Traceback (most recent call last)",
            "\u001b[1;32m~\\AppData\\Local\\Temp/ipykernel_14840/3709864888.py\u001b[0m in \u001b[0;36m<module>\u001b[1;34m\u001b[0m\n\u001b[0;32m      1\u001b[0m \u001b[1;31m# with multiple conditions the brackets around each condition are necessary!\u001b[0m\u001b[1;33m\u001b[0m\u001b[1;33m\u001b[0m\u001b[0m\n\u001b[1;32m----> 2\u001b[1;33m \u001b[0mno_work_temp_over_10\u001b[0m \u001b[1;33m=\u001b[0m \u001b[0mraw_data\u001b[0m\u001b[1;33m[\u001b[0m\u001b[1;33m(\u001b[0m\u001b[0mraw_data\u001b[0m\u001b[1;33m[\u001b[0m\u001b[1;34m'workingday'\u001b[0m\u001b[1;33m]\u001b[0m \u001b[1;33m==\u001b[0m \u001b[1;36m0\u001b[0m\u001b[1;33m)\u001b[0m \u001b[1;33m&\u001b[0m \u001b[1;33m(\u001b[0m\u001b[0mraw_data\u001b[0m\u001b[1;33m[\u001b[0m\u001b[1;34m'temperature'\u001b[0m\u001b[1;33m]\u001b[0m \u001b[1;33m>\u001b[0m \u001b[1;36m10\u001b[0m\u001b[1;33m)\u001b[0m\u001b[1;33m]\u001b[0m\u001b[1;33m\u001b[0m\u001b[1;33m\u001b[0m\u001b[0m\n\u001b[0m\u001b[0;32m      3\u001b[0m \u001b[1;33m\u001b[0m\u001b[0m\n\u001b[0;32m      4\u001b[0m \u001b[0mprint\u001b[0m\u001b[1;33m(\u001b[0m\u001b[1;34m\"Number of items in subset:\"\u001b[0m\u001b[1;33m,\u001b[0m \u001b[0mno_work_temp_over_10\u001b[0m\u001b[1;33m.\u001b[0m\u001b[0mshape\u001b[0m\u001b[1;33m[\u001b[0m\u001b[1;36m0\u001b[0m\u001b[1;33m]\u001b[0m\u001b[1;33m)\u001b[0m\u001b[1;33m\u001b[0m\u001b[1;33m\u001b[0m\u001b[0m\n\u001b[0;32m      5\u001b[0m \u001b[0mprint\u001b[0m\u001b[1;33m(\u001b[0m\u001b[1;34m\"Number of items in all data:\"\u001b[0m\u001b[1;33m,\u001b[0m \u001b[0mraw_data\u001b[0m\u001b[1;33m.\u001b[0m\u001b[0mshape\u001b[0m\u001b[1;33m[\u001b[0m\u001b[1;36m0\u001b[0m\u001b[1;33m]\u001b[0m\u001b[1;33m)\u001b[0m\u001b[1;33m\u001b[0m\u001b[1;33m\u001b[0m\u001b[0m\n",
            "\u001b[1;31mNameError\u001b[0m: name 'raw_data' is not defined"
          ]
        }
      ],
      "source": [
        "# with multiple conditions the brackets around each condition are necessary!\n",
        "no_work_temp_over_10 = raw_data[(raw_data['workingday'] == 0) & (raw_data['temperature'] > 10)]\n",
        "\n",
        "print(\"Number of items in subset:\", no_work_temp_over_10.shape[0])\n",
        "print(\"Number of items in all data:\", raw_data.shape[0])\n",
        "no_work_temp_over_10.head()"
      ]
    },
    {
      "cell_type": "markdown",
      "metadata": {
        "id": "tXZKexWVfruZ"
      },
      "source": [
        "As can be seen above, it is often useful to extract all individuals (cases) in a data set that have specific characteristics. We accomplish this through conditioning commands. Look at the two following expressions used in the previous piece of code:"
      ]
    },
    {
      "cell_type": "code",
      "execution_count": null,
      "metadata": {
        "collapsed": true,
        "id": "1VAB_5SufruZ",
        "outputId": "45c8d2bf-86f4-4eb3-ec23-6ba1bc2d7bac"
      },
      "outputs": [
        {
          "data": {
            "text/plain": [
              "0         True\n",
              "1         True\n",
              "2         True\n",
              "3         True\n",
              "4         True\n",
              "         ...  \n",
              "17374    False\n",
              "17375    False\n",
              "17376    False\n",
              "17377    False\n",
              "17378    False\n",
              "Name: workingday, Length: 17379, dtype: bool"
            ]
          },
          "execution_count": 11,
          "metadata": {},
          "output_type": "execute_result"
        }
      ],
      "source": [
        "raw_data['workingday'] == 0"
      ]
    },
    {
      "cell_type": "code",
      "execution_count": null,
      "metadata": {
        "collapsed": true,
        "id": "KKgB7RylfruZ",
        "outputId": "cc9886ff-1c12-4c8a-fe3a-cc6eccf74105"
      },
      "outputs": [
        {
          "data": {
            "text/plain": [
              "0        False\n",
              "1        False\n",
              "2        False\n",
              "3        False\n",
              "4        False\n",
              "         ...  \n",
              "17374     True\n",
              "17375     True\n",
              "17376     True\n",
              "17377     True\n",
              "17378     True\n",
              "Name: temperature, Length: 17379, dtype: bool"
            ]
          },
          "execution_count": 12,
          "metadata": {},
          "output_type": "execute_result"
        }
      ],
      "source": [
        "raw_data['temperature'] > 10"
      ]
    },
    {
      "cell_type": "markdown",
      "metadata": {
        "id": "50hu5wk3frua"
      },
      "source": [
        "These commands produce a series of TRUE and FALSE values. There is one value for each respondent, where TRUE indicates that it was a non-working day (via the first command) or the temperature was higher than 10 (second command).\n",
        "\n",
        "Therefore, to extract all the non-working days where the temperature was higher than 10°C, the following command was used:"
      ]
    },
    {
      "cell_type": "code",
      "execution_count": null,
      "metadata": {
        "id": "zeXrWAU0frua"
      },
      "outputs": [],
      "source": [
        "raw_data[(raw_data['workingday'] == 0) & (raw_data['temperature'] > 10)]"
      ]
    },
    {
      "cell_type": "markdown",
      "metadata": {
        "id": "Nw_FkMNnmilC"
      },
      "source": [
        "We can also look at specific cases in our data by indexing our DataFrame. For example, if we want all of the data for the first 10 respondents, we can use the `iloc` function of the dataframe."
      ]
    },
    {
      "cell_type": "code",
      "execution_count": null,
      "metadata": {
        "collapsed": true,
        "id": "_760HK2vmzyf",
        "outputId": "370a1361-05b3-43d4-8545-875545713d0f"
      },
      "outputs": [
        {
          "data": {
            "text/html": [
              "<div>\n",
              "<style scoped>\n",
              "    .dataframe tbody tr th:only-of-type {\n",
              "        vertical-align: middle;\n",
              "    }\n",
              "\n",
              "    .dataframe tbody tr th {\n",
              "        vertical-align: top;\n",
              "    }\n",
              "\n",
              "    .dataframe thead th {\n",
              "        text-align: right;\n",
              "    }\n",
              "</style>\n",
              "<table border=\"1\" class=\"dataframe\">\n",
              "  <thead>\n",
              "    <tr style=\"text-align: right;\">\n",
              "      <th></th>\n",
              "      <th>date</th>\n",
              "      <th>season</th>\n",
              "      <th>year</th>\n",
              "      <th>month</th>\n",
              "      <th>weekday</th>\n",
              "      <th>hour</th>\n",
              "      <th>workingday</th>\n",
              "      <th>weathersit</th>\n",
              "      <th>temperature</th>\n",
              "      <th>feeling temperature</th>\n",
              "      <th>humidity</th>\n",
              "      <th>windspeed</th>\n",
              "      <th>count</th>\n",
              "    </tr>\n",
              "  </thead>\n",
              "  <tbody>\n",
              "    <tr>\n",
              "      <th>0</th>\n",
              "      <td>01-01-11</td>\n",
              "      <td>1</td>\n",
              "      <td>0</td>\n",
              "      <td>1</td>\n",
              "      <td>6</td>\n",
              "      <td>0</td>\n",
              "      <td>0</td>\n",
              "      <td>1</td>\n",
              "      <td>9.84</td>\n",
              "      <td>14.395</td>\n",
              "      <td>81</td>\n",
              "      <td>0.0000</td>\n",
              "      <td>16</td>\n",
              "    </tr>\n",
              "    <tr>\n",
              "      <th>1</th>\n",
              "      <td>01-01-11</td>\n",
              "      <td>1</td>\n",
              "      <td>0</td>\n",
              "      <td>1</td>\n",
              "      <td>6</td>\n",
              "      <td>1</td>\n",
              "      <td>0</td>\n",
              "      <td>1</td>\n",
              "      <td>9.02</td>\n",
              "      <td>13.635</td>\n",
              "      <td>80</td>\n",
              "      <td>0.0000</td>\n",
              "      <td>40</td>\n",
              "    </tr>\n",
              "    <tr>\n",
              "      <th>2</th>\n",
              "      <td>01-01-11</td>\n",
              "      <td>1</td>\n",
              "      <td>0</td>\n",
              "      <td>1</td>\n",
              "      <td>6</td>\n",
              "      <td>2</td>\n",
              "      <td>0</td>\n",
              "      <td>1</td>\n",
              "      <td>9.02</td>\n",
              "      <td>13.635</td>\n",
              "      <td>80</td>\n",
              "      <td>0.0000</td>\n",
              "      <td>32</td>\n",
              "    </tr>\n",
              "    <tr>\n",
              "      <th>3</th>\n",
              "      <td>01-01-11</td>\n",
              "      <td>1</td>\n",
              "      <td>0</td>\n",
              "      <td>1</td>\n",
              "      <td>6</td>\n",
              "      <td>3</td>\n",
              "      <td>0</td>\n",
              "      <td>1</td>\n",
              "      <td>9.84</td>\n",
              "      <td>14.395</td>\n",
              "      <td>75</td>\n",
              "      <td>0.0000</td>\n",
              "      <td>13</td>\n",
              "    </tr>\n",
              "    <tr>\n",
              "      <th>4</th>\n",
              "      <td>01-01-11</td>\n",
              "      <td>1</td>\n",
              "      <td>0</td>\n",
              "      <td>1</td>\n",
              "      <td>6</td>\n",
              "      <td>4</td>\n",
              "      <td>0</td>\n",
              "      <td>1</td>\n",
              "      <td>9.84</td>\n",
              "      <td>14.395</td>\n",
              "      <td>75</td>\n",
              "      <td>0.0000</td>\n",
              "      <td>1</td>\n",
              "    </tr>\n",
              "    <tr>\n",
              "      <th>5</th>\n",
              "      <td>01-01-11</td>\n",
              "      <td>1</td>\n",
              "      <td>0</td>\n",
              "      <td>1</td>\n",
              "      <td>6</td>\n",
              "      <td>5</td>\n",
              "      <td>0</td>\n",
              "      <td>2</td>\n",
              "      <td>9.84</td>\n",
              "      <td>12.880</td>\n",
              "      <td>75</td>\n",
              "      <td>6.0032</td>\n",
              "      <td>1</td>\n",
              "    </tr>\n",
              "    <tr>\n",
              "      <th>6</th>\n",
              "      <td>01-01-11</td>\n",
              "      <td>1</td>\n",
              "      <td>0</td>\n",
              "      <td>1</td>\n",
              "      <td>6</td>\n",
              "      <td>6</td>\n",
              "      <td>0</td>\n",
              "      <td>1</td>\n",
              "      <td>9.02</td>\n",
              "      <td>13.635</td>\n",
              "      <td>80</td>\n",
              "      <td>0.0000</td>\n",
              "      <td>2</td>\n",
              "    </tr>\n",
              "    <tr>\n",
              "      <th>7</th>\n",
              "      <td>01-01-11</td>\n",
              "      <td>1</td>\n",
              "      <td>0</td>\n",
              "      <td>1</td>\n",
              "      <td>6</td>\n",
              "      <td>7</td>\n",
              "      <td>0</td>\n",
              "      <td>1</td>\n",
              "      <td>8.20</td>\n",
              "      <td>12.880</td>\n",
              "      <td>86</td>\n",
              "      <td>0.0000</td>\n",
              "      <td>3</td>\n",
              "    </tr>\n",
              "    <tr>\n",
              "      <th>8</th>\n",
              "      <td>01-01-11</td>\n",
              "      <td>1</td>\n",
              "      <td>0</td>\n",
              "      <td>1</td>\n",
              "      <td>6</td>\n",
              "      <td>8</td>\n",
              "      <td>0</td>\n",
              "      <td>1</td>\n",
              "      <td>9.84</td>\n",
              "      <td>14.395</td>\n",
              "      <td>75</td>\n",
              "      <td>0.0000</td>\n",
              "      <td>8</td>\n",
              "    </tr>\n",
              "    <tr>\n",
              "      <th>9</th>\n",
              "      <td>01-01-11</td>\n",
              "      <td>1</td>\n",
              "      <td>0</td>\n",
              "      <td>1</td>\n",
              "      <td>6</td>\n",
              "      <td>9</td>\n",
              "      <td>0</td>\n",
              "      <td>1</td>\n",
              "      <td>13.12</td>\n",
              "      <td>17.425</td>\n",
              "      <td>76</td>\n",
              "      <td>0.0000</td>\n",
              "      <td>14</td>\n",
              "    </tr>\n",
              "  </tbody>\n",
              "</table>\n",
              "</div>"
            ],
            "text/plain": [
              "       date  season  year  month  weekday  hour  workingday  weathersit  \\\n",
              "0  01-01-11       1     0      1        6     0           0           1   \n",
              "1  01-01-11       1     0      1        6     1           0           1   \n",
              "2  01-01-11       1     0      1        6     2           0           1   \n",
              "3  01-01-11       1     0      1        6     3           0           1   \n",
              "4  01-01-11       1     0      1        6     4           0           1   \n",
              "5  01-01-11       1     0      1        6     5           0           2   \n",
              "6  01-01-11       1     0      1        6     6           0           1   \n",
              "7  01-01-11       1     0      1        6     7           0           1   \n",
              "8  01-01-11       1     0      1        6     8           0           1   \n",
              "9  01-01-11       1     0      1        6     9           0           1   \n",
              "\n",
              "   temperature  feeling temperature  humidity  windspeed  count  \n",
              "0         9.84               14.395        81     0.0000     16  \n",
              "1         9.02               13.635        80     0.0000     40  \n",
              "2         9.02               13.635        80     0.0000     32  \n",
              "3         9.84               14.395        75     0.0000     13  \n",
              "4         9.84               14.395        75     0.0000      1  \n",
              "5         9.84               12.880        75     6.0032      1  \n",
              "6         9.02               13.635        80     0.0000      2  \n",
              "7         8.20               12.880        86     0.0000      3  \n",
              "8         9.84               14.395        75     0.0000      8  \n",
              "9        13.12               17.425        76     0.0000     14  "
            ]
          },
          "execution_count": 50,
          "metadata": {},
          "output_type": "execute_result"
        }
      ],
      "source": [
        "raw_data.iloc[0:10,:]"
      ]
    },
    {
      "cell_type": "markdown",
      "metadata": {
        "id": "2H2OVe1VnRey"
      },
      "source": [
        "Similarly, we can look at the season of each observation by typing:"
      ]
    },
    {
      "cell_type": "code",
      "execution_count": null,
      "metadata": {
        "collapsed": true,
        "id": "2vI3WHNvnQUR",
        "outputId": "0df2bb04-1b70-41f9-f08e-da7de4a323e0"
      },
      "outputs": [
        {
          "data": {
            "text/html": [
              "<div>\n",
              "<style scoped>\n",
              "    .dataframe tbody tr th:only-of-type {\n",
              "        vertical-align: middle;\n",
              "    }\n",
              "\n",
              "    .dataframe tbody tr th {\n",
              "        vertical-align: top;\n",
              "    }\n",
              "\n",
              "    .dataframe thead th {\n",
              "        text-align: right;\n",
              "    }\n",
              "</style>\n",
              "<table border=\"1\" class=\"dataframe\">\n",
              "  <thead>\n",
              "    <tr style=\"text-align: right;\">\n",
              "      <th></th>\n",
              "      <th>season</th>\n",
              "    </tr>\n",
              "  </thead>\n",
              "  <tbody>\n",
              "    <tr>\n",
              "      <th>0</th>\n",
              "      <td>1</td>\n",
              "    </tr>\n",
              "    <tr>\n",
              "      <th>1</th>\n",
              "      <td>1</td>\n",
              "    </tr>\n",
              "    <tr>\n",
              "      <th>2</th>\n",
              "      <td>1</td>\n",
              "    </tr>\n",
              "    <tr>\n",
              "      <th>3</th>\n",
              "      <td>1</td>\n",
              "    </tr>\n",
              "    <tr>\n",
              "      <th>4</th>\n",
              "      <td>1</td>\n",
              "    </tr>\n",
              "    <tr>\n",
              "      <th>...</th>\n",
              "      <td>...</td>\n",
              "    </tr>\n",
              "    <tr>\n",
              "      <th>17374</th>\n",
              "      <td>1</td>\n",
              "    </tr>\n",
              "    <tr>\n",
              "      <th>17375</th>\n",
              "      <td>1</td>\n",
              "    </tr>\n",
              "    <tr>\n",
              "      <th>17376</th>\n",
              "      <td>1</td>\n",
              "    </tr>\n",
              "    <tr>\n",
              "      <th>17377</th>\n",
              "      <td>1</td>\n",
              "    </tr>\n",
              "    <tr>\n",
              "      <th>17378</th>\n",
              "      <td>1</td>\n",
              "    </tr>\n",
              "  </tbody>\n",
              "</table>\n",
              "<p>17379 rows × 1 columns</p>\n",
              "</div>"
            ],
            "text/plain": [
              "       season\n",
              "0           1\n",
              "1           1\n",
              "2           1\n",
              "3           1\n",
              "4           1\n",
              "...       ...\n",
              "17374       1\n",
              "17375       1\n",
              "17376       1\n",
              "17377       1\n",
              "17378       1\n",
              "\n",
              "[17379 rows x 1 columns]"
            ]
          },
          "execution_count": 51,
          "metadata": {},
          "output_type": "execute_result"
        }
      ],
      "source": [
        "# Here we want to print one column, the season column, so we could also say raw_data.iloc[:,1], but since we\n",
        "# want it printed in a nice table, we can refer to the first column with raw_data.iloc[:,1:2].\n",
        "\n",
        "raw_data.iloc[:,1:2]"
      ]
    },
    {
      "cell_type": "markdown",
      "metadata": {
        "id": "hSnuRco-frub"
      },
      "source": [
        "Or just type the column name of the one that you want to print."
      ]
    },
    {
      "cell_type": "code",
      "execution_count": null,
      "metadata": {
        "collapsed": true,
        "id": "LqjmhHUrfruc",
        "outputId": "452be7fa-7664-4e15-b76f-2b0e57fb9576"
      },
      "outputs": [
        {
          "data": {
            "text/plain": [
              "0        1\n",
              "1        1\n",
              "2        1\n",
              "3        1\n",
              "4        1\n",
              "        ..\n",
              "17374    1\n",
              "17375    1\n",
              "17376    1\n",
              "17377    1\n",
              "17378    1\n",
              "Name: season, Length: 17379, dtype: int64"
            ]
          },
          "execution_count": 16,
          "metadata": {},
          "output_type": "execute_result"
        }
      ],
      "source": [
        "raw_data['season']"
      ]
    },
    {
      "cell_type": "markdown",
      "metadata": {
        "id": "YecAXsY44kG2"
      },
      "source": [
        "Now create subsets for the following requirements, give them appropriate names, and print their head:\n",
        "\n",
        "1. Season of Spring and Summer, only from Monday to Wednesday\n",
        "2. Working day from 08:00 to 20:00, or a non-working day\n",
        "3. Light rainy holidays (excluding holidays during the weekend)\n",
        "4. Monday to Friday, with holidays, that had more than 20 bikes rented\n",
        "5. The last 10 cases in the dataset <div style='text-align: right;'>**9 points**</div>"
      ]
    },
    {
      "cell_type": "code",
      "execution_count": null,
      "metadata": {
        "id": "hIA5Ste24kG4"
      },
      "outputs": [],
      "source": [
        "# your code/answer here"
      ]
    },
    {
      "cell_type": "code",
      "execution_count": null,
      "metadata": {
        "id": "zwxXUmvt4kG9"
      },
      "outputs": [],
      "source": [
        "# your code/answer here"
      ]
    },
    {
      "cell_type": "code",
      "execution_count": null,
      "metadata": {
        "id": "-Qo8cLka4kHA"
      },
      "outputs": [],
      "source": [
        "# your code/answer here"
      ]
    },
    {
      "cell_type": "code",
      "execution_count": null,
      "metadata": {
        "id": "yncxB_Oj4kHD"
      },
      "outputs": [],
      "source": [
        "# your code/answer here"
      ]
    },
    {
      "cell_type": "code",
      "execution_count": null,
      "metadata": {
        "id": "0Hse0pYafrud"
      },
      "outputs": [],
      "source": [
        "# your code/answer here"
      ]
    },
    {
      "cell_type": "markdown",
      "metadata": {
        "id": "SSEBHrDp4kGy"
      },
      "source": [
        "### Exercise 4\n",
        "If we are interested in the distribution of weather over each weekday, we can use the `groupby` command"
      ]
    },
    {
      "cell_type": "code",
      "execution_count": null,
      "metadata": {
        "collapsed": true,
        "id": "2gSDrZh54kGy",
        "outputId": "61c8f942-8b02-4477-df84-44e75d388fcb"
      },
      "outputs": [
        {
          "data": {
            "text/html": [
              "<div>\n",
              "<style scoped>\n",
              "    .dataframe tbody tr th:only-of-type {\n",
              "        vertical-align: middle;\n",
              "    }\n",
              "\n",
              "    .dataframe tbody tr th {\n",
              "        vertical-align: top;\n",
              "    }\n",
              "\n",
              "    .dataframe thead th {\n",
              "        text-align: right;\n",
              "    }\n",
              "</style>\n",
              "<table border=\"1\" class=\"dataframe\">\n",
              "  <thead>\n",
              "    <tr style=\"text-align: right;\">\n",
              "      <th>weathersit</th>\n",
              "      <th>1</th>\n",
              "      <th>2</th>\n",
              "      <th>3</th>\n",
              "      <th>4</th>\n",
              "    </tr>\n",
              "    <tr>\n",
              "      <th>weekday</th>\n",
              "      <th></th>\n",
              "      <th></th>\n",
              "      <th></th>\n",
              "      <th></th>\n",
              "    </tr>\n",
              "  </thead>\n",
              "  <tbody>\n",
              "    <tr>\n",
              "      <th>0</th>\n",
              "      <td>1765.0</td>\n",
              "      <td>568.0</td>\n",
              "      <td>169.0</td>\n",
              "      <td>NaN</td>\n",
              "    </tr>\n",
              "    <tr>\n",
              "      <th>1</th>\n",
              "      <td>1582.0</td>\n",
              "      <td>726.0</td>\n",
              "      <td>170.0</td>\n",
              "      <td>1.0</td>\n",
              "    </tr>\n",
              "    <tr>\n",
              "      <th>2</th>\n",
              "      <td>1522.0</td>\n",
              "      <td>694.0</td>\n",
              "      <td>237.0</td>\n",
              "      <td>NaN</td>\n",
              "    </tr>\n",
              "    <tr>\n",
              "      <th>3</th>\n",
              "      <td>1568.0</td>\n",
              "      <td>613.0</td>\n",
              "      <td>293.0</td>\n",
              "      <td>1.0</td>\n",
              "    </tr>\n",
              "    <tr>\n",
              "      <th>4</th>\n",
              "      <td>1656.0</td>\n",
              "      <td>636.0</td>\n",
              "      <td>179.0</td>\n",
              "      <td>NaN</td>\n",
              "    </tr>\n",
              "    <tr>\n",
              "      <th>5</th>\n",
              "      <td>1645.0</td>\n",
              "      <td>659.0</td>\n",
              "      <td>183.0</td>\n",
              "      <td>NaN</td>\n",
              "    </tr>\n",
              "    <tr>\n",
              "      <th>6</th>\n",
              "      <td>1675.0</td>\n",
              "      <td>648.0</td>\n",
              "      <td>188.0</td>\n",
              "      <td>1.0</td>\n",
              "    </tr>\n",
              "  </tbody>\n",
              "</table>\n",
              "</div>"
            ],
            "text/plain": [
              "weathersit       1      2      3    4\n",
              "weekday                              \n",
              "0           1765.0  568.0  169.0  NaN\n",
              "1           1582.0  726.0  170.0  1.0\n",
              "2           1522.0  694.0  237.0  NaN\n",
              "3           1568.0  613.0  293.0  1.0\n",
              "4           1656.0  636.0  179.0  NaN\n",
              "5           1645.0  659.0  183.0  NaN\n",
              "6           1675.0  648.0  188.0  1.0"
            ]
          },
          "execution_count": 85,
          "metadata": {},
          "output_type": "execute_result"
        }
      ],
      "source": [
        "raw_data.groupby('weekday')['weathersit'].value_counts().unstack()"
      ]
    },
    {
      "cell_type": "markdown",
      "metadata": {
        "id": "5-vfCBPZfrue"
      },
      "source": [
        "By doing ```unstack``` we are transforming the last level of the index to the columns. All the weather situation values are now the columns of the dataframe and when a weather situation has not occurred on a weekday, the correcponding position in the table gets a ```NaN``` value. For example the table above shows that there is no Wednesday with heavy rain in the dataset."
      ]
    },
    {
      "cell_type": "markdown",
      "metadata": {
        "id": "mk0L2cz24kHG"
      },
      "source": [
        "Now create groups for the following criteria, and print their table:\n",
        "\n",
        "1. Season and working days. Interpret, in words, what the first row of the table shows.\n",
        "2. Month and temperature in 10 sections (hint, use the pandas function `pd.cut()` to create bins of continuous data)<div style='text-align: right;'>**4 points**</div>"
      ]
    },
    {
      "cell_type": "code",
      "execution_count": null,
      "metadata": {
        "id": "R9213WbQ4kHH"
      },
      "outputs": [],
      "source": [
        "# your code/answer here"
      ]
    },
    {
      "cell_type": "code",
      "execution_count": null,
      "metadata": {
        "id": "bwRVgT2L4kHL"
      },
      "outputs": [],
      "source": [
        "# your code/answer here"
      ]
    },
    {
      "cell_type": "markdown",
      "metadata": {
        "id": "xPdL8OY74kHO"
      },
      "source": [
        "### Exercise 5"
      ]
    },
    {
      "cell_type": "markdown",
      "metadata": {
        "id": "9j0BYQPE4kHP"
      },
      "source": [
        "Plotting your data (correctly) is very important. There are many possible plots you could use and some are better than others for a given dataset or data type. To create nice plots, we will be using the `Seaborn` library, which is based on Matplotlib. In the very first cell of this notebook, where we imported libraries, we already included this library with `import seaborn as sns`. Below are some examples of use."
      ]
    },
    {
      "cell_type": "code",
      "execution_count": null,
      "metadata": {
        "collapsed": true,
        "id": "9_YbF8YR4kHQ",
        "outputId": "ee34461f-4c82-4f96-f940-2e922687a841"
      },
      "outputs": [
        {
          "data": {
            "image/png": "[encoded data removed]",
            "text/plain": [
              "<Figure size 432x360 with 1 Axes>"
            ]
          },
          "metadata": {},
          "output_type": "display_data"
        }
      ],
      "source": [
        "plt.figure(figsize=(6,5))\n",
        "sns.countplot(x=raw_data['weathersit'])\n",
        "plt.show()"
      ]
    },
    {
      "cell_type": "code",
      "execution_count": null,
      "metadata": {
        "collapsed": true,
        "id": "fZunQTDdfruo",
        "outputId": "db56eb10-68b6-44c0-8027-7709e08dca80"
      },
      "outputs": [
        {
          "data": {
            "text/plain": [
              "<Figure size 576x360 with 0 Axes>"
            ]
          },
          "metadata": {},
          "output_type": "display_data"
        },
        {
          "data": {
            "image/png": "[encoded data removed]",
            "text/plain": [
              "<Figure size 360x360 with 1 Axes>"
            ]
          },
          "metadata": {},
          "output_type": "display_data"
        }
      ],
      "source": [
        "plt.figure(figsize=(8,5))\n",
        "sns.displot(x=raw_data['feeling temperature'], kde=False, rug=False, bins = 20)\n",
        "plt.show()"
      ]
    },
    {
      "cell_type": "markdown",
      "metadata": {
        "id": "1Bpy3eRpfrup"
      },
      "source": [
        "We can construct a box plot for a single variable with the following snippet:"
      ]
    },
    {
      "cell_type": "code",
      "execution_count": null,
      "metadata": {
        "collapsed": true,
        "id": "rUpWoegv4kHT",
        "outputId": "a3b66b71-2ba3-4c46-9845-86ce4dca3db4"
      },
      "outputs": [
        {
          "data": {
            "image/png": "[encoded data removed]",
            "text/plain": [
              "<Figure size 144x576 with 1 Axes>"
            ]
          },
          "metadata": {},
          "output_type": "display_data"
        }
      ],
      "source": [
        "plt.figure(figsize=(2,8))\n",
        "sns.boxplot(y = raw_data['windspeed'])\n",
        "plt.show()"
      ]
    },
    {
      "cell_type": "markdown",
      "metadata": {
        "id": "zJdu9QObfrup"
      },
      "source": [
        "The purpose of a boxplot is to provide a thumbnail sketch of a variable for the purpose of comparing across several categories. So we can, for example, compare the temperature across the four seasons like this:"
      ]
    },
    {
      "cell_type": "code",
      "execution_count": null,
      "metadata": {
        "collapsed": true,
        "id": "_4-Rphxv4kHW",
        "outputId": "cdbdb681-5a5f-4309-f93b-dd0c39f02ac0"
      },
      "outputs": [
        {
          "data": {
            "image/png": "[encoded data removed]",
            "text/plain": [
              "<Figure size 576x576 with 1 Axes>"
            ]
          },
          "metadata": {},
          "output_type": "display_data"
        }
      ],
      "source": [
        "plt.figure(figsize=(8,8))\n",
        "sns.boxplot(x = raw_data['season'], y = raw_data['temperature'])\n",
        "plt.show()"
      ]
    },
    {
      "cell_type": "markdown",
      "metadata": {
        "id": "5eMh2486fruq"
      },
      "source": [
        "For visualization of associations, we usually use scatter plots. For example, let's plot the scatter plot of the number of bikes rented versus temperature:"
      ]
    },
    {
      "cell_type": "code",
      "execution_count": null,
      "metadata": {
        "collapsed": true,
        "id": "Vu9BjJE9fruq",
        "outputId": "2c401f77-8b86-47bf-8366-32bd07289f2e"
      },
      "outputs": [
        {
          "data": {
            "text/plain": [
              "Text(0.5, 1.0, 'Count vs Temperature')"
            ]
          },
          "execution_count": 63,
          "metadata": {},
          "output_type": "execute_result"
        },
        {
          "data": {
            "image/png": "[encoded data removed]",
            "text/plain": [
              "<Figure size 720x576 with 1 Axes>"
            ]
          },
          "metadata": {},
          "output_type": "display_data"
        }
      ],
      "source": [
        "plt.figure(figsize=(10,8))\n",
        "sns.scatterplot(x = raw_data['temperature'], y = raw_data['count'])\n",
        "plt.title(\"Count vs Temperature\", fontsize = \"xx-large\")"
      ]
    },
    {
      "cell_type": "markdown",
      "metadata": {
        "id": "mTURy8G-frur"
      },
      "source": [
        "Looking at the scatter plot of the number of rented bikes versus temperature, what can we say about the association between these two variables?  As the temperature increases, the number of rented bikes increases but at around 27 degrees, rentals begin to decrease again. Thus, bike rentals and temperature are associated."
      ]
    },
    {
      "cell_type": "markdown",
      "metadata": {
        "id": "kOLmX9NBfrur"
      },
      "source": [
        "Now let's look at the scatter plot of the number of rented bikes versus season:"
      ]
    },
    {
      "cell_type": "code",
      "execution_count": null,
      "metadata": {
        "collapsed": true,
        "id": "UjKlKd8wfrur",
        "outputId": "04d3d942-536d-40f4-e15a-9747df659ad7"
      },
      "outputs": [
        {
          "data": {
            "text/plain": [
              "Text(0.5, 1.0, 'Count vs Season')"
            ]
          },
          "execution_count": 30,
          "metadata": {},
          "output_type": "execute_result"
        },
        {
          "data": {
            "image/png": "[encoded data removed]",
            "text/plain": [
              "<Figure size 500x800 with 1 Axes>"
            ]
          },
          "metadata": {},
          "output_type": "display_data"
        }
      ],
      "source": [
        "plt.figure(figsize=(5,8))\n",
        "sns.scatterplot(x = raw_data['season'], y = raw_data['count'])\n",
        "plt.title(\"Count vs Season\", fontsize = \"xx-large\")"
      ]
    },
    {
      "cell_type": "markdown",
      "metadata": {
        "id": "THyOy7F0frus"
      },
      "source": [
        "As can be seen in the plot, it is hard to assess association as the explanatory variable is categorical. In cases like this, a box plot makes it easier to search for association:"
      ]
    },
    {
      "cell_type": "code",
      "execution_count": null,
      "metadata": {
        "collapsed": true,
        "id": "5XtE0dDjfrus",
        "outputId": "d562cadc-fa19-4b1e-ef06-3ae3d148964e"
      },
      "outputs": [
        {
          "data": {
            "image/png": "[encoded data removed]",
            "text/plain": [
              "<Figure size 800x800 with 1 Axes>"
            ]
          },
          "metadata": {},
          "output_type": "display_data"
        }
      ],
      "source": [
        "plt.figure(figsize=(8,8))\n",
        "sns.boxplot(x = raw_data['season'], y = raw_data['count'])\n",
        "plt.show()"
      ]
    },
    {
      "cell_type": "markdown",
      "metadata": {
        "id": "KVkTksIpfrus"
      },
      "source": [
        "In the above plot, it can be seen that the number of rented bikes is associated with the season as the median of the count changes with different seasons."
      ]
    },
    {
      "cell_type": "markdown",
      "metadata": {
        "id": "WzBzGctv4kHc"
      },
      "source": [
        "Now it is time for you to create some plots! Use the pandas documentation to see the different kinds of plots you can use, as well as more options. Answer the following questions, and motivate your answers with plots.\n",
        "\n",
        "1. What do you think is more strongly associated with the number of rented bikes, the weather situation, or the feeling temperature being lower/higher than 35? (Note: you can use two box plots, one for each variable, and compare associations)\n",
        "2. Are more bikes rented on non-working days vs working days?\n",
        "3. Is there an association between the feeling temperature and humidity?\n",
        "4. Which month has the largest total number of bike rentals? (Note: you can use \"sns.barplot(x = , y = ,...)\" to make a bar plot)\n",
        "5. Can you figure out which of the four variables: temperature, feeling temperature, humidity, and windspeed, are most strongly associated with the number of rented bikes?   <div style='text-align: right;'>**10 points**</div>\n",
        "\n"
      ]
    },
    {
      "cell_type": "code",
      "execution_count": null,
      "metadata": {
        "id": "JLbpiicD4kHc"
      },
      "outputs": [],
      "source": [
        "# your code/answer here"
      ]
    },
    {
      "cell_type": "code",
      "execution_count": null,
      "metadata": {
        "id": "LVgEMK-Tfrut"
      },
      "outputs": [],
      "source": [
        "# your code/answer here"
      ]
    },
    {
      "cell_type": "code",
      "execution_count": null,
      "metadata": {
        "id": "olj_bx3d4kHf"
      },
      "outputs": [],
      "source": [
        "# your code/answer here"
      ]
    },
    {
      "cell_type": "code",
      "execution_count": null,
      "metadata": {
        "id": "jUMgUGXi4kHk"
      },
      "outputs": [],
      "source": [
        "# your code/answer here"
      ]
    },
    {
      "cell_type": "code",
      "execution_count": null,
      "metadata": {
        "id": "ByAGcSye4kHo"
      },
      "outputs": [],
      "source": [
        "# your code/answer here"
      ]
    },
    {
      "cell_type": "code",
      "execution_count": null,
      "metadata": {
        "id": "L0L_imwPfruv"
      },
      "outputs": [],
      "source": [
        "# your code/answer here"
      ]
    }
  ],
  "metadata": {
    "colab": {
      "provenance": []
    },
    "kernelspec": {
      "display_name": "Python 3 (ipykernel)",
      "language": "python",
      "name": "python3"
    },
    "language_info": {
      "codemirror_mode": {
        "name": "ipython",
        "version": 3
      },
      "file_extension": ".py",
      "mimetype": "text/x-python",
      "name": "python",
      "nbconvert_exporter": "python",
      "pygments_lexer": "ipython3",
      "version": "3.9.7"
    }
  },
  "nbformat": 4,
  "nbformat_minor": 0
}