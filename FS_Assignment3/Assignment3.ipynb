{
 "cells": [
  {
   "cell_type": "markdown",
   "id": "89db0e4d",
   "metadata": {
    "colab_type": "text",
    "id": "-lTF-NZxR3p8"
   },
   "source": [
    "# Assignment 3\n",
    "\n",
    "### Dependent and independent t-tests"
   ]
  },
  {
   "cell_type": "markdown",
   "id": "d78b5066",
   "metadata": {
    "colab_type": "text",
    "id": "dHAIIUstR3p_"
   },
   "source": [
    "### Dataset"
   ]
  },
  {
   "cell_type": "markdown",
   "id": "fc513acc",
   "metadata": {
    "colab_type": "text",
    "id": "6tcatmpfR3qA"
   },
   "source": [
    "Retirement homes are multi-residence housing facilities intended for the elderly, for a temporary or definitive stay. A problem for elderly people is feeling lonely, and the need for interaction. This is where AI can help. Robot pets (i.e., a robot on the inside, stuffed animal on the outside) that react to touch, voice, and act by themselves, can (perhaps) combat this loneliness (real pets usually aren't allowed inside retirement homes).\n",
    "\n",
    "In today's workgroup you will analyse data from a study interested in investigating the effectiveness of robot pets in combatting loneliness. In this study, the loneliness of elderly people was measured with a questionaire, both at the start of the study (pre-test), and after spending 3 months with their robot pet (post-test). These questions were summarized into two loneliness scores for each individual (one pre- and one post-test score). Elderly were randomly divided into two groups, one group who received a robot dog and another who received a robot cat."
   ]
  },
  {
   "cell_type": "code",
   "execution_count": null,
   "id": "d1c61b23",
   "metadata": {
    "colab": {},
    "colab_type": "code",
    "id": "iUh4vyblR3qA"
   },
   "outputs": [],
   "source": [
    "import pandas as pd\n",
    "import numpy as np\n",
    "import matplotlib.pyplot as plt\n",
    "import seaborn as sns\n",
    "from scipy import stats\n",
    "import math\n",
    "\n",
    "sns.set_style(\"whitegrid\")"
   ]
  },
  {
   "cell_type": "markdown",
   "id": "d11f3761",
   "metadata": {
    "colab_type": "text",
    "id": "FrpVOE_YAH5G"
   },
   "source": [
    "### Exercise 1"
   ]
  },
  {
   "cell_type": "markdown",
   "id": "f4cc1ea1",
   "metadata": {
    "colab_type": "text",
    "id": "F7Dan0VdwbLM"
   },
   "source": [
    "We are interested in whether the robot pets affect loneliness. \n",
    "\n",
    "1. Describe a hypothesis that tests this. Is this a dependent or independent test (i.e., paired or unpaired data)?\n",
    "2. Load the data set and print out the keys.\n",
    "3. Before doing a statistical test, it is always a good idea to have a look at your data. Choose an appropriate plot to visualize the data. Properly annotate the plot with axes labels and a figure legend.<div style='text-align: right;'>**4 points**</div>"
   ]
  },
  {
   "cell_type": "code",
   "execution_count": null,
   "id": "9b234251",
   "metadata": {},
   "outputs": [],
   "source": [
    "# your code/answer here\n",
    "#Answer1.\n",
    "#Hypothesis of this test is that loneliness scores of older people are less lonely after using a robotic pet than before.\n",
    "#Null hypothesis is robot pets will not change the loneliness.\n",
    "#This is dependent test because the loneliness of the same person is measured before and after use.\n",
    "#Thus, paired data are obtained.\n"
   ]
  },
  {
   "cell_type": "code",
   "execution_count": null,
   "id": "e673b5d9",
   "metadata": {},
   "outputs": [],
   "source": [
    "# your code/answer here\n",
    "#Answer2.\n",
    "dataframe = pd.read_csv('Loneliness.csv')\n",
    "\n",
    "print(dataframe.columns)"
   ]
  },
  {
   "cell_type": "markdown",
   "id": "0258fa18",
   "metadata": {
    "colab_type": "text",
    "id": "Za34zk5jR3qI"
   },
   "source": [
    "Before we can do a statistical test on the data, we will first create a list/array of all the differences of the scores before and after the treatment, such that $$x_{\\Delta} = x_{t2}-x_{t1}$$"
   ]
  },
  {
   "cell_type": "code",
   "execution_count": null,
   "id": "ea6ee193",
   "metadata": {
    "colab": {},
    "colab_type": "code",
    "id": "Cs9F5YPUVcbZ"
   },
   "outputs": [],
   "source": [
    "# your code/answer here\n",
    "#Answer3.\n",
    "#xΔ = xt2 - xt1\n",
    "#xΔ difference\n",
    "#xt2 After using Robot Pet\n",
    "#xt1 Before using Robot Pet\n",
    "\n",
    "dataframe[\"Difference\"] = dataframe[\"Lon_t2\"] - dataframe[\"Lon_t1\"]\n",
    "print(dataframe.head())\n",
    "\n",
    "#Indivisual result\n",
    "for i in range(len(dataframe)):\n",
    "    group = dataframe.loc[i, \"Group\"]\n",
    "    plt.plot([\"Before\", \"After\"], \n",
    "             [dataframe.loc[i, \"Lon_t1\"], dataframe.loc[i, \"Lon_t2\"]], marker=\"x\")\n",
    "\n",
    "\n",
    "plt.ylabel(\"Loneliness score\")\n",
    "plt.grid()\n",
    "plt.title(\"Indivisua change in loneliness\")\n",
    "plt.show()\n",
    "\n",
    "#Group mean result\n",
    "for group in [1, 2]:\n",
    "    group_data = dataframe[dataframe[\"Group\"] == group]\n",
    "    plt.plot([\"Before\", \"After\"],\n",
    "             [group_data['Lon_t1'].mean(), group_data['Lon_t2'].mean()],marker='o', label=f'Group {group}')\n",
    "\n",
    "plt.legend()\n",
    "plt.grid()\n",
    "plt.title(\"Group mean\")\n",
    "plt.show()"
   ]
  },
  {
   "cell_type": "markdown",
   "id": "470a8e3c",
   "metadata": {
    "colab_type": "text",
    "id": "1WkEIp2ixh6f"
   },
   "source": [
    "### Exercise 2\n",
    "\n",
    "Now that we have these scores we can do a t-test for paired data. \n",
    "\n",
    "1. First, let's calculate the mean, standard deviation, and the number of observations. Create a separate variable for each of these. \n",
    "2. Now that we have these values, calculate the standard error (SE).\n",
    "3. Now calculate the t-score according to the formula: $$t = \\frac{\\bar{x}_{diff} - \\mu_{expected}}{SE_{\\bar{x}_{diff}}}$$\n",
    "\n",
    "4. Now that we got our t-score, we normally would look it up in a table, or use a function to calculate that for us. Write a function that takes a t-score, degrees of freedom, and a variable specifying one-sided or two-sided test and returns a p-value. You can use the `stats.t.sf` function from the scipy toolbox.\n",
    "5. Use the function you wrote above to compute the p-value for your t-score, degrees of freedom and type of test.\n",
    "6. For a signficance level of $\\alpha = $ 0.05, formulate a conclusion about the hypothesis you specified in Exercise 1.<div style='text-align: right;'>**7 points**</div>"
   ]
  },
  {
   "cell_type": "code",
   "execution_count": null,
   "id": "b930e281",
   "metadata": {
    "colab": {},
    "colab_type": "code",
    "id": "3Vh9n6LYjGGF"
   },
   "outputs": [],
   "source": [
    "# your code/answer here\n",
    "\n",
    "delta = dataframe[\"Lon_t2\"] - dataframe[\"Lon_t1\"]\n",
    "mean = delta.mean()\n",
    "\n",
    "std = delta.std()\n",
    "\n",
    "number = delta.count()\n",
    "\n",
    "print(f\"mean is : {mean}\")\n",
    "print(f\"standard deviation is : {std}\")\n",
    "print(f\"number of observation is : {number}\")"
   ]
  },
  {
   "cell_type": "code",
   "execution_count": null,
   "id": "0c1f945e",
   "metadata": {
    "colab": {},
    "colab_type": "code",
    "id": "GN2yIGWvizzM"
   },
   "outputs": [],
   "source": [
    "# your code/answer here\n",
    "#SE = Standard deviation/√number of observation\n",
    "\n",
    "se = std / math.sqrt(number)\n",
    "print(f\"SE is : {se}\")"
   ]
  },
  {
   "cell_type": "code",
   "execution_count": null,
   "id": "5d431638",
   "metadata": {
    "colab": {},
    "colab_type": "code",
    "id": "GRMAC2PSAH5i"
   },
   "outputs": [],
   "source": [
    "# your code/answer here\n",
    "#According to general formula\n",
    "#x_diff is mean\n",
    "#𝜇expected is expected mean\n",
    "#SE_xdiff is se we previously calcuated.\n",
    "\n",
    "expected = 0\n",
    "t_value = (mean -expected) / se\n",
    "\n",
    "print(f\"t score (t) is : {t_value}\")"
   ]
  },
  {
   "cell_type": "code",
   "execution_count": null,
   "id": "b378818b",
   "metadata": {},
   "outputs": [],
   "source": [
    "# your code/answer here\n",
    "\n",
    "def calculate_p(t_value, df, one_sided=False):\n",
    "    #Calculate one-sided probability.\n",
    "    p = stats.t.sf(abs(t_value), df)\n",
    "\n",
    "    #if true, return p.\n",
    "    if one_sided:\n",
    "        return p\n",
    "    #if false, return the both side.\n",
    "    else:\n",
    "        return p*2"
   ]
  },
  {
   "cell_type": "code",
   "execution_count": null,
   "id": "49dca2a4",
   "metadata": {},
   "outputs": [],
   "source": [
    "# your code/answer here\n",
    "#degrees of freedom is observerd number - 1\n",
    "df = number -1 \n",
    "\n",
    "p = calculate_p(t_value, df, one_sided=False)\n",
    "\n",
    "print(f\"p value is : {p}\")\n",
    "\n",
    "#p value is : 5.264906242767012e-07\n",
    "#This is 5.264906242767012 × 10^(-7) = 0.0000005264...\n",
    "#This mean the robot per has a very strong and significant result for loneliness."
   ]
  },
  {
   "cell_type": "code",
   "execution_count": null,
   "id": "d44e9785",
   "metadata": {},
   "outputs": [],
   "source": [
    "# your code/answer here\n",
    "#At α = 0.05, the p-value obtained is very small at 0.0000005264....\n",
    "#So,  p < α, the null hypothesis can be rejected.\n",
    "#It is highly likely that the use of robotic pets has led to siginificant changes in the loneliness scores of older people."
   ]
  },
  {
   "cell_type": "markdown",
   "id": "537e582d",
   "metadata": {
    "colab_type": "text",
    "id": "Dnkq53sAR3qj"
   },
   "source": [
    "### Exercise 3\n",
    "\n",
    "We have investigated whether the robots have a statistical impact on loneliness. Now we're going to look at which robot pet performed better, the dog or the cat? For this we will again look at the difference scores between the pre- and the post-test for each pet. Specifically, we will investigate whether the change in loneliness between the pre-test and the post-test is different between the cats and dogs."
   ]
  },
  {
   "cell_type": "markdown",
   "id": "c77cae2b",
   "metadata": {
    "colab_type": "text",
    "id": "UEry80BZAH6B"
   },
   "source": [
    "1. Formulate the hypothesis for this test. Is this a dependent or independent test (paired or unpaired data)?\n",
    "2. Extract the relevant data points and put them into distinct variables.\n",
    "3. Choose an appropriate plot to visualize the data and label it properly.\n",
    "4. Compute the mean, standard deviation and number of observations in each group and store them in separate variables. \n",
    "5. Calculate the standard error (SE) of this modelled distribution. Since we take the sample difference of the means, the SE is calculated as follows:\n",
    "\n",
    "$$SE_{\\bar{x}_{group1} - \\bar{x}_{group2}} = \\sqrt{\\dfrac{s^{2}_{group1}}{n_{group1}}+\\dfrac{s^{2}_{group2}}{n_{group2}}}$$\n",
    "\n",
    "6. Calculate the t-statistic and the p-value. Keep in mind that we are using a t-distribution of the sample difference of two means. \n",
    "7. Finally, use the p-value and a signficance level of $\\alpha =$ 0.05 to draw a conclusion about the hypothesis you formulated in item 1.\n",
    "8. A typical example of how statistical tests results are formulated in scientific papers is as follows: \n",
    "\"*We observed a significantly higher test score for group1 (M=, SD=) than group2 (M= , SD= ) with t(df)= and p= .*\"\n",
    "Formulate the result of your statistical test in this format.<div style='text-align: right;'>**8 points**</div>"
   ]
  },
  {
   "cell_type": "code",
   "execution_count": null,
   "id": "5b5f7ded",
   "metadata": {
    "colab": {},
    "colab_type": "code",
    "id": "bh89FjEupezm"
   },
   "outputs": [],
   "source": [
    "# your code/answer here\n",
    "#Answer1\n",
    "#First, formulate the hypothesis\n",
    "#Hypothesis is there is a difference between the effects of robotic dogs and robotic cats.\n",
    "#Null hypothesis is there is no difference in the effect (change in loneliness) between robotic dogs and robotic cats.\n",
    "\n",
    "#In other words, is there a difference in the change in loneliness between dogs and cats?\n",
    "\n",
    "#Also, this is an independent test (unpaired)\n",
    "#Because to compare separate groups like\n",
    "#Group 1: Older people using a dog robot\n",
    "#Group 2: Older people using a cat robot\n",
    "\n",
    "#In other words, people in the dog group and people in the cat group are separate people \n",
    "#and there is no association between these two groups."
   ]
  },
  {
   "cell_type": "code",
   "execution_count": null,
   "id": "baf15b7c",
   "metadata": {
    "colab": {},
    "colab_type": "code",
    "id": "EElS2DYNpLWL"
   },
   "outputs": [],
   "source": [
    "# your code/answer here\n",
    "#Anser2\n",
    "dataframe[\"Difference\"] = dataframe[\"Lon_t2\"] - dataframe[\"Lon_t1\"]\n",
    "\n",
    "# Dog group\n",
    "dog_group = dataframe[dataframe[\"Group\"] == 1]\n",
    "dog_diff = dog_group[\"Difference\"]  \n",
    "\n",
    "#Cat group\n",
    "cat_group = dataframe[dataframe[\"Group\"] == 2]\n",
    "cat_diff = cat_group[\"Difference\"]  "
   ]
  },
  {
   "cell_type": "code",
   "execution_count": null,
   "id": "66318625",
   "metadata": {
    "colab": {},
    "colab_type": "code",
    "id": "U1SQ3yA0i_yq"
   },
   "outputs": [],
   "source": [
    "# your code/answer here\n",
    "# Answer 3\n",
    "data = [dog_diff, cat_diff]\n",
    "labels = [\"Dog\", \"Cat\"]\n",
    "plt.boxplot(data, tick_labels=labels)\n",
    "\n",
    "plt.ylabel(\"Change in loneliness score\")\n",
    "plt.xlabel(\"Robot Pet\")\n",
    "\n",
    "plt.title(\"What robot pet reduces loneliness more?\\nDog vs Cat\")\n",
    "plt.grid()\n",
    "plt.show()"
   ]
  },
  {
   "cell_type": "code",
   "execution_count": null,
   "id": "93aeba73",
   "metadata": {
    "colab": {},
    "colab_type": "code",
    "id": "juoZJLHbzFYG"
   },
   "outputs": [],
   "source": [
    "# your code/answer here\n",
    "# Answer 4\n",
    "\n",
    "# DOG GROUP\n",
    "number_dog = len(dog_diff)             # n1\n",
    "mean_dog = dog_diff.mean()             # m1\n",
    "std_dog = dog_diff.std(ddof=1)         # s1        # we need to use ddof=1 to get the *sample* standard deviation (barely makes a difference)\n",
    "\n",
    "\n",
    "# CAT GROUP\n",
    "number_cat = len(cat_diff)             # n2\n",
    "mean_cat = cat_diff.mean()             # m2\n",
    "std_cat = cat_diff.std(ddof=1)         # s2\n",
    "\n",
    "\n",
    "# PRINT\n",
    "print(\"DOG GROUP\")\n",
    "print(f\"number: {number_dog}\")\n",
    "print(f\"mean: {mean_dog:.4f}\")\n",
    "print(f\"standard deviation: {std_dog}\\n\")\n",
    "\n",
    "print(\"CAT GROUP\")\n",
    "print(f\"number: {number_cat}\")\n",
    "print(f\"mean: {mean_cat:.4f}\")\n",
    "print(f\"standard deviation: {std_cat}\")"
   ]
  },
  {
   "cell_type": "code",
   "execution_count": null,
   "id": "5e55e74b",
   "metadata": {
    "colab": {},
    "colab_type": "code",
    "id": "SNwZ9qMh0ZGM"
   },
   "outputs": [],
   "source": [
    "# your code/answer here\n",
    "# Answer 5\n",
    "\n",
    "standard_error = np.sqrt(std_dog**2/number_dog + std_cat**2/number_cat)\n",
    "\n",
    "print(f\"The standard error is {standard_error:.4f}\")\n",
    "print(f\"This means that we can expect the difference between two sample means to jump around by {standard_error:.2f} on average.\")"
   ]
  },
  {
   "cell_type": "code",
   "execution_count": null,
   "id": "12644859",
   "metadata": {},
   "outputs": [],
   "source": [
    "# Answer 6\n",
    "\n",
    "# Is the difference between the two groups big enough so that it would be unlikely to happen just by chance?\n",
    "# t-statistic = how many standard errors are the two samples means apart?\n",
    "# p-value = probability of getting a t-statistic as extreme as the one we got, just by chance\n",
    "\n",
    "t_statistic = (mean_dog - mean_cat) / standard_error\n",
    "\n",
    "# if t-statistic is close to 0, it means that the means are very similar compared to the variability, meaning that the difference is not statistically significant\n",
    "\n",
    "# if t-statistic is far from 0, it means that the means are far apart compared to the noise, suggesting that the difference is statistically significant\n",
    "\n",
    "# degrees of freedom\n",
    "\n",
    "num = (std_dog**2/number_dog + std_cat**2/number_cat)**2\n",
    "\n",
    "den = ((std_dog**2/number_dog)**2 / (number_dog-1) + (std_cat**2/number_cat)**2 / (number_cat-1))\n",
    "\n",
    "df_welch = num / den\n",
    "\n",
    "p_value = calculate_p(t_statistic, df_welch, one_sided=False)\n",
    "\n",
    "# p_value_stats_t_sf = 2 * stats.t.sf(np.abs(t_statistic), df)\n",
    "\n",
    "# stats.t.sf = survival function that calculates the probability of getting something larger than that t-statistic in one tail of the distribution\n",
    "\n",
    "# Times two because were checking in both directions (dog better or cat better)\n",
    "\n",
    "print(f\"t-statistic: {t_statistic:.4f}\") \n",
    "print(f\"The dog group mean is {t_statistic:.1f} standard errors lower than the cat group mean\")\n",
    "print(f\"p-value: {p_value:.4f}\")                # p < 0.05 -> so we reject the null hypothesis"
   ]
  },
  {
   "cell_type": "code",
   "execution_count": null,
   "id": "e424f39a",
   "metadata": {},
   "outputs": [],
   "source": [
    "# Answer 7\n",
    "print(f\"Since the p-value is {p_value:.3f} which is less than 0.05, we reject the null hypothesis.\")\n",
    "print(\"So we conclude that there is a significant difference in the change in loneliness between the dog and cat groups\")"
   ]
  },
  {
   "cell_type": "code",
   "execution_count": null,
   "id": "10363c83",
   "metadata": {},
   "outputs": [],
   "source": [
    "# Answer 8\n",
    "\n",
    "print(f'''We observed a significantly lower test score for the Dog Group (M={mean_dog:.2f}, SD={std_dog:.2f}) \n",
    "than the Cat Group (M= {mean_cat:.2f}, SD= {std_cat:.2f}) with t(df)= {t_statistic:.4f} and p= {p_value:.4f}.''')"
   ]
  },
  {
   "cell_type": "markdown",
   "id": "d36871f3",
   "metadata": {
    "colab_type": "text",
    "id": "o3EsOjuXLEV2"
   },
   "source": [
    "### Exercise 4"
   ]
  },
  {
   "cell_type": "markdown",
   "id": "981d092e",
   "metadata": {
    "colab_type": "text",
    "id": "uPMitNC_0laQ"
   },
   "source": [
    "In Exercises 2 and 3 you implemented the independent and dependent tests yourself, but of course there are libraries that do this. Here we will use those libraries and compare the results to the manual outcomes."
   ]
  },
  {
   "cell_type": "markdown",
   "id": "012502b5",
   "metadata": {
    "colab_type": "text",
    "id": "U6hIS2oCAH6d"
   },
   "source": [
    "1. Use `scipy.stats.ttest_rel(...)` [(documentation)](https://docs.scipy.org/doc/scipy/reference/generated/scipy.stats.ttest_rel.html) to calculate the p-value of the paired t-test, and check whether this answer is the same as the one we calculated above. Note: `scipy.stats` has been imported as `stats`, so you can just use `stats.ttest_rel(...)`.\n",
    "2. Do the outcomes fully agree? Justify your answer.<div style='text-align: right;'>**2 points**</div>"
   ]
  },
  {
   "cell_type": "code",
   "execution_count": null,
   "id": "793dbb52",
   "metadata": {
    "colab": {},
    "colab_type": "code",
    "id": "k4ieHVtj1r0L"
   },
   "outputs": [],
   "source": [
    "# your code/answer here\n",
    "#Anser1\n",
    "before_test = dataframe[\"Lon_t1\"] \n",
    "after_test = dataframe[\"Lon_t2\"]\n",
    "\n",
    "t_rel, p_rel = stats.ttest_rel(after_test, before_test) # the other way around so that we have the same sign\n",
    "\n",
    "print(f\"t value is : {t_rel}\")\n",
    "\n",
    "print(f\"p value is : {p_rel}\")\n",
    "\n",
    "#Answer2\n",
    "print(\"The p-value calculated with scipy matches the manual result as you can see here:\")\n",
    "print(\"p_rel == p ->\", p_rel == p) # naming could have been better"
   ]
  },
  {
   "cell_type": "markdown",
   "id": "c8dec3e8",
   "metadata": {
    "colab_type": "text",
    "id": "blrml7Z82CGQ"
   },
   "source": [
    "### Exercise 5\n",
    "\n",
    "1. Use `scipy.stats.ttest_ind(...)` [(documentation)](https://docs.scipy.org/doc/scipy/reference/generated/scipy.stats.ttest_ind.html) to calculate the p-value of the independent t-test, and check whether the outcome is the same as the one calculated manually above. \n",
    "2. Do the outcomes fully agree? Justify your answer.<div style='text-align: right;'>**2 points**</div>"
   ]
  },
  {
   "cell_type": "code",
   "execution_count": null,
   "id": "63b4f1ec",
   "metadata": {
    "colab": {},
    "colab_type": "code",
    "id": "zL7gWoVz3F8_"
   },
   "outputs": [],
   "source": [
    "# your code/answer here\n",
    "#Answer1\n",
    "t_ind, p_ind = stats.ttest_ind(dog_diff, cat_diff, equal_var=False)\n",
    "\n",
    "\n",
    "print(f\"t value is : {t_ind}\")\n",
    "\n",
    "print(f\"p value is : {p_ind}\")\n",
    "\n",
    "#Answer2\n",
    "\n",
    "print(\"With equal_var=False, we replicate the welch test, giving us the same result as with the manual calculation.\")"
   ]
  },
  {
   "cell_type": "markdown",
   "id": "8bc8fbc3",
   "metadata": {},
   "source": [
    "**Total number of points**: 19"
   ]
  }
 ],
 "metadata": {
  "jupytext": {
   "default_lexer": "ipython3"
  },
  "kernelspec": {
   "display_name": "base",
   "language": "python",
   "name": "python3"
  }
 },
 "nbformat": 4,
 "nbformat_minor": 5
}
