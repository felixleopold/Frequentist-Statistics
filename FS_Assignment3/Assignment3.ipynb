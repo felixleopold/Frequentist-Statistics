{
 "cells": [
  {
   "cell_type": "markdown",
   "metadata": {
    "colab_type": "text",
    "id": "-lTF-NZxR3p8"
   },
   "source": [
    "# Assignment 3\n",
    "\n",
    "### Dependent and independent t-tests"
   ]
  },
  {
   "cell_type": "markdown",
   "metadata": {
    "colab_type": "text",
    "id": "dHAIIUstR3p_"
   },
   "source": [
    "### Dataset"
   ]
  },
  {
   "cell_type": "markdown",
   "metadata": {
    "colab_type": "text",
    "id": "6tcatmpfR3qA"
   },
   "source": [
    "Retirement homes are multi-residence housing facilities intended for the elderly, for a temporary or definitive stay. A problem for elderly people is feeling lonely, and the need for interaction. This is where AI can help. Robot pets (i.e., a robot on the inside, stuffed animal on the outside) that react to touch, voice, and act by themselves, can (perhaps) combat this loneliness (real pets usually aren't allowed inside retirement homes).\n",
    "\n",
    "In today's workgroup you will analyse data from a study interested in investigating the effectiveness of robot pets in combatting loneliness. In this study, the loneliness of elderly people was measured with a questionaire, both at the start of the study (pre-test), and after spending 3 months with their robot pet (post-test). These questions were summarized into two loneliness scores for each individual (one pre- and one post-test score). Elderly were randomly divided into two groups, one group who received a robot dog and another who received a robot cat."
   ]
  },
  {
   "cell_type": "code",
   "execution_count": 1,
   "metadata": {
    "colab": {},
    "colab_type": "code",
    "id": "iUh4vyblR3qA"
   },
   "outputs": [],
   "source": [
    "import pandas as pd\n",
    "import numpy as np\n",
    "import matplotlib.pyplot as plt\n",
    "import seaborn as sns\n",
    "from scipy import stats\n",
    "import math\n",
    "\n",
    "sns.set_style(\"whitegrid\")"
   ]
  },
  {
   "cell_type": "markdown",
   "metadata": {
    "colab_type": "text",
    "id": "FrpVOE_YAH5G"
   },
   "source": [
    "### Exercise 1"
   ]
  },
  {
   "cell_type": "markdown",
   "metadata": {
    "colab_type": "text",
    "id": "F7Dan0VdwbLM"
   },
   "source": [
    "We are interested in whether the robot pets affect loneliness. \n",
    "\n",
    "1. Describe a hypothesis that tests this. Is this a dependent or independent test (i.e., paired or unpaired data)?\n",
    "2. Load the data set and print out the keys.\n",
    "3. Before doing a statistical test, it is always a good idea to have a look at your data. Choose an appropriate plot to visualize the data. Properly annotate the plot with axes labels and a figure legend.<div style='text-align: right;'>**4 points**</div>\n"
   ]
  },
  {
   "cell_type": "code",
   "execution_count": 1,
   "metadata": {},
   "outputs": [],
   "source": [
    "# your code/answer here"
   ]
  },
  {
   "cell_type": "code",
   "execution_count": 2,
   "metadata": {},
   "outputs": [],
   "source": [
    "# your code/answer here"
   ]
  },
  {
   "cell_type": "markdown",
   "metadata": {
    "colab_type": "text",
    "id": "Za34zk5jR3qI"
   },
   "source": [
    "Before we can do a statistical test on the data, we will first create a list/array of all the differences of the scores before and after the treatment, such that $$x_{\\Delta} = x_{t2}-x_{t1}$$"
   ]
  },
  {
   "cell_type": "code",
   "execution_count": 3,
   "metadata": {
    "colab": {},
    "colab_type": "code",
    "id": "Cs9F5YPUVcbZ"
   },
   "outputs": [],
   "source": [
    "# your code/answer here"
   ]
  },
  {
   "cell_type": "markdown",
   "metadata": {
    "colab_type": "text",
    "id": "1WkEIp2ixh6f"
   },
   "source": [
    "### Exercise 2\n",
    "\n",
    "Now that we have these scores we can do a t-test for paired data. \n",
    "\n",
    "1. First, let's calculate the mean, standard deviation, and the number of observations. Create a separate variable for each of these. \n",
    "2. Now that we have these values, calculate the standard error (SE).\n",
    "3. Now calculate the t-score according to the formula: $$t = \\frac{\\bar{x}_{diff} - \\mu_{expected}}{SE_{\\bar{x}_{diff}}}$$\n",
    "\n",
    "4. Now that we got our t-score, we normally would look it up in a table, or use a function to calculate that for us. Write a function that takes a t-score, degrees of freedom, and a variable specifying one-sided or two-sided test and returns a p-value. You can use the `stats.t.sf` function from the scipy toolbox.\n",
    "5. Use the function you wrote above to compute the p-value for your t-score, degrees of freedom and type of test.\n",
    "6. For a signficance level of $\\alpha = $ 0.05, formulate a conclusion about the hypothesis you specified in Exercise 1.<div style='text-align: right;'>**7 points**</div>"
   ]
  },
  {
   "cell_type": "code",
   "execution_count": 42,
   "metadata": {
    "colab": {},
    "colab_type": "code",
    "id": "3Vh9n6LYjGGF"
   },
   "outputs": [],
   "source": [
    "# your code/answer here"
   ]
  },
  {
   "cell_type": "code",
   "execution_count": 4,
   "metadata": {
    "colab": {},
    "colab_type": "code",
    "id": "GN2yIGWvizzM"
   },
   "outputs": [],
   "source": [
    "# your code/answer here"
   ]
  },
  {
   "cell_type": "code",
   "execution_count": 5,
   "metadata": {
    "colab": {},
    "colab_type": "code",
    "id": "GRMAC2PSAH5i"
   },
   "outputs": [],
   "source": [
    "# your code/answer here"
   ]
  },
  {
   "cell_type": "code",
   "execution_count": 6,
   "metadata": {},
   "outputs": [],
   "source": [
    "# your code/answer here"
   ]
  },
  {
   "cell_type": "code",
   "execution_count": 7,
   "metadata": {},
   "outputs": [],
   "source": [
    "# your code/answer here"
   ]
  },
  {
   "cell_type": "code",
   "execution_count": 8,
   "metadata": {},
   "outputs": [],
   "source": [
    "# your code/answer here"
   ]
  },
  {
   "cell_type": "markdown",
   "metadata": {
    "colab_type": "text",
    "id": "Dnkq53sAR3qj"
   },
   "source": [
    "### Exercise 3\n",
    "\n",
    "We have investigated whether the robots have a statistical impact on loneliness. Now we're going to look at which robot pet performed better, the dog or the cat? For this we will again look at the difference scores between the pre- and the post-test for each pet. Specifically, we will investigate whether the change in loneliness between the pre-test and the post-test is different between the cats and dogs. "
   ]
  },
  {
   "cell_type": "markdown",
   "metadata": {
    "colab_type": "text",
    "id": "UEry80BZAH6B"
   },
   "source": [
    "1. Formulate the hypothesis for this test. Is this a dependent or independent test (paired or unpaired data)?\n",
    "2. Extract the relevant data points and put them into distinct variables.\n",
    "3. Choose an appropriate plot to visualize the data and label it properly.\n",
    "4. Compute the mean, standard deviation and number of observations in each group and store them in separate variables. \n",
    "5. Calculate the standard error (SE) of this modelled distribution. Since we take the sample difference of the means, the SE is calculated as follows:\n",
    "\n",
    "$$SE_{\\bar{x}_{group1} - \\bar{x}_{group2}} = \\sqrt{\\dfrac{s^{2}_{group1}}{n_{group1}}+\\dfrac{s^{2}_{group2}}{n_{group2}}}$$\n",
    "\n",
    "6. Calculate the t-statistic and the p-value. Keep in mind that we are using a t-distribution of the sample difference of two means. \n",
    "7. Finally, use the p-value and a signficance level of $\\alpha =$ 0.05 to draw a conclusion about the hypothesis you formulated in item 1.\n",
    "8. A typical example of how statistical tests results are formulated in scientific papers is as follows: \n",
    "\"*We observed a significantly higher test score for group1 (M=, SD=) than group2 (M= , SD= ) with t(df)= and p= .*\"\n",
    "Formulate the result of your statistical test in this format.<div style='text-align: right;'>**8 points**</div>"
   ]
  },
  {
   "cell_type": "code",
   "execution_count": 9,
   "metadata": {
    "colab": {},
    "colab_type": "code",
    "id": "bh89FjEupezm"
   },
   "outputs": [],
   "source": [
    "# your code/answer here"
   ]
  },
  {
   "cell_type": "code",
   "execution_count": 10,
   "metadata": {
    "colab": {},
    "colab_type": "code",
    "id": "EElS2DYNpLWL"
   },
   "outputs": [],
   "source": [
    "# your code/answer here"
   ]
  },
  {
   "cell_type": "code",
   "execution_count": 11,
   "metadata": {
    "colab": {},
    "colab_type": "code",
    "id": "U1SQ3yA0i_yq"
   },
   "outputs": [],
   "source": [
    "# your code/answer here"
   ]
  },
  {
   "cell_type": "code",
   "execution_count": 12,
   "metadata": {
    "colab": {},
    "colab_type": "code",
    "id": "juoZJLHbzFYG"
   },
   "outputs": [],
   "source": [
    "# your code/answer here"
   ]
  },
  {
   "cell_type": "code",
   "execution_count": 13,
   "metadata": {
    "colab": {},
    "colab_type": "code",
    "id": "SNwZ9qMh0ZGM"
   },
   "outputs": [],
   "source": [
    "# your code/answer here"
   ]
  },
  {
   "cell_type": "markdown",
   "metadata": {
    "colab_type": "text",
    "id": "o3EsOjuXLEV2"
   },
   "source": [
    "### Exercise 4"
   ]
  },
  {
   "cell_type": "markdown",
   "metadata": {
    "colab_type": "text",
    "id": "uPMitNC_0laQ"
   },
   "source": [
    "In Exercises 2 and 3 you implemented the independent and dependent tests yourself, but of course there are libraries that do this. Here we will use those libraries and compare the results to the manual outcomes."
   ]
  },
  {
   "cell_type": "markdown",
   "metadata": {
    "colab_type": "text",
    "id": "U6hIS2oCAH6d"
   },
   "source": [
    "1. Use `scipy.stats.ttest_rel(...)` [(documentation)](https://docs.scipy.org/doc/scipy/reference/generated/scipy.stats.ttest_rel.html) to calculate the p-value of the paired t-test, and check whether this answer is the same as the one we calculated above. Note: `scipy.stats` has been imported as `stats`, so you can just use `stats.ttest_rel(...)`.\n",
    "2. Do the outcomes fully agree? Justify your answer.<div style='text-align: right;'>**2 points**</div>"
   ]
  },
  {
   "cell_type": "code",
   "execution_count": 14,
   "metadata": {
    "colab": {},
    "colab_type": "code",
    "id": "k4ieHVtj1r0L"
   },
   "outputs": [],
   "source": [
    "# your code/answer here"
   ]
  },
  {
   "cell_type": "markdown",
   "metadata": {
    "colab_type": "text",
    "id": "blrml7Z82CGQ"
   },
   "source": [
    "### Exercise 5\n",
    "\n",
    "1. Use `scipy.stats.ttest_ind(...)` [(documentation)](https://docs.scipy.org/doc/scipy/reference/generated/scipy.stats.ttest_ind.html) to calculate the p-value of the independent t-test, and check whether the outcome is the same as the one calculated manually above. \n",
    "2. Do the outcomes fully agree? Justify your answer.<div style='text-align: right;'>**2 points**</div>"
   ]
  },
  {
   "cell_type": "code",
   "execution_count": 15,
   "metadata": {
    "colab": {},
    "colab_type": "code",
    "id": "zL7gWoVz3F8_"
   },
   "outputs": [],
   "source": [
    "# your code/answer here"
   ]
  },
  {
   "cell_type": "markdown",
   "metadata": {},
   "source": [
    "**Total number of points**: 19"
   ]
  }
 ],
 "metadata": {
  "colab": {
   "collapsed_sections": [],
   "name": "Assignment 3.ipynb",
   "provenance": []
  },
  "kernelspec": {
   "display_name": "Python 3 (ipykernel)",
   "language": "python",
   "name": "python3"
  },
  "language_info": {
   "codemirror_mode": {
    "name": "ipython",
    "version": 3
   },
   "file_extension": ".py",
   "mimetype": "text/x-python",
   "name": "python",
   "nbconvert_exporter": "python",
   "pygments_lexer": "ipython3",
   "version": "3.9.7"
  }
 },
 "nbformat": 4,
 "nbformat_minor": 1
}
